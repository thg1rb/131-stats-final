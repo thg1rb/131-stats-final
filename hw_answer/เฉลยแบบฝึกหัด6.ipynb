{
  "nbformat": 4,
  "nbformat_minor": 0,
  "metadata": {
    "colab": {
      "provenance": []
    },
    "kernelspec": {
      "name": "python3",
      "display_name": "Python 3"
    },
    "language_info": {
      "name": "python"
    }
  },
  "cells": [
    {
      "cell_type": "markdown",
      "source": [
        "# แบบฝึกหัด 6"
      ],
      "metadata": {
        "id": "U3ArbMi8JHGD"
      }
    },
    {
      "cell_type": "markdown",
      "source": [
        "---"
      ],
      "metadata": {
        "id": "t9RQYuu-JUwP"
      }
    },
    {
      "cell_type": "code",
      "source": [
        "import numpy as np\n",
        "import pandas as pd\n",
        "from scipy import stats\n",
        "from statsmodels.stats.proportion import proportions_ztest\n",
        "import matplotlib.pyplot as plt\n",
        "import seaborn as sns"
      ],
      "metadata": {
        "id": "YY-EeJDrQn80"
      },
      "execution_count": 2,
      "outputs": []
    },
    {
      "cell_type": "markdown",
      "source": [
        "6.1 ร้านค้าออนไลน์ขายเมล็ดพืชหายากชนิดหนึ่ง อ้างว่าเมล็ดที่ขายมีเปอร์เซ็นต์การงอกสูงกว่า 90% จากการทดลองของลูกค้ารายหนึ่งได้สั่งซื้อเมล็ดมาทั้งหมด 100 เมล็ดและพบว่ามี 14 เมล็ดที่ไม่งอก จงทดสอบคำกล่าวอ้างของร้านค้าว่าเป็นจริงหรือไม่ที่ระดับนัยสำคัญ 0.05 หากถือว่าอัตราการงอกของเมล็ดพืชดังกล่าวมีการแจกแจงแบบปกติ"
      ],
      "metadata": {
        "id": "QHjwP-tnOuU5"
      }
    },
    {
      "cell_type": "markdown",
      "source": [
        "กำหนดให้ P แทนสัดส่วนการงอกของเมล็ดจากร้านค้า  \n",
        "\\\n",
        "**สมมติฐาน:**  \n",
        "H0: P<=0.9  \n",
        "H1: P>0.9"
      ],
      "metadata": {
        "id": "LeBZFWGBPiuY"
      }
    },
    {
      "cell_type": "markdown",
      "source": [
        "**ค่า z_cal**:  \n",
        "  "
      ],
      "metadata": {
        "id": "4THJ8YWt07g7"
      }
    },
    {
      "cell_type": "code",
      "source": [
        "z_cal, p_val = proportions_ztest(count=86,\n",
        "                                 nobs=100,\n",
        "                                 value=0.9,\n",
        "                                 alternative='larger',\n",
        "                                 prop_var=0.9)\n",
        "z_cal"
      ],
      "metadata": {
        "colab": {
          "base_uri": "https://localhost:8080/"
        },
        "id": "rkEUdD9vOtoj",
        "outputId": "429d62d1-6627-4523-de60-b182725b8a98"
      },
      "execution_count": 3,
      "outputs": [
        {
          "output_type": "execute_result",
          "data": {
            "text/plain": [
              "-1.3333333333333346"
            ]
          },
          "metadata": {},
          "execution_count": 3
        }
      ]
    },
    {
      "cell_type": "markdown",
      "source": [
        "**หาค่า z_crit:**   "
      ],
      "metadata": {
        "id": "Jkfv62ib31L9"
      }
    },
    {
      "cell_type": "code",
      "source": [
        "z_crit = stats.norm.isf(0.05)\n",
        "print(z_crit)"
      ],
      "metadata": {
        "colab": {
          "base_uri": "https://localhost:8080/"
        },
        "id": "zHJnE0-sNnUP",
        "outputId": "210f9060-b530-4fc7-fa45-e5b7dcd0edc1"
      },
      "execution_count": 4,
      "outputs": [
        {
          "output_type": "stream",
          "name": "stdout",
          "text": [
            "1.6448536269514729\n"
          ]
        }
      ]
    },
    {
      "cell_type": "markdown",
      "source": [
        "**หาค่า p-val:**   "
      ],
      "metadata": {
        "id": "Zc8PcBJF4ffB"
      }
    },
    {
      "cell_type": "code",
      "source": [
        "p_val"
      ],
      "metadata": {
        "colab": {
          "base_uri": "https://localhost:8080/"
        },
        "id": "lrx6KcWQ4pEn",
        "outputId": "48b1eaf4-6f3e-4412-f200-97acef9e438a"
      },
      "execution_count": 5,
      "outputs": [
        {
          "output_type": "execute_result",
          "data": {
            "text/plain": [
              "0.9087887802741323"
            ]
          },
          "metadata": {},
          "execution_count": 5
        }
      ]
    },
    {
      "cell_type": "markdown",
      "source": [
        "**สรุปผล:**   "
      ],
      "metadata": {
        "id": "ZdkECqGz5eeI"
      }
    },
    {
      "cell_type": "markdown",
      "source": [
        "- z_cal อยู่ในบริเวณยอมรับ H0   \n",
        "- p_val > 0.05  \n",
        "\n",
        "จึงยอมรับ H0 คำกล่าวอ้างของร้านค้าว่า เมล็ดที่ขายมีเปอร์เซ็นต์การงอกสูงกว่า 90% จึงไม่เป็นความจริง  \n",
        "  \n"
      ],
      "metadata": {
        "id": "csDDojqN5xoy"
      }
    },
    {
      "cell_type": "markdown",
      "source": [
        "**กราฟแจกแจงความน่าจะเป็น:**   "
      ],
      "metadata": {
        "id": "72j-8ZdebfGt"
      }
    },
    {
      "cell_type": "code",
      "source": [
        "x = np.linspace(-3,3,1000)\n",
        "y = [stats.norm.pdf(v) for v in x]\n",
        "Z_critical_right = z_crit\n",
        "\n",
        "plt.plot(x,y, color='g')\n",
        "plt.fill_between(x[x>=Z_critical_right],\n",
        "                 stats.norm.pdf(x[x>=Z_critical_right]),\n",
        "                 color='g'\n",
        "                 )\n",
        "plt.text(Z_critical_right-0.7, 0, f\"+{Z_critical_right:.3f}\", color='r')\n",
        "plt.axvline(z_cal, ls=':', color='r')"
      ],
      "metadata": {
        "colab": {
          "base_uri": "https://localhost:8080/",
          "height": 448
        },
        "id": "iZhA5xIWZLT5",
        "outputId": "dd68102f-d044-4e04-dfc8-8d9565065f29"
      },
      "execution_count": 9,
      "outputs": [
        {
          "output_type": "execute_result",
          "data": {
            "text/plain": [
              "<matplotlib.lines.Line2D at 0x792e22690df0>"
            ]
          },
          "metadata": {},
          "execution_count": 9
        },
        {
          "output_type": "display_data",
          "data": {
            "text/plain": [
              "<Figure size 640x480 with 1 Axes>"
            ],
            "image/png": "[encoded data removed]"
          },
          "metadata": {}
        }
      ]
    },
    {
      "cell_type": "markdown",
      "source": [
        "\\\n",
        "\\\n",
        "6.2 สืบเนื่องจากข้อ 6.1 พบว่ามีร้านค้าออนไลน์อีกเจ้าซึ่งขายเมล็ดพืชหายากชนิดเดียวกันนี้ อ้างว่าเมล็ดที่ขายมีเปอร์เซนต์การงอกสูงกว่า 95% จึงสั่งซื้อมา 50 เมล็ดพบว่ามี 4 เมล็ดที่ไม่งอก จงทดสอบว่าร้านค้านี้ขายเมล็ดซึ่งมีเปอร์เซ็นต์การงอกสูงกว่าร้านค้าแรกมากกว่าหรือเท่ากับ 5% หรือไม่ ที่ระดับนัยสำคัญ 0.05"
      ],
      "metadata": {
        "id": "Tl6eIfL9R7Qx"
      }
    },
    {
      "cell_type": "markdown",
      "source": [
        "\n",
        "กำหนดให้   \n",
        "- P1 แทนสัดส่วนการงอกของเมล็ดจากร้านใหม่  \n",
        "- P2 แทนสัดส่วนการงอกของเมล็ดจากร้านเดิม  \n",
        "\n",
        "\n",
        "**สมมติฐาน:**  \n",
        "H0: P1 - P2 >= 0.05  \n",
        "H1: P1 - P2 < 0.05"
      ],
      "metadata": {
        "id": "c47w4Zt7-KLD"
      }
    },
    {
      "cell_type": "markdown",
      "source": [
        "**ค่า z_cal**:  \n",
        "  "
      ],
      "metadata": {
        "id": "63grT8cy-KLN"
      }
    },
    {
      "cell_type": "code",
      "source": [
        "z_cal, p_val = proportions_ztest(count=[46,86],\n",
        "                                 nobs=[50,100],\n",
        "                                 value=0.05,\n",
        "                                 alternative='smaller',  #ตาม H1\n",
        "                                 prop_var=0.05)\n",
        "z_cal"
      ],
      "metadata": {
        "colab": {
          "base_uri": "https://localhost:8080/"
        },
        "outputId": "f311f8bc-eaea-4a48-8f8b-a82b6891386b",
        "id": "q_lrL05c-KLN"
      },
      "execution_count": 3,
      "outputs": [
        {
          "output_type": "execute_result",
          "data": {
            "text/plain": [
              "0.2649064714130101"
            ]
          },
          "metadata": {},
          "execution_count": 3
        }
      ]
    },
    {
      "cell_type": "markdown",
      "source": [
        "**หาค่า z_crit:**   "
      ],
      "metadata": {
        "id": "3bL7rN5U-KLN"
      }
    },
    {
      "cell_type": "code",
      "source": [
        "z_crit = stats.norm.ppf(0.05)\n",
        "print(z_crit)"
      ],
      "metadata": {
        "colab": {
          "base_uri": "https://localhost:8080/"
        },
        "outputId": "a0a44d64-0a70-429c-d27d-f65b4477df58",
        "id": "pYFwwceB-KLO"
      },
      "execution_count": 4,
      "outputs": [
        {
          "output_type": "stream",
          "name": "stdout",
          "text": [
            "-1.6448536269514729\n"
          ]
        }
      ]
    },
    {
      "cell_type": "markdown",
      "source": [
        "**หาค่า p-val:**   "
      ],
      "metadata": {
        "id": "SkurRo3H-KLO"
      }
    },
    {
      "cell_type": "code",
      "source": [
        "p_val"
      ],
      "metadata": {
        "colab": {
          "base_uri": "https://localhost:8080/"
        },
        "outputId": "53871eea-1334-47cb-b18f-fff8595e0bc6",
        "id": "t7H5CFG_-KLO"
      },
      "execution_count": 12,
      "outputs": [
        {
          "output_type": "execute_result",
          "data": {
            "text/plain": [
              "0.6044592435396097"
            ]
          },
          "metadata": {},
          "execution_count": 12
        }
      ]
    },
    {
      "cell_type": "markdown",
      "source": [
        "**สรุปผล:**   "
      ],
      "metadata": {
        "id": "UYFoDICm-KLO"
      }
    },
    {
      "cell_type": "markdown",
      "source": [
        "z_cal อยู่ในบริเวณยอมรับ H0   \n",
        "p_val > 0.05  \n",
        "จึงยอมรับ H0 ร้านค้าใหม่นี้ขายเมล็ดซึ่งมีเปอร์เซ็นต์การงอกสูงกว่าร้านค้าแรกมากกว่าหรือเท่ากับ 5% ที่ α = 0.05"
      ],
      "metadata": {
        "id": "h1vkNQ7n-KLO"
      }
    },
    {
      "cell_type": "markdown",
      "source": [
        "**กราฟแจกแจงความน่าจะเป็น:**   "
      ],
      "metadata": {
        "id": "18p0-Dckb-Hv"
      }
    },
    {
      "cell_type": "code",
      "source": [
        "x = np.linspace(-3,3,1000)\n",
        "y = [stats.norm.pdf(v) for v in x]\n",
        "Z_critical_left = z_crit\n",
        "\n",
        "\n",
        "plt.plot(x,y, color='g')\n",
        "plt.fill_between(x[x<=Z_critical_left],\n",
        "                 stats.norm.pdf(x[x<=Z_critical_left]),\n",
        "                 color='g'\n",
        "                 )\n",
        "plt.text(Z_critical_left, 0, f\"-{Z_critical_left:.3f}\", color='r')\n",
        "plt.axvline(z_cal, ls=':', color='r')"
      ],
      "metadata": {
        "colab": {
          "base_uri": "https://localhost:8080/",
          "height": 448
        },
        "id": "-WY03zf1dJAh",
        "outputId": "6968ffa8-7846-4f72-d783-96735888b394"
      },
      "execution_count": 14,
      "outputs": [
        {
          "output_type": "execute_result",
          "data": {
            "text/plain": [
              "<matplotlib.lines.Line2D at 0x792e22755a80>"
            ]
          },
          "metadata": {},
          "execution_count": 14
        },
        {
          "output_type": "display_data",
          "data": {
            "text/plain": [
              "<Figure size 640x480 with 1 Axes>"
            ],
            "image/png": "[encoded data removed]"
          },
          "metadata": {}
        }
      ]
    },
    {
      "cell_type": "markdown",
      "source": [
        "\\\n",
        "<font color='red'>**หากนิยาม P1 และ P2 อีกแนวทาง**</font>   "
      ],
      "metadata": {
        "id": "Ppnfi9tHV-Ne"
      }
    },
    {
      "cell_type": "markdown",
      "source": [
        "\n",
        "กำหนดให้   \n",
        "- P1 แทนสัดส่วนการงอกของเมล็ดจากร้านเดิม  \n",
        "- P2 แทนสัดส่วนการงอกของเมล็ดจากร้านใหม่  \n",
        "\n",
        "\n",
        "**สมมติฐาน:**  \n",
        "H0: P1 - P2 <= -0.05  (หากย้ายข้างก็คือ  P2-P1 >= 0.05 ซึ่งวิธีไม่ต่างจากด้านบน)  \n",
        "H1: P1 - P2 > -0.05  (หากย้ายข้างก็คือ  P2-P1 < 0.05 ซึ่งวิธีไม่ต่างจากด้านบน)  "
      ],
      "metadata": {
        "id": "5T0B5ByETuS9"
      }
    },
    {
      "cell_type": "markdown",
      "source": [
        "**ค่า z_cal**:  \n",
        "  "
      ],
      "metadata": {
        "id": "_i9PVJmxTuTG"
      }
    },
    {
      "cell_type": "code",
      "source": [
        "z_cal, p_val = proportions_ztest(count=[86, 46],\n",
        "                                 nobs=[100, 50],\n",
        "                                 value= -0.05,\n",
        "                                 alternative='larger',  #ตาม H1\n",
        "                                 prop_var=0.05 #prop_var มีค่าได้ในช่วง (0,1) ไม่สามารถเป็นลบ, abs(value)\n",
        "                                 )\n",
        "z_cal"
      ],
      "metadata": {
        "colab": {
          "base_uri": "https://localhost:8080/"
        },
        "outputId": "89afc54a-d013-4247-b338-283c691cfbb0",
        "id": "A9ixsdMHTuTG"
      },
      "execution_count": 9,
      "outputs": [
        {
          "output_type": "execute_result",
          "data": {
            "text/plain": [
              "-0.2649064714130101"
            ]
          },
          "metadata": {},
          "execution_count": 9
        }
      ]
    },
    {
      "cell_type": "markdown",
      "source": [
        "**หาค่า z_crit:**   "
      ],
      "metadata": {
        "id": "36jaVVNETuTH"
      }
    },
    {
      "cell_type": "code",
      "source": [
        "z_crit = stats.norm.isf(0.05)\n",
        "print(z_crit)"
      ],
      "metadata": {
        "colab": {
          "base_uri": "https://localhost:8080/"
        },
        "outputId": "e29b1ea2-0720-478f-8f50-1075aee8aad4",
        "id": "RSCUx2ziTuTH"
      },
      "execution_count": 11,
      "outputs": [
        {
          "output_type": "stream",
          "name": "stdout",
          "text": [
            "1.6448536269514729\n"
          ]
        }
      ]
    },
    {
      "cell_type": "markdown",
      "source": [
        "**หาค่า p-val:**   "
      ],
      "metadata": {
        "id": "GpqE6O0xTuTH"
      }
    },
    {
      "cell_type": "code",
      "source": [
        "p_val"
      ],
      "metadata": {
        "colab": {
          "base_uri": "https://localhost:8080/"
        },
        "outputId": "568746ab-dd63-4897-db4b-80157bf89ee3",
        "id": "F4gZ_qyfTuTH"
      },
      "execution_count": 12,
      "outputs": [
        {
          "output_type": "execute_result",
          "data": {
            "text/plain": [
              "0.6044592435396097"
            ]
          },
          "metadata": {},
          "execution_count": 12
        }
      ]
    },
    {
      "cell_type": "markdown",
      "source": [
        "**สรุปผล:**   "
      ],
      "metadata": {
        "id": "TXaIg_UxTuTH"
      }
    },
    {
      "cell_type": "markdown",
      "source": [
        "z_cal อยู่ในบริเวณยอมรับ H0   \n",
        "p_val > 0.05  \n",
        "จึงยอมรับ H0 ร้านค้าใหม่นี้ขายเมล็ดซึ่งมีเปอร์เซ็นต์การงอกสูงกว่าร้านค้าแรกมากกว่าหรือเท่ากับ 5% ที่ α = 0.05"
      ],
      "metadata": {
        "id": "ItBENGA0TuTH"
      }
    },
    {
      "cell_type": "markdown",
      "source": [
        "**กราฟแจกแจงความน่าจะเป็น:**   "
      ],
      "metadata": {
        "id": "tgkmi2PdTuTH"
      }
    },
    {
      "cell_type": "code",
      "source": [
        "x = np.linspace(-3,3,1000)\n",
        "y = [stats.norm.pdf(v) for v in x]\n",
        "Z_critical_right = z_crit\n",
        "\n",
        "plt.plot(x,y, color='g')\n",
        "plt.fill_between(x[x>=Z_critical_right],\n",
        "                 stats.norm.pdf(x[x>=Z_critical_right]),\n",
        "                 color='g'\n",
        "                 )\n",
        "plt.text(Z_critical_right-0.7, 0, f\"+{Z_critical_right:.3f}\", color='r')\n",
        "plt.axvline(z_cal, ls=':', color='r')"
      ],
      "metadata": {
        "colab": {
          "base_uri": "https://localhost:8080/",
          "height": 448
        },
        "outputId": "0bb15979-671f-4f18-e39e-8685507d7d6d",
        "id": "8ROev6--TuTI"
      },
      "execution_count": 14,
      "outputs": [
        {
          "output_type": "execute_result",
          "data": {
            "text/plain": [
              "<matplotlib.lines.Line2D at 0x798859b48250>"
            ]
          },
          "metadata": {},
          "execution_count": 14
        },
        {
          "output_type": "display_data",
          "data": {
            "text/plain": [
              "<Figure size 640x480 with 1 Axes>"
            ],
            "image/png": "[encoded data removed]"
          },
          "metadata": {}
        }
      ]
    },
    {
      "cell_type": "markdown",
      "source": [
        "\\\n",
        "\\\n",
        "6.3 จากชุดข้อมูล \"titanic.csv\" จงทดสอบว่าส่วนเบี่ยงเบนมาตราฐานข้อมูลอายุผู้โดยสารมีค่าน้อยกว่า 10 ปีหรือไม่ที่ระดับความเชื่อมั่น 99% หากกำหนดให้ข้อมูลอายุผู้โดยสารมีการแจกแจงแบบปกติ"
      ],
      "metadata": {
        "id": "JAxlkGQCXR2L"
      }
    },
    {
      "cell_type": "markdown",
      "source": [
        "\n",
        "ให้ $𝜎^2$ แทนความแปรปรวนของข้อมูลอายุผู้โดยสารเรือไททานิค  "
      ],
      "metadata": {
        "id": "53tB_d1vCVcI"
      }
    },
    {
      "cell_type": "markdown",
      "source": [
        "**สมมติฐาน:**  \n",
        "H0: $𝜎^2$ >= 100  \n",
        "H1: $𝜎^2$ < 100"
      ],
      "metadata": {
        "id": "g953ec-uCVzy"
      }
    },
    {
      "cell_type": "markdown",
      "source": [
        "**ค่า chi2_cal**:  "
      ],
      "metadata": {
        "id": "0oACp7zhDcqP"
      }
    },
    {
      "cell_type": "code",
      "source": [
        "df = pd.read_csv(\"https://raw.githubusercontent.com/ThammakornS/ProgStat/main/dataset/titanic.csv\")\n",
        "df.head()"
      ],
      "metadata": {
        "colab": {
          "base_uri": "https://localhost:8080/",
          "height": 206
        },
        "id": "hLPjT7DCXR2L",
        "outputId": "7af4bf1c-7c36-4c05-e5b9-8cf15171ebd2"
      },
      "execution_count": 16,
      "outputs": [
        {
          "output_type": "execute_result",
          "data": {
            "text/plain": [
              "   PassengerId  Survived  Pclass  \\\n",
              "0            1         0       3   \n",
              "1            2         1       1   \n",
              "2            3         1       3   \n",
              "3            4         1       1   \n",
              "4            5         0       3   \n",
              "\n",
              "                                                Name     Sex   Age  SibSp  \\\n",
              "0                            Braund, Mr. Owen Harris    male  22.0      1   \n",
              "1  Cumings, Mrs. John Bradley (Florence Briggs Th...  female  38.0      1   \n",
              "2                             Heikkinen, Miss. Laina  female  26.0      0   \n",
              "3       Futrelle, Mrs. Jacques Heath (Lily May Peel)  female  35.0      1   \n",
              "4                           Allen, Mr. William Henry    male  35.0      0   \n",
              "\n",
              "   Parch            Ticket     Fare Cabin Embarked  \n",
              "0      0         A/5 21171   7.2500   NaN        S  \n",
              "1      0          PC 17599  71.2833   C85        C  \n",
              "2      0  STON/O2. 3101282   7.9250   NaN        S  \n",
              "3      0            113803  53.1000  C123        S  \n",
              "4      0            373450   8.0500   NaN        S  "
            ],
            "text/html": [
              "\n",
              "  <div id=\"df-886b4b62-d85f-4f86-a566-5cd2de436f73\" class=\"colab-df-container\">\n",
              "    <div>\n",
              "<style scoped>\n",
              "    .dataframe tbody tr th:only-of-type {\n",
              "        vertical-align: middle;\n",
              "    }\n",
              "\n",
              "    .dataframe tbody tr th {\n",
              "        vertical-align: top;\n",
              "    }\n",
              "\n",
              "    .dataframe thead th {\n",
              "        text-align: right;\n",
              "    }\n",
              "</style>\n",
              "<table border=\"1\" class=\"dataframe\">\n",
              "  <thead>\n",
              "    <tr style=\"text-align: right;\">\n",
              "      <th></th>\n",
              "      <th>PassengerId</th>\n",
              "      <th>Survived</th>\n",
              "      <th>Pclass</th>\n",
              "      <th>Name</th>\n",
              "      <th>Sex</th>\n",
              "      <th>Age</th>\n",
              "      <th>SibSp</th>\n",
              "      <th>Parch</th>\n",
              "      <th>Ticket</th>\n",
              "      <th>Fare</th>\n",
              "      <th>Cabin</th>\n",
              "      <th>Embarked</th>\n",
              "    </tr>\n",
              "  </thead>\n",
              "  <tbody>\n",
              "    <tr>\n",
              "      <th>0</th>\n",
              "      <td>1</td>\n",
              "      <td>0</td>\n",
              "      <td>3</td>\n",
              "      <td>Braund, Mr. Owen Harris</td>\n",
              "      <td>male</td>\n",
              "      <td>22.0</td>\n",
              "      <td>1</td>\n",
              "      <td>0</td>\n",
              "      <td>A/5 21171</td>\n",
              "      <td>7.2500</td>\n",
              "      <td>NaN</td>\n",
              "      <td>S</td>\n",
              "    </tr>\n",
              "    <tr>\n",
              "      <th>1</th>\n",
              "      <td>2</td>\n",
              "      <td>1</td>\n",
              "      <td>1</td>\n",
              "      <td>Cumings, Mrs. John Bradley (Florence Briggs Th...</td>\n",
              "      <td>female</td>\n",
              "      <td>38.0</td>\n",
              "      <td>1</td>\n",
              "      <td>0</td>\n",
              "      <td>PC 17599</td>\n",
              "      <td>71.2833</td>\n",
              "      <td>C85</td>\n",
              "      <td>C</td>\n",
              "    </tr>\n",
              "    <tr>\n",
              "      <th>2</th>\n",
              "      <td>3</td>\n",
              "      <td>1</td>\n",
              "      <td>3</td>\n",
              "      <td>Heikkinen, Miss. Laina</td>\n",
              "      <td>female</td>\n",
              "      <td>26.0</td>\n",
              "      <td>0</td>\n",
              "      <td>0</td>\n",
              "      <td>STON/O2. 3101282</td>\n",
              "      <td>7.9250</td>\n",
              "      <td>NaN</td>\n",
              "      <td>S</td>\n",
              "    </tr>\n",
              "    <tr>\n",
              "      <th>3</th>\n",
              "      <td>4</td>\n",
              "      <td>1</td>\n",
              "      <td>1</td>\n",
              "      <td>Futrelle, Mrs. Jacques Heath (Lily May Peel)</td>\n",
              "      <td>female</td>\n",
              "      <td>35.0</td>\n",
              "      <td>1</td>\n",
              "      <td>0</td>\n",
              "      <td>113803</td>\n",
              "      <td>53.1000</td>\n",
              "      <td>C123</td>\n",
              "      <td>S</td>\n",
              "    </tr>\n",
              "    <tr>\n",
              "      <th>4</th>\n",
              "      <td>5</td>\n",
              "      <td>0</td>\n",
              "      <td>3</td>\n",
              "      <td>Allen, Mr. William Henry</td>\n",
              "      <td>male</td>\n",
              "      <td>35.0</td>\n",
              "      <td>0</td>\n",
              "      <td>0</td>\n",
              "      <td>373450</td>\n",
              "      <td>8.0500</td>\n",
              "      <td>NaN</td>\n",
              "      <td>S</td>\n",
              "    </tr>\n",
              "  </tbody>\n",
              "</table>\n",
              "</div>\n",
              "    <div class=\"colab-df-buttons\">\n",
              "\n",
              "  <div class=\"colab-df-container\">\n",
              "    <button class=\"colab-df-convert\" onclick=\"convertToInteractive('df-886b4b62-d85f-4f86-a566-5cd2de436f73')\"\n",
              "            title=\"Convert this dataframe to an interactive table.\"\n",
              "            style=\"display:none;\">\n",
              "\n",
              "  <svg xmlns=\"http://www.w3.org/2000/svg\" height=\"24px\" viewBox=\"0 -960 960 960\">\n",
              "    <path d=\"M120-120v-720h720v720H120Zm60-500h600v-160H180v160Zm220 220h160v-160H400v160Zm0 220h160v-160H400v160ZM180-400h160v-160H180v160Zm440 0h160v-160H620v160ZM180-180h160v-160H180v160Zm440 0h160v-160H620v160Z\"/>\n",
              "  </svg>\n",
              "    </button>\n",
              "\n",
              "  <style>\n",
              "    .colab-df-container {\n",
              "      display:flex;\n",
              "      gap: 12px;\n",
              "    }\n",
              "\n",
              "    .colab-df-convert {\n",
              "      background-color: #E8F0FE;\n",
              "      border: none;\n",
              "      border-radius: 50%;\n",
              "      cursor: pointer;\n",
              "      display: none;\n",
              "      fill: #1967D2;\n",
              "      height: 32px;\n",
              "      padding: 0 0 0 0;\n",
              "      width: 32px;\n",
              "    }\n",
              "\n",
              "    .colab-df-convert:hover {\n",
              "      background-color: #E2EBFA;\n",
              "      box-shadow: 0px 1px 2px rgba(60, 64, 67, 0.3), 0px 1px 3px 1px rgba(60, 64, 67, 0.15);\n",
              "      fill: #174EA6;\n",
              "    }\n",
              "\n",
              "    .colab-df-buttons div {\n",
              "      margin-bottom: 4px;\n",
              "    }\n",
              "\n",
              "    [theme=dark] .colab-df-convert {\n",
              "      background-color: #3B4455;\n",
              "      fill: #D2E3FC;\n",
              "    }\n",
              "\n",
              "    [theme=dark] .colab-df-convert:hover {\n",
              "      background-color: #434B5C;\n",
              "      box-shadow: 0px 1px 3px 1px rgba(0, 0, 0, 0.15);\n",
              "      filter: drop-shadow(0px 1px 2px rgba(0, 0, 0, 0.3));\n",
              "      fill: #FFFFFF;\n",
              "    }\n",
              "  </style>\n",
              "\n",
              "    <script>\n",
              "      const buttonEl =\n",
              "        document.querySelector('#df-886b4b62-d85f-4f86-a566-5cd2de436f73 button.colab-df-convert');\n",
              "      buttonEl.style.display =\n",
              "        google.colab.kernel.accessAllowed ? 'block' : 'none';\n",
              "\n",
              "      async function convertToInteractive(key) {\n",
              "        const element = document.querySelector('#df-886b4b62-d85f-4f86-a566-5cd2de436f73');\n",
              "        const dataTable =\n",
              "          await google.colab.kernel.invokeFunction('convertToInteractive',\n",
              "                                                    [key], {});\n",
              "        if (!dataTable) return;\n",
              "\n",
              "        const docLinkHtml = 'Like what you see? Visit the ' +\n",
              "          '<a target=\"_blank\" href=https://colab.research.google.com/notebooks/data_table.ipynb>data table notebook</a>'\n",
              "          + ' to learn more about interactive tables.';\n",
              "        element.innerHTML = '';\n",
              "        dataTable['output_type'] = 'display_data';\n",
              "        await google.colab.output.renderOutput(dataTable, element);\n",
              "        const docLink = document.createElement('div');\n",
              "        docLink.innerHTML = docLinkHtml;\n",
              "        element.appendChild(docLink);\n",
              "      }\n",
              "    </script>\n",
              "  </div>\n",
              "\n",
              "\n",
              "<div id=\"df-033b8dad-6746-4481-a122-13c6bef0c6c2\">\n",
              "  <button class=\"colab-df-quickchart\" onclick=\"quickchart('df-033b8dad-6746-4481-a122-13c6bef0c6c2')\"\n",
              "            title=\"Suggest charts\"\n",
              "            style=\"display:none;\">\n",
              "\n",
              "<svg xmlns=\"http://www.w3.org/2000/svg\" height=\"24px\"viewBox=\"0 0 24 24\"\n",
              "     width=\"24px\">\n",
              "    <g>\n",
              "        <path d=\"M19 3H5c-1.1 0-2 .9-2 2v14c0 1.1.9 2 2 2h14c1.1 0 2-.9 2-2V5c0-1.1-.9-2-2-2zM9 17H7v-7h2v7zm4 0h-2V7h2v10zm4 0h-2v-4h2v4z\"/>\n",
              "    </g>\n",
              "</svg>\n",
              "  </button>\n",
              "\n",
              "<style>\n",
              "  .colab-df-quickchart {\n",
              "      --bg-color: #E8F0FE;\n",
              "      --fill-color: #1967D2;\n",
              "      --hover-bg-color: #E2EBFA;\n",
              "      --hover-fill-color: #174EA6;\n",
              "      --disabled-fill-color: #AAA;\n",
              "      --disabled-bg-color: #DDD;\n",
              "  }\n",
              "\n",
              "  [theme=dark] .colab-df-quickchart {\n",
              "      --bg-color: #3B4455;\n",
              "      --fill-color: #D2E3FC;\n",
              "      --hover-bg-color: #434B5C;\n",
              "      --hover-fill-color: #FFFFFF;\n",
              "      --disabled-bg-color: #3B4455;\n",
              "      --disabled-fill-color: #666;\n",
              "  }\n",
              "\n",
              "  .colab-df-quickchart {\n",
              "    background-color: var(--bg-color);\n",
              "    border: none;\n",
              "    border-radius: 50%;\n",
              "    cursor: pointer;\n",
              "    display: none;\n",
              "    fill: var(--fill-color);\n",
              "    height: 32px;\n",
              "    padding: 0;\n",
              "    width: 32px;\n",
              "  }\n",
              "\n",
              "  .colab-df-quickchart:hover {\n",
              "    background-color: var(--hover-bg-color);\n",
              "    box-shadow: 0 1px 2px rgba(60, 64, 67, 0.3), 0 1px 3px 1px rgba(60, 64, 67, 0.15);\n",
              "    fill: var(--button-hover-fill-color);\n",
              "  }\n",
              "\n",
              "  .colab-df-quickchart-complete:disabled,\n",
              "  .colab-df-quickchart-complete:disabled:hover {\n",
              "    background-color: var(--disabled-bg-color);\n",
              "    fill: var(--disabled-fill-color);\n",
              "    box-shadow: none;\n",
              "  }\n",
              "\n",
              "  .colab-df-spinner {\n",
              "    border: 2px solid var(--fill-color);\n",
              "    border-color: transparent;\n",
              "    border-bottom-color: var(--fill-color);\n",
              "    animation:\n",
              "      spin 1s steps(1) infinite;\n",
              "  }\n",
              "\n",
              "  @keyframes spin {\n",
              "    0% {\n",
              "      border-color: transparent;\n",
              "      border-bottom-color: var(--fill-color);\n",
              "      border-left-color: var(--fill-color);\n",
              "    }\n",
              "    20% {\n",
              "      border-color: transparent;\n",
              "      border-left-color: var(--fill-color);\n",
              "      border-top-color: var(--fill-color);\n",
              "    }\n",
              "    30% {\n",
              "      border-color: transparent;\n",
              "      border-left-color: var(--fill-color);\n",
              "      border-top-color: var(--fill-color);\n",
              "      border-right-color: var(--fill-color);\n",
              "    }\n",
              "    40% {\n",
              "      border-color: transparent;\n",
              "      border-right-color: var(--fill-color);\n",
              "      border-top-color: var(--fill-color);\n",
              "    }\n",
              "    60% {\n",
              "      border-color: transparent;\n",
              "      border-right-color: var(--fill-color);\n",
              "    }\n",
              "    80% {\n",
              "      border-color: transparent;\n",
              "      border-right-color: var(--fill-color);\n",
              "      border-bottom-color: var(--fill-color);\n",
              "    }\n",
              "    90% {\n",
              "      border-color: transparent;\n",
              "      border-bottom-color: var(--fill-color);\n",
              "    }\n",
              "  }\n",
              "</style>\n",
              "\n",
              "  <script>\n",
              "    async function quickchart(key) {\n",
              "      const quickchartButtonEl =\n",
              "        document.querySelector('#' + key + ' button');\n",
              "      quickchartButtonEl.disabled = true;  // To prevent multiple clicks.\n",
              "      quickchartButtonEl.classList.add('colab-df-spinner');\n",
              "      try {\n",
              "        const charts = await google.colab.kernel.invokeFunction(\n",
              "            'suggestCharts', [key], {});\n",
              "      } catch (error) {\n",
              "        console.error('Error during call to suggestCharts:', error);\n",
              "      }\n",
              "      quickchartButtonEl.classList.remove('colab-df-spinner');\n",
              "      quickchartButtonEl.classList.add('colab-df-quickchart-complete');\n",
              "    }\n",
              "    (() => {\n",
              "      let quickchartButtonEl =\n",
              "        document.querySelector('#df-033b8dad-6746-4481-a122-13c6bef0c6c2 button');\n",
              "      quickchartButtonEl.style.display =\n",
              "        google.colab.kernel.accessAllowed ? 'block' : 'none';\n",
              "    })();\n",
              "  </script>\n",
              "</div>\n",
              "    </div>\n",
              "  </div>\n"
            ],
            "application/vnd.google.colaboratory.intrinsic+json": {
              "type": "dataframe",
              "variable_name": "df",
              "summary": "{\n  \"name\": \"df\",\n  \"rows\": 891,\n  \"fields\": [\n    {\n      \"column\": \"PassengerId\",\n      \"properties\": {\n        \"dtype\": \"number\",\n        \"std\": 257,\n        \"min\": 1,\n        \"max\": 891,\n        \"num_unique_values\": 891,\n        \"samples\": [\n          710,\n          440,\n          841\n        ],\n        \"semantic_type\": \"\",\n        \"description\": \"\"\n      }\n    },\n    {\n      \"column\": \"Survived\",\n      \"properties\": {\n        \"dtype\": \"number\",\n        \"std\": 0,\n        \"min\": 0,\n        \"max\": 1,\n        \"num_unique_values\": 2,\n        \"samples\": [\n          1,\n          0\n        ],\n        \"semantic_type\": \"\",\n        \"description\": \"\"\n      }\n    },\n    {\n      \"column\": \"Pclass\",\n      \"properties\": {\n        \"dtype\": \"number\",\n        \"std\": 0,\n        \"min\": 1,\n        \"max\": 3,\n        \"num_unique_values\": 3,\n        \"samples\": [\n          3,\n          1\n        ],\n        \"semantic_type\": \"\",\n        \"description\": \"\"\n      }\n    },\n    {\n      \"column\": \"Name\",\n      \"properties\": {\n        \"dtype\": \"string\",\n        \"num_unique_values\": 891,\n        \"samples\": [\n          \"Moubarek, Master. Halim Gonios (\\\"William George\\\")\",\n          \"Kvillner, Mr. Johan Henrik Johannesson\"\n        ],\n        \"semantic_type\": \"\",\n        \"description\": \"\"\n      }\n    },\n    {\n      \"column\": \"Sex\",\n      \"properties\": {\n        \"dtype\": \"category\",\n        \"num_unique_values\": 2,\n        \"samples\": [\n          \"female\",\n          \"male\"\n        ],\n        \"semantic_type\": \"\",\n        \"description\": \"\"\n      }\n    },\n    {\n      \"column\": \"Age\",\n      \"properties\": {\n        \"dtype\": \"number\",\n        \"std\": 14.526497332334042,\n        \"min\": 0.42,\n        \"max\": 80.0,\n        \"num_unique_values\": 88,\n        \"samples\": [\n          0.75,\n          22.0\n        ],\n        \"semantic_type\": \"\",\n        \"description\": \"\"\n      }\n    },\n    {\n      \"column\": \"SibSp\",\n      \"properties\": {\n        \"dtype\": \"number\",\n        \"std\": 1,\n        \"min\": 0,\n        \"max\": 8,\n        \"num_unique_values\": 7,\n        \"samples\": [\n          1,\n          0\n        ],\n        \"semantic_type\": \"\",\n        \"description\": \"\"\n      }\n    },\n    {\n      \"column\": \"Parch\",\n      \"properties\": {\n        \"dtype\": \"number\",\n        \"std\": 0,\n        \"min\": 0,\n        \"max\": 6,\n        \"num_unique_values\": 7,\n        \"samples\": [\n          0,\n          1\n        ],\n        \"semantic_type\": \"\",\n        \"description\": \"\"\n      }\n    },\n    {\n      \"column\": \"Ticket\",\n      \"properties\": {\n        \"dtype\": \"string\",\n        \"num_unique_values\": 681,\n        \"samples\": [\n          \"11774\",\n          \"248740\"\n        ],\n        \"semantic_type\": \"\",\n        \"description\": \"\"\n      }\n    },\n    {\n      \"column\": \"Fare\",\n      \"properties\": {\n        \"dtype\": \"number\",\n        \"std\": 49.6934285971809,\n        \"min\": 0.0,\n        \"max\": 512.3292,\n        \"num_unique_values\": 248,\n        \"samples\": [\n          11.2417,\n          51.8625\n        ],\n        \"semantic_type\": \"\",\n        \"description\": \"\"\n      }\n    },\n    {\n      \"column\": \"Cabin\",\n      \"properties\": {\n        \"dtype\": \"category\",\n        \"num_unique_values\": 147,\n        \"samples\": [\n          \"D45\",\n          \"B49\"\n        ],\n        \"semantic_type\": \"\",\n        \"description\": \"\"\n      }\n    },\n    {\n      \"column\": \"Embarked\",\n      \"properties\": {\n        \"dtype\": \"category\",\n        \"num_unique_values\": 3,\n        \"samples\": [\n          \"S\",\n          \"C\"\n        ],\n        \"semantic_type\": \"\",\n        \"description\": \"\"\n      }\n    }\n  ]\n}"
            }
          },
          "metadata": {},
          "execution_count": 16
        }
      ]
    },
    {
      "cell_type": "code",
      "source": [
        "df.info()"
      ],
      "metadata": {
        "colab": {
          "base_uri": "https://localhost:8080/"
        },
        "id": "U9JpR7aVFLZf",
        "outputId": "c5e82084-b9b9-4b62-fd07-6df212fceb13"
      },
      "execution_count": 18,
      "outputs": [
        {
          "output_type": "stream",
          "name": "stdout",
          "text": [
            "<class 'pandas.core.frame.DataFrame'>\n",
            "RangeIndex: 891 entries, 0 to 890\n",
            "Data columns (total 12 columns):\n",
            " #   Column       Non-Null Count  Dtype  \n",
            "---  ------       --------------  -----  \n",
            " 0   PassengerId  891 non-null    int64  \n",
            " 1   Survived     891 non-null    int64  \n",
            " 2   Pclass       891 non-null    int64  \n",
            " 3   Name         891 non-null    object \n",
            " 4   Sex          891 non-null    object \n",
            " 5   Age          714 non-null    float64\n",
            " 6   SibSp        891 non-null    int64  \n",
            " 7   Parch        891 non-null    int64  \n",
            " 8   Ticket       891 non-null    object \n",
            " 9   Fare         891 non-null    float64\n",
            " 10  Cabin        204 non-null    object \n",
            " 11  Embarked     889 non-null    object \n",
            "dtypes: float64(2), int64(5), object(5)\n",
            "memory usage: 83.7+ KB\n"
          ]
        }
      ]
    },
    {
      "cell_type": "code",
      "source": [
        "n = 714 #ที่มีข้อมูลอายุครบ df.Age.notnull().sum()\n",
        "chi2_cal = ((n-1)*np.var(df.Age, ddof=1))/100\n",
        "chi2_cal"
      ],
      "metadata": {
        "colab": {
          "base_uri": "https://localhost:8080/"
        },
        "id": "di0vQBHcY-E_",
        "outputId": "3b96c774-9400-44d9-bca2-5b2a7dfef96e"
      },
      "execution_count": 19,
      "outputs": [
        {
          "output_type": "execute_result",
          "data": {
            "text/plain": [
              "1504.5663594411762"
            ]
          },
          "metadata": {},
          "execution_count": 19
        }
      ]
    },
    {
      "cell_type": "markdown",
      "source": [
        "**ค่า chi2_crit**:  "
      ],
      "metadata": {
        "id": "rdTUrm_RGGwf"
      }
    },
    {
      "cell_type": "code",
      "source": [
        "chi2_crit = stats.chi2.ppf(0.01,df=n-1)\n",
        "chi2_crit"
      ],
      "metadata": {
        "colab": {
          "base_uri": "https://localhost:8080/"
        },
        "id": "cxXvQcItbMBU",
        "outputId": "f4c3e40d-714f-455a-8169-5ac6dad5457e"
      },
      "execution_count": 20,
      "outputs": [
        {
          "output_type": "execute_result",
          "data": {
            "text/plain": [
              "628.1028368095084"
            ]
          },
          "metadata": {},
          "execution_count": 20
        }
      ]
    },
    {
      "cell_type": "markdown",
      "source": [
        "**ค่า p_val**:  "
      ],
      "metadata": {
        "id": "Ib6gY-zMGMi0"
      }
    },
    {
      "cell_type": "code",
      "source": [
        "p_val = stats.chi2.cdf(chi2_cal, df=n-1)\n",
        "p_val"
      ],
      "metadata": {
        "colab": {
          "base_uri": "https://localhost:8080/"
        },
        "id": "4sJZe_ySbk2n",
        "outputId": "bb734758-9bee-44f6-cfef-c9efbfc7afe5"
      },
      "execution_count": 22,
      "outputs": [
        {
          "output_type": "execute_result",
          "data": {
            "text/plain": [
              "1.0"
            ]
          },
          "metadata": {},
          "execution_count": 22
        }
      ]
    },
    {
      "cell_type": "markdown",
      "source": [
        "**สรุปผล**:  "
      ],
      "metadata": {
        "id": "EhZhjbKDHlpZ"
      }
    },
    {
      "cell_type": "markdown",
      "source": [
        "- chi2_cal ตกในบริเวณยอมรับ H0  \n",
        "- p_val > 0.01  \n",
        "ยอมรับ H0 $𝜎^2$ >= 100 นั่นคือ 𝜎 >= 10 ที่ α = 0.01  \n",
        "ส่วนเบี่ยงเบนมาตราฐานข้อมูลอายุผู้โดยสารมีมากกว่าหรือเท่ากับ 10 ปี"
      ],
      "metadata": {
        "id": "6USDSFJOH4z1"
      }
    },
    {
      "cell_type": "markdown",
      "source": [
        "**กราฟแจกแจงความน่าจะเป็น:**   "
      ],
      "metadata": {
        "id": "u-LiDms5d9fp"
      }
    },
    {
      "cell_type": "code",
      "source": [
        "x = np.linspace(500,1000,1000)\n",
        "y = [stats.chi2.pdf(v, df=n-1) for v in x]\n",
        "chi2_critical_left = chi2_crit\n",
        "\n",
        "\n",
        "plt.plot(x,y, color='g')\n",
        "plt.fill_between(x[x<=chi2_critical_left],\n",
        "                 stats.chi2.pdf(x[x<=chi2_critical_left], df=n-1),\n",
        "                 color='g'\n",
        "                 )\n",
        "plt.text(chi2_critical_left, 0, f\"-{chi2_critical_left:.3f}\", color='r')\n",
        "plt.axvline(chi2_cal, ls=':', color='r')"
      ],
      "metadata": {
        "colab": {
          "base_uri": "https://localhost:8080/",
          "height": 448
        },
        "id": "L13mprwGd-M_",
        "outputId": "4cd3fb80-5f7f-479a-c197-243597dd8a5d"
      },
      "execution_count": 26,
      "outputs": [
        {
          "output_type": "execute_result",
          "data": {
            "text/plain": [
              "<matplotlib.lines.Line2D at 0x792e21f1dc90>"
            ]
          },
          "metadata": {},
          "execution_count": 26
        },
        {
          "output_type": "display_data",
          "data": {
            "text/plain": [
              "<Figure size 640x480 with 1 Axes>"
            ],
            "image/png": "[encoded data removed]"
          },
          "metadata": {}
        }
      ]
    },
    {
      "cell_type": "markdown",
      "source": [
        "\\\n",
        "\\\n",
        "6.4 จากข้อ 6.3 จงทดสอบว่ากลุ่มผู้โดยสารชั้น Pclass = 1 มีความแปรปรวนของอายุเท่ากับ กลุ่มผู้โดยสารชั้น Pclass = 2 หรือไม่ที่ระดับนัยสำคัญ 0.05"
      ],
      "metadata": {
        "id": "rZ8GvZovcRmI"
      }
    },
    {
      "cell_type": "markdown",
      "source": [
        "\n",
        "ให้ $𝜎^2_1$ แทนความแปรปรวนของข้อมูลอายุกลุ่ม Pclass 1   \n",
        "ให้ $𝜎^2_2$ แทนความแปรปรวนของข้อมูลอายุกลุ่ม Pclass 2    "
      ],
      "metadata": {
        "id": "aAuplyQmJXd-"
      }
    },
    {
      "cell_type": "markdown",
      "source": [
        "**สมมติฐาน:**  \n",
        "H0: $𝜎^2_1/𝜎^2_2 = 1$   \n",
        "H1: $𝜎^2_1/𝜎^2_2 \\ne 1$   "
      ],
      "metadata": {
        "id": "-KV6IxigJXd-"
      }
    },
    {
      "cell_type": "markdown",
      "source": [
        "**ค่า f_cal**:  "
      ],
      "metadata": {
        "id": "fnhX8fHGJXd_"
      }
    },
    {
      "cell_type": "code",
      "source": [
        "f_cal = np.var(df.Age[df.Pclass==1], ddof=1) / np.var(df.Age[df.Pclass==2], ddof=1)\n",
        "f_cal"
      ],
      "metadata": {
        "colab": {
          "base_uri": "https://localhost:8080/"
        },
        "outputId": "7fbd424f-f5a4-4a3a-c86e-0d6844f5fd1a",
        "id": "x17TdbgHJXd_"
      },
      "execution_count": 27,
      "outputs": [
        {
          "output_type": "execute_result",
          "data": {
            "text/plain": [
              "1.1178104008864762"
            ]
          },
          "metadata": {},
          "execution_count": 27
        }
      ]
    },
    {
      "cell_type": "markdown",
      "source": [
        "**ค่า f_crit**:  "
      ],
      "metadata": {
        "id": "kZYELR_hJXd_"
      }
    },
    {
      "cell_type": "code",
      "source": [
        "dfn = sum(df.Age[df.Pclass==1].notnull())-1\n",
        "dfd = sum(df.Age[df.Pclass==2].notnull())-1\n",
        "print(dfn,dfd)\n",
        "f_crit_left = stats.f.ppf(0.05/2, dfn=dfn, dfd=dfd)\n",
        "f_crit_right = stats.f.isf(0.05/2, dfn=dfn, dfd=dfd)\n",
        "print(f_crit_left, f_crit_right)"
      ],
      "metadata": {
        "colab": {
          "base_uri": "https://localhost:8080/"
        },
        "outputId": "3eeb9a14-b103-4d90-9aca-34161f2559b6",
        "id": "gTPP3JjhJXeA"
      },
      "execution_count": 28,
      "outputs": [
        {
          "output_type": "stream",
          "name": "stdout",
          "text": [
            "185 172\n",
            "0.7454732770065574 1.343577412539335\n"
          ]
        }
      ]
    },
    {
      "cell_type": "markdown",
      "source": [
        "**ค่า p_val**:  "
      ],
      "metadata": {
        "id": "p7-2VvBlJXeA"
      }
    },
    {
      "cell_type": "code",
      "source": [
        "p_val = 2*min(stats.f.sf(f_cal, dfn=dfn, dfd=dfd), stats.f.cdf(f_cal, dfn=dfn, dfd=dfd))\n",
        "p_val"
      ],
      "metadata": {
        "colab": {
          "base_uri": "https://localhost:8080/"
        },
        "outputId": "077b8acc-7421-4413-9fa5-5c47d9a658ad",
        "id": "3TnnecdsJXeA"
      },
      "execution_count": 29,
      "outputs": [
        {
          "output_type": "execute_result",
          "data": {
            "text/plain": [
              "0.45933712642977714"
            ]
          },
          "metadata": {},
          "execution_count": 29
        }
      ]
    },
    {
      "cell_type": "markdown",
      "source": [
        "**สรุปผล**:  "
      ],
      "metadata": {
        "id": "DX_FpgUQJXeA"
      }
    },
    {
      "cell_type": "markdown",
      "source": [
        "- chi2_cal ตกในบริเวณยอมรับ  \n",
        "- p_val > 0.05  \n",
        "\n",
        "ดังนั้นยอมรับ H0 กลุ่มผู้โดยสารชั้น Pclass = 1 มีความแปรปรวนของอายุเท่ากับ กลุ่มผู้โดยสารชั้น Pclass = 2 ที่ α = 0.05"
      ],
      "metadata": {
        "id": "qfwtKJKcJXeA"
      }
    },
    {
      "cell_type": "markdown",
      "source": [
        "**กราฟแจกแจงความน่าจะเป็น:**   "
      ],
      "metadata": {
        "id": "fgV3t2XRgA6w"
      }
    },
    {
      "cell_type": "code",
      "source": [
        "x = np.linspace(0.5,2,1000)\n",
        "y = [stats.f.pdf(v, dfn=dfn, dfd=dfd) for v in x]\n",
        "\n",
        "\n",
        "plt.plot(x,y, color='g')\n",
        "plt.fill_between(x[x>=f_crit_right],\n",
        "                 stats.f.pdf(x[x>=f_crit_right], dfn=dfn, dfd=dfd),\n",
        "                 color='g'\n",
        "                 )\n",
        "plt.fill_between(x[x<=f_crit_left],\n",
        "                 stats.f.pdf(x[x<=f_crit_left], dfn=dfn, dfd=dfd),\n",
        "                 color='g'\n",
        "                 )\n",
        "plt.text(f_crit_left, 0, f\"-{f_crit_left:.3f}\", color='r')\n",
        "plt.text(f_crit_right-0.17, 0, f\"+{f_crit_right:.3f}\", color='r')\n",
        "\n",
        "plt.axvline(f_cal, ls=':', color='r')"
      ],
      "metadata": {
        "id": "Put74vmDf1PG",
        "colab": {
          "base_uri": "https://localhost:8080/",
          "height": 448
        },
        "outputId": "090b58fd-4b58-444f-a21e-c9ea96e714a1"
      },
      "execution_count": 41,
      "outputs": [
        {
          "output_type": "execute_result",
          "data": {
            "text/plain": [
              "<matplotlib.lines.Line2D at 0x792e21836fb0>"
            ]
          },
          "metadata": {},
          "execution_count": 41
        },
        {
          "output_type": "display_data",
          "data": {
            "text/plain": [
              "<Figure size 640x480 with 1 Axes>"
            ],
            "image/png": "[encoded data removed]"
          },
          "metadata": {}
        }
      ]
    },
    {
      "cell_type": "markdown",
      "source": [
        "\\\n",
        "<font color='red'>***อีกแนวทาง***</font>"
      ],
      "metadata": {
        "id": "LUPsKr9gYX0-"
      }
    },
    {
      "cell_type": "markdown",
      "source": [
        "\n",
        "ให้ $𝜎^2_1$ แทนความแปรปรวนของข้อมูลอายุกลุ่ม Pclass 2   \n",
        "ให้ $𝜎^2_2$ แทนความแปรปรวนของข้อมูลอายุกลุ่ม Pclass 1    "
      ],
      "metadata": {
        "id": "_kAgr5nfY5f4"
      }
    },
    {
      "cell_type": "markdown",
      "source": [
        "**สมมติฐาน:**  \n",
        "H0: $𝜎^2_1/𝜎^2_2 = 1$   \n",
        "H1: $𝜎^2_1/𝜎^2_2 \\ne 1$   "
      ],
      "metadata": {
        "id": "yUwZk__1Y5gC"
      }
    },
    {
      "cell_type": "markdown",
      "source": [
        "**ค่า f_cal**:  "
      ],
      "metadata": {
        "id": "DDBLvWGvY5gC"
      }
    },
    {
      "cell_type": "code",
      "source": [
        "f_cal = np.var(df.Age[df.Pclass==2], ddof=1) / np.var(df.Age[df.Pclass==1], ddof=1)\n",
        "f_cal"
      ],
      "metadata": {
        "colab": {
          "base_uri": "https://localhost:8080/"
        },
        "outputId": "727e0c40-a7b0-4de5-e283-59fb9507f09b",
        "id": "BI-RAzsOY5gC"
      },
      "execution_count": 17,
      "outputs": [
        {
          "output_type": "execute_result",
          "data": {
            "text/plain": [
              "0.8946060970688348"
            ]
          },
          "metadata": {},
          "execution_count": 17
        }
      ]
    },
    {
      "cell_type": "markdown",
      "source": [
        "**ค่า f_crit**:  "
      ],
      "metadata": {
        "id": "xsvksGagY5gD"
      }
    },
    {
      "cell_type": "code",
      "source": [
        "dfn = sum(df.Age[df.Pclass==2].notnull())-1\n",
        "dfd = sum(df.Age[df.Pclass==1].notnull())-1\n",
        "print(dfn,dfd)\n",
        "f_crit_left = stats.f.ppf(0.05/2, dfn=dfn, dfd=dfd)\n",
        "f_crit_right = stats.f.isf(0.05/2, dfn=dfn, dfd=dfd)\n",
        "print(f_crit_left, f_crit_right)"
      ],
      "metadata": {
        "colab": {
          "base_uri": "https://localhost:8080/"
        },
        "outputId": "770129ee-5f0d-48a6-e475-07eb0457184e",
        "id": "SxfkZh8kY5gD"
      },
      "execution_count": 18,
      "outputs": [
        {
          "output_type": "stream",
          "name": "stdout",
          "text": [
            "172 185\n",
            "0.7442816399466106 1.3414297076019852\n"
          ]
        }
      ]
    },
    {
      "cell_type": "markdown",
      "source": [
        "**ค่า p_val**:  "
      ],
      "metadata": {
        "id": "2axQDmfoY5gD"
      }
    },
    {
      "cell_type": "code",
      "source": [
        "p_val = 2*min(stats.f.sf(f_cal, dfn=dfn, dfd=dfd), stats.f.cdf(f_cal, dfn=dfn, dfd=dfd))\n",
        "p_val"
      ],
      "metadata": {
        "colab": {
          "base_uri": "https://localhost:8080/"
        },
        "outputId": "f8ba5f0f-a7f5-4c72-8310-5e5ab9090bbc",
        "id": "H46PWiPXY5gD"
      },
      "execution_count": 19,
      "outputs": [
        {
          "output_type": "execute_result",
          "data": {
            "text/plain": [
              "0.45933712642977653"
            ]
          },
          "metadata": {},
          "execution_count": 19
        }
      ]
    },
    {
      "cell_type": "markdown",
      "source": [
        "**สรุปผล**:  "
      ],
      "metadata": {
        "id": "_EaQY0iCY5gD"
      }
    },
    {
      "cell_type": "markdown",
      "source": [
        "- chi2_cal ตกในบริเวณยอมรับ  \n",
        "- p_val > 0.05  \n",
        "\n",
        "ดังนั้นยอมรับ H0 กลุ่มผู้โดยสารชั้น Pclass = 2 มีความแปรปรวนของอายุเท่ากับ กลุ่มผู้โดยสารชั้น Pclass = 1 ที่ α = 0.05"
      ],
      "metadata": {
        "id": "Q6bHiBr6Y5gD"
      }
    },
    {
      "cell_type": "markdown",
      "source": [
        "**กราฟแจกแจงความน่าจะเป็น:**   "
      ],
      "metadata": {
        "id": "hI0yub3cY5gE"
      }
    },
    {
      "cell_type": "code",
      "source": [
        "x = np.linspace(0.5,2,1000)\n",
        "y = [stats.f.pdf(v, dfn=dfn, dfd=dfd) for v in x]\n",
        "\n",
        "\n",
        "plt.plot(x,y, color='g')\n",
        "plt.fill_between(x[x>=f_crit_right],\n",
        "                 stats.f.pdf(x[x>=f_crit_right], dfn=dfn, dfd=dfd),\n",
        "                 color='g'\n",
        "                 )\n",
        "plt.fill_between(x[x<=f_crit_left],\n",
        "                 stats.f.pdf(x[x<=f_crit_left], dfn=dfn, dfd=dfd),\n",
        "                 color='g'\n",
        "                 )\n",
        "plt.text(f_crit_left, 0, f\"-{f_crit_left:.3f}\", color='r')\n",
        "plt.text(f_crit_right-0.17, 0, f\"+{f_crit_right:.3f}\", color='r')\n",
        "\n",
        "plt.axvline(f_cal, ls=':', color='r')"
      ],
      "metadata": {
        "colab": {
          "base_uri": "https://localhost:8080/",
          "height": 448
        },
        "outputId": "72dff0c2-0cac-457e-8027-1fe0f53f5cee",
        "id": "PmSG9rO0Y5gE"
      },
      "execution_count": 20,
      "outputs": [
        {
          "output_type": "execute_result",
          "data": {
            "text/plain": [
              "<matplotlib.lines.Line2D at 0x7988598b1bd0>"
            ]
          },
          "metadata": {},
          "execution_count": 20
        },
        {
          "output_type": "display_data",
          "data": {
            "text/plain": [
              "<Figure size 640x480 with 1 Axes>"
            ],
            "image/png": "[encoded data removed]"
          },
          "metadata": {}
        }
      ]
    },
    {
      "cell_type": "code",
      "source": [],
      "metadata": {
        "id": "-P4GB5bVkJow"
      },
      "execution_count": null,
      "outputs": []
    }
  ]
}