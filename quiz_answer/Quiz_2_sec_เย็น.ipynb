{
  "nbformat": 4,
  "nbformat_minor": 0,
  "metadata": {
    "colab": {
      "provenance": []
    },
    "kernelspec": {
      "name": "python3",
      "display_name": "Python 3"
    },
    "language_info": {
      "name": "python"
    }
  },
  "cells": [
    {
      "cell_type": "code",
      "execution_count": null,
      "metadata": {
        "id": "0OqDoPdTA4lj"
      },
      "outputs": [],
      "source": [
        "import numpy as np\n",
        "import pandas as pd\n",
        "from scipy import stats\n",
        "from statsmodels.stats.proportion import proportions_ztest\n",
        "import matplotlib.pyplot as plt\n",
        "import seaborn as sns\n",
        "import statsmodels.api as sm"
      ]
    },
    {
      "cell_type": "markdown",
      "source": [
        "1 จากตัวอย่างที่ 10.4 (ชุดข้อมูล 'cosmetic.csv') สัดส่วนการครองตลาด (%) และกำไรจ่ายคืนลูกค้า (%)มีความสัมพันธ์ในทิศทางเดียวกัน และมีแนวโน้มเป็นเส้นตรง"
      ],
      "metadata": {
        "id": "q2bX7nhNCKA-"
      }
    },
    {
      "cell_type": "markdown",
      "source": [
        "ให้นิสิตทำการ\n",
        "-  สร้างสมการถดถอยหาค่า b0 และ b1 (y คือสัดส่วนการครองตลาด, x คือกำไรจ่ายคืนลูกค้า)\n",
        "-  หากมีค่าสัดส่วนการตลาดเท่ากับ 70% จงคำนวณกำไรจ่ายคืนลูกค้าจากสมการที่ได้\n",
        "-  ทดสอบว่าสัดส่วนการครองตลาดและกำไรจ่ายคืนลูกค้ามีความสัมพันธ์เชิงเส้นตรงที่ระดับนัยสำคัญ 0.01 พร้อมทั้งแสดงค่าสัมประสิทธิ์การตัดสินใจ"
      ],
      "metadata": {
        "id": "IxaiwmCGDTHm"
      }
    },
    {
      "cell_type": "markdown",
      "source": [
        "**หาค่า b0 และ b1**:  \n",
        "  "
      ],
      "metadata": {
        "id": "XVmLced8Cg97"
      }
    },
    {
      "cell_type": "code",
      "source": [
        "df = pd.read_csv(\"https://kasets.art/QdsyoF\")\n",
        "df.head()"
      ],
      "metadata": {
        "colab": {
          "base_uri": "https://localhost:8080/",
          "height": 206
        },
        "id": "qfqdUh05ClyL",
        "outputId": "8158bdef-3e8e-48c3-bf3e-ef0286b7adfb"
      },
      "execution_count": null,
      "outputs": [
        {
          "output_type": "execute_result",
          "data": {
            "text/plain": [
              "   mk_share  payback_customer\n",
              "0        15                24\n",
              "1        14                20\n",
              "2        18                25\n",
              "3        20                28\n",
              "4        10                15"
            ],
            "text/html": [
              "\n",
              "  <div id=\"df-7eebcf39-f48e-4992-8032-ea7a153f81fa\" class=\"colab-df-container\">\n",
              "    <div>\n",
              "<style scoped>\n",
              "    .dataframe tbody tr th:only-of-type {\n",
              "        vertical-align: middle;\n",
              "    }\n",
              "\n",
              "    .dataframe tbody tr th {\n",
              "        vertical-align: top;\n",
              "    }\n",
              "\n",
              "    .dataframe thead th {\n",
              "        text-align: right;\n",
              "    }\n",
              "</style>\n",
              "<table border=\"1\" class=\"dataframe\">\n",
              "  <thead>\n",
              "    <tr style=\"text-align: right;\">\n",
              "      <th></th>\n",
              "      <th>mk_share</th>\n",
              "      <th>payback_customer</th>\n",
              "    </tr>\n",
              "  </thead>\n",
              "  <tbody>\n",
              "    <tr>\n",
              "      <th>0</th>\n",
              "      <td>15</td>\n",
              "      <td>24</td>\n",
              "    </tr>\n",
              "    <tr>\n",
              "      <th>1</th>\n",
              "      <td>14</td>\n",
              "      <td>20</td>\n",
              "    </tr>\n",
              "    <tr>\n",
              "      <th>2</th>\n",
              "      <td>18</td>\n",
              "      <td>25</td>\n",
              "    </tr>\n",
              "    <tr>\n",
              "      <th>3</th>\n",
              "      <td>20</td>\n",
              "      <td>28</td>\n",
              "    </tr>\n",
              "    <tr>\n",
              "      <th>4</th>\n",
              "      <td>10</td>\n",
              "      <td>15</td>\n",
              "    </tr>\n",
              "  </tbody>\n",
              "</table>\n",
              "</div>\n",
              "    <div class=\"colab-df-buttons\">\n",
              "\n",
              "  <div class=\"colab-df-container\">\n",
              "    <button class=\"colab-df-convert\" onclick=\"convertToInteractive('df-7eebcf39-f48e-4992-8032-ea7a153f81fa')\"\n",
              "            title=\"Convert this dataframe to an interactive table.\"\n",
              "            style=\"display:none;\">\n",
              "\n",
              "  <svg xmlns=\"http://www.w3.org/2000/svg\" height=\"24px\" viewBox=\"0 -960 960 960\">\n",
              "    <path d=\"M120-120v-720h720v720H120Zm60-500h600v-160H180v160Zm220 220h160v-160H400v160Zm0 220h160v-160H400v160ZM180-400h160v-160H180v160Zm440 0h160v-160H620v160ZM180-180h160v-160H180v160Zm440 0h160v-160H620v160Z\"/>\n",
              "  </svg>\n",
              "    </button>\n",
              "\n",
              "  <style>\n",
              "    .colab-df-container {\n",
              "      display:flex;\n",
              "      gap: 12px;\n",
              "    }\n",
              "\n",
              "    .colab-df-convert {\n",
              "      background-color: #E8F0FE;\n",
              "      border: none;\n",
              "      border-radius: 50%;\n",
              "      cursor: pointer;\n",
              "      display: none;\n",
              "      fill: #1967D2;\n",
              "      height: 32px;\n",
              "      padding: 0 0 0 0;\n",
              "      width: 32px;\n",
              "    }\n",
              "\n",
              "    .colab-df-convert:hover {\n",
              "      background-color: #E2EBFA;\n",
              "      box-shadow: 0px 1px 2px rgba(60, 64, 67, 0.3), 0px 1px 3px 1px rgba(60, 64, 67, 0.15);\n",
              "      fill: #174EA6;\n",
              "    }\n",
              "\n",
              "    .colab-df-buttons div {\n",
              "      margin-bottom: 4px;\n",
              "    }\n",
              "\n",
              "    [theme=dark] .colab-df-convert {\n",
              "      background-color: #3B4455;\n",
              "      fill: #D2E3FC;\n",
              "    }\n",
              "\n",
              "    [theme=dark] .colab-df-convert:hover {\n",
              "      background-color: #434B5C;\n",
              "      box-shadow: 0px 1px 3px 1px rgba(0, 0, 0, 0.15);\n",
              "      filter: drop-shadow(0px 1px 2px rgba(0, 0, 0, 0.3));\n",
              "      fill: #FFFFFF;\n",
              "    }\n",
              "  </style>\n",
              "\n",
              "    <script>\n",
              "      const buttonEl =\n",
              "        document.querySelector('#df-7eebcf39-f48e-4992-8032-ea7a153f81fa button.colab-df-convert');\n",
              "      buttonEl.style.display =\n",
              "        google.colab.kernel.accessAllowed ? 'block' : 'none';\n",
              "\n",
              "      async function convertToInteractive(key) {\n",
              "        const element = document.querySelector('#df-7eebcf39-f48e-4992-8032-ea7a153f81fa');\n",
              "        const dataTable =\n",
              "          await google.colab.kernel.invokeFunction('convertToInteractive',\n",
              "                                                    [key], {});\n",
              "        if (!dataTable) return;\n",
              "\n",
              "        const docLinkHtml = 'Like what you see? Visit the ' +\n",
              "          '<a target=\"_blank\" href=https://colab.research.google.com/notebooks/data_table.ipynb>data table notebook</a>'\n",
              "          + ' to learn more about interactive tables.';\n",
              "        element.innerHTML = '';\n",
              "        dataTable['output_type'] = 'display_data';\n",
              "        await google.colab.output.renderOutput(dataTable, element);\n",
              "        const docLink = document.createElement('div');\n",
              "        docLink.innerHTML = docLinkHtml;\n",
              "        element.appendChild(docLink);\n",
              "      }\n",
              "    </script>\n",
              "  </div>\n",
              "\n",
              "\n",
              "<div id=\"df-b410812c-ef49-4626-9596-e89b45b03d3b\">\n",
              "  <button class=\"colab-df-quickchart\" onclick=\"quickchart('df-b410812c-ef49-4626-9596-e89b45b03d3b')\"\n",
              "            title=\"Suggest charts\"\n",
              "            style=\"display:none;\">\n",
              "\n",
              "<svg xmlns=\"http://www.w3.org/2000/svg\" height=\"24px\"viewBox=\"0 0 24 24\"\n",
              "     width=\"24px\">\n",
              "    <g>\n",
              "        <path d=\"M19 3H5c-1.1 0-2 .9-2 2v14c0 1.1.9 2 2 2h14c1.1 0 2-.9 2-2V5c0-1.1-.9-2-2-2zM9 17H7v-7h2v7zm4 0h-2V7h2v10zm4 0h-2v-4h2v4z\"/>\n",
              "    </g>\n",
              "</svg>\n",
              "  </button>\n",
              "\n",
              "<style>\n",
              "  .colab-df-quickchart {\n",
              "      --bg-color: #E8F0FE;\n",
              "      --fill-color: #1967D2;\n",
              "      --hover-bg-color: #E2EBFA;\n",
              "      --hover-fill-color: #174EA6;\n",
              "      --disabled-fill-color: #AAA;\n",
              "      --disabled-bg-color: #DDD;\n",
              "  }\n",
              "\n",
              "  [theme=dark] .colab-df-quickchart {\n",
              "      --bg-color: #3B4455;\n",
              "      --fill-color: #D2E3FC;\n",
              "      --hover-bg-color: #434B5C;\n",
              "      --hover-fill-color: #FFFFFF;\n",
              "      --disabled-bg-color: #3B4455;\n",
              "      --disabled-fill-color: #666;\n",
              "  }\n",
              "\n",
              "  .colab-df-quickchart {\n",
              "    background-color: var(--bg-color);\n",
              "    border: none;\n",
              "    border-radius: 50%;\n",
              "    cursor: pointer;\n",
              "    display: none;\n",
              "    fill: var(--fill-color);\n",
              "    height: 32px;\n",
              "    padding: 0;\n",
              "    width: 32px;\n",
              "  }\n",
              "\n",
              "  .colab-df-quickchart:hover {\n",
              "    background-color: var(--hover-bg-color);\n",
              "    box-shadow: 0 1px 2px rgba(60, 64, 67, 0.3), 0 1px 3px 1px rgba(60, 64, 67, 0.15);\n",
              "    fill: var(--button-hover-fill-color);\n",
              "  }\n",
              "\n",
              "  .colab-df-quickchart-complete:disabled,\n",
              "  .colab-df-quickchart-complete:disabled:hover {\n",
              "    background-color: var(--disabled-bg-color);\n",
              "    fill: var(--disabled-fill-color);\n",
              "    box-shadow: none;\n",
              "  }\n",
              "\n",
              "  .colab-df-spinner {\n",
              "    border: 2px solid var(--fill-color);\n",
              "    border-color: transparent;\n",
              "    border-bottom-color: var(--fill-color);\n",
              "    animation:\n",
              "      spin 1s steps(1) infinite;\n",
              "  }\n",
              "\n",
              "  @keyframes spin {\n",
              "    0% {\n",
              "      border-color: transparent;\n",
              "      border-bottom-color: var(--fill-color);\n",
              "      border-left-color: var(--fill-color);\n",
              "    }\n",
              "    20% {\n",
              "      border-color: transparent;\n",
              "      border-left-color: var(--fill-color);\n",
              "      border-top-color: var(--fill-color);\n",
              "    }\n",
              "    30% {\n",
              "      border-color: transparent;\n",
              "      border-left-color: var(--fill-color);\n",
              "      border-top-color: var(--fill-color);\n",
              "      border-right-color: var(--fill-color);\n",
              "    }\n",
              "    40% {\n",
              "      border-color: transparent;\n",
              "      border-right-color: var(--fill-color);\n",
              "      border-top-color: var(--fill-color);\n",
              "    }\n",
              "    60% {\n",
              "      border-color: transparent;\n",
              "      border-right-color: var(--fill-color);\n",
              "    }\n",
              "    80% {\n",
              "      border-color: transparent;\n",
              "      border-right-color: var(--fill-color);\n",
              "      border-bottom-color: var(--fill-color);\n",
              "    }\n",
              "    90% {\n",
              "      border-color: transparent;\n",
              "      border-bottom-color: var(--fill-color);\n",
              "    }\n",
              "  }\n",
              "</style>\n",
              "\n",
              "  <script>\n",
              "    async function quickchart(key) {\n",
              "      const quickchartButtonEl =\n",
              "        document.querySelector('#' + key + ' button');\n",
              "      quickchartButtonEl.disabled = true;  // To prevent multiple clicks.\n",
              "      quickchartButtonEl.classList.add('colab-df-spinner');\n",
              "      try {\n",
              "        const charts = await google.colab.kernel.invokeFunction(\n",
              "            'suggestCharts', [key], {});\n",
              "      } catch (error) {\n",
              "        console.error('Error during call to suggestCharts:', error);\n",
              "      }\n",
              "      quickchartButtonEl.classList.remove('colab-df-spinner');\n",
              "      quickchartButtonEl.classList.add('colab-df-quickchart-complete');\n",
              "    }\n",
              "    (() => {\n",
              "      let quickchartButtonEl =\n",
              "        document.querySelector('#df-b410812c-ef49-4626-9596-e89b45b03d3b button');\n",
              "      quickchartButtonEl.style.display =\n",
              "        google.colab.kernel.accessAllowed ? 'block' : 'none';\n",
              "    })();\n",
              "  </script>\n",
              "</div>\n",
              "    </div>\n",
              "  </div>\n"
            ],
            "application/vnd.google.colaboratory.intrinsic+json": {
              "type": "dataframe",
              "variable_name": "df",
              "summary": "{\n  \"name\": \"df\",\n  \"rows\": 14,\n  \"fields\": [\n    {\n      \"column\": \"mk_share\",\n      \"properties\": {\n        \"dtype\": \"number\",\n        \"std\": 3,\n        \"min\": 10,\n        \"max\": 22,\n        \"num_unique_values\": 12,\n        \"samples\": [\n          22,\n          17,\n          15\n        ],\n        \"semantic_type\": \"\",\n        \"description\": \"\"\n      }\n    },\n    {\n      \"column\": \"payback_customer\",\n      \"properties\": {\n        \"dtype\": \"number\",\n        \"std\": 5,\n        \"min\": 12,\n        \"max\": 30,\n        \"num_unique_values\": 10,\n        \"samples\": [\n          13,\n          20,\n          16\n        ],\n        \"semantic_type\": \"\",\n        \"description\": \"\"\n      }\n    }\n  ]\n}"
            }
          },
          "metadata": {},
          "execution_count": 2
        }
      ]
    },
    {
      "cell_type": "markdown",
      "source": [
        "จากสมการ $\\hat{y}=b_0+b_1x$ เมื่อ   \n",
        "y คือ สัดส่วนการครองตลาด(%)  \n",
        "x คือ กำไรจ่ายคืนลูกค้า  "
      ],
      "metadata": {
        "id": "PVbeHKGxGxBl"
      }
    },
    {
      "cell_type": "code",
      "source": [
        "x = df.payback_customer\n",
        "y = df.mk_share\n",
        "x_wconst = sm.add_constant(x)\n",
        "lr = sm.OLS(y, x_wconst).fit()\n",
        "print(lr.summary())"
      ],
      "metadata": {
        "colab": {
          "base_uri": "https://localhost:8080/"
        },
        "id": "bfAvWS3ACraG",
        "outputId": "e0130eb2-13f2-4dfc-de1d-6fb5b3c39f26"
      },
      "execution_count": null,
      "outputs": [
        {
          "output_type": "stream",
          "name": "stdout",
          "text": [
            "                            OLS Regression Results                            \n",
            "==============================================================================\n",
            "Dep. Variable:               mk_share   R-squared:                       0.746\n",
            "Model:                            OLS   Adj. R-squared:                  0.725\n",
            "Method:                 Least Squares   F-statistic:                     35.31\n",
            "Date:                Tue, 27 Feb 2024   Prob (F-statistic):           6.79e-05\n",
            "Time:                        11:41:25   Log-Likelihood:                -28.283\n",
            "No. Observations:                  14   AIC:                             60.57\n",
            "Df Residuals:                      12   BIC:                             61.84\n",
            "Df Model:                           1                                         \n",
            "Covariance Type:            nonrobust                                         \n",
            "====================================================================================\n",
            "                       coef    std err          t      P>|t|      [0.025      0.975]\n",
            "------------------------------------------------------------------------------------\n",
            "const                4.4957      1.868      2.407      0.033       0.427       8.565\n",
            "payback_customer     0.5500      0.093      5.942      0.000       0.348       0.752\n",
            "==============================================================================\n",
            "Omnibus:                        0.325   Durbin-Watson:                   0.989\n",
            "Prob(Omnibus):                  0.850   Jarque-Bera (JB):                0.433\n",
            "Skew:                           0.275   Prob(JB):                        0.805\n",
            "Kurtosis:                       2.336   Cond. No.                         71.7\n",
            "==============================================================================\n",
            "\n",
            "Notes:\n",
            "[1] Standard Errors assume that the covariance matrix of the errors is correctly specified.\n"
          ]
        },
        {
          "output_type": "stream",
          "name": "stderr",
          "text": [
            "/usr/local/lib/python3.10/dist-packages/scipy/stats/_stats_py.py:1806: UserWarning: kurtosistest only valid for n>=20 ... continuing anyway, n=14\n",
            "  warnings.warn(\"kurtosistest only valid for n>=20 ... continuing \"\n"
          ]
        }
      ]
    },
    {
      "cell_type": "code",
      "source": [
        "b0 = lr.params['const'] #หรือ b0 = 4.4957 ตามตาราง\n",
        "b1 = lr.params['payback_customer'] #หรือ b1 = 0.5500 ตามตาราง"
      ],
      "metadata": {
        "id": "jcZsUCg0Dnkb"
      },
      "execution_count": null,
      "outputs": []
    },
    {
      "cell_type": "code",
      "source": [
        "print(b0, b1)"
      ],
      "metadata": {
        "colab": {
          "base_uri": "https://localhost:8080/"
        },
        "id": "TONxhl3WX0Lw",
        "outputId": "bc2c4614-8e41-4798-e1a6-91198c9dfd41"
      },
      "execution_count": null,
      "outputs": [
        {
          "output_type": "stream",
          "name": "stdout",
          "text": [
            "4.495665878644603 0.5500394011032314\n"
          ]
        }
      ]
    },
    {
      "cell_type": "markdown",
      "source": [
        "<font color='blue'>แสดงกราฟ:</font>"
      ],
      "metadata": {
        "id": "FFs9njWGY_Xz"
      }
    },
    {
      "cell_type": "code",
      "source": [
        "y_hat = lr.predict(x_wconst)\n",
        "sns.scatterplot(data=df, x='payback_customer', y='mk_share', color='g')\n",
        "plt.plot(df.payback_customer, y_hat)"
      ],
      "metadata": {
        "colab": {
          "base_uri": "https://localhost:8080/",
          "height": 467
        },
        "id": "WYkGAT2xY-dI",
        "outputId": "706064b5-9e69-448a-c5c7-7d74734cc6bc"
      },
      "execution_count": null,
      "outputs": [
        {
          "output_type": "execute_result",
          "data": {
            "text/plain": [
              "[<matplotlib.lines.Line2D at 0x78c9e98824d0>]"
            ]
          },
          "metadata": {},
          "execution_count": 6
        },
        {
          "output_type": "display_data",
          "data": {
            "text/plain": [
              "<Figure size 640x480 with 1 Axes>"
            ],
            "image/png": "[encoded data removed]"
          },
          "metadata": {}
        }
      ]
    },
    {
      "cell_type": "markdown",
      "source": [
        "**เมื่อ y = 70, x=?**:  "
      ],
      "metadata": {
        "id": "DphlXTIYCWNL"
      }
    },
    {
      "cell_type": "code",
      "source": [
        "#70 = b0 + b1*x\n",
        "x = (70-b0)/b1\n",
        "x"
      ],
      "metadata": {
        "colab": {
          "base_uri": "https://localhost:8080/"
        },
        "id": "nZiY7NgODxoU",
        "outputId": "15970ca8-768f-4730-db68-8d32d04c07ea"
      },
      "execution_count": null,
      "outputs": [
        {
          "output_type": "execute_result",
          "data": {
            "text/plain": [
              "119.09025787965606"
            ]
          },
          "metadata": {},
          "execution_count": 7
        }
      ]
    },
    {
      "cell_type": "markdown",
      "source": [
        "**สมมติฐาน**:  \n",
        "  "
      ],
      "metadata": {
        "id": "Xpl_mypqnFB1"
      }
    },
    {
      "cell_type": "markdown",
      "source": [
        "จากสมการ $y=𝛽_0+𝛽_1x+ϵ$ เมื่อ   \n",
        "y คือ สัดส่วนการครองตลาด(%)  \n",
        "x คือ กำไรจ่ายคืนลูกค้า  \n",
        "จะได้ว่า\n",
        "\n",
        "H0: $𝛽_1=0$ (สัดส่วนการครองตลาด(%)และกำไรจ่ายคืนลูกค้าไม่มีความสัมพันธ์เชิงเส้นตรง)  \n",
        "H1: $𝛽_1\\ne0$ (สัดส่วนการครองตลาด(%)และกำไรจ่ายคืนลูกค้ามีความสัมพันธ์เชิงเส้นตรง)"
      ],
      "metadata": {
        "id": "2srpsGBVEr1p"
      }
    },
    {
      "cell_type": "markdown",
      "source": [
        "**ค่า F_cal**:  \n",
        "  "
      ],
      "metadata": {
        "id": "4THJ8YWt07g7"
      }
    },
    {
      "cell_type": "code",
      "source": [
        "F_cal = lr.fvalue #หรือ F_cal = 35.31 ตามตาราง\n",
        "F_cal"
      ],
      "metadata": {
        "colab": {
          "base_uri": "https://localhost:8080/"
        },
        "id": "uKeDFyV7HNIr",
        "outputId": "4ba3180d-4608-43da-f113-9c01d45e9ccb"
      },
      "execution_count": null,
      "outputs": [
        {
          "output_type": "execute_result",
          "data": {
            "text/plain": [
              "35.31111991573331"
            ]
          },
          "metadata": {},
          "execution_count": 8
        }
      ]
    },
    {
      "cell_type": "markdown",
      "source": [
        "**หาค่า F_crit:**   "
      ],
      "metadata": {
        "id": "Jkfv62ib31L9"
      }
    },
    {
      "cell_type": "code",
      "source": [
        "F_crit = stats.f.isf(0.01,  dfn=1, dfd=12)\n",
        "F_crit"
      ],
      "metadata": {
        "colab": {
          "base_uri": "https://localhost:8080/"
        },
        "id": "ciM8ThlfXqLF",
        "outputId": "1545b646-e39a-417d-bb69-7e17029bd3ac"
      },
      "execution_count": null,
      "outputs": [
        {
          "output_type": "execute_result",
          "data": {
            "text/plain": [
              "9.330212103168536"
            ]
          },
          "metadata": {},
          "execution_count": 9
        }
      ]
    },
    {
      "cell_type": "markdown",
      "source": [
        "**หาค่า p-val:**   "
      ],
      "metadata": {
        "id": "Zc8PcBJF4ffB"
      }
    },
    {
      "cell_type": "code",
      "source": [
        "p_val = lr.f_pvalue #หรือ p_val = 6.79e-05 ตามตาราง\n",
        "p_val"
      ],
      "metadata": {
        "colab": {
          "base_uri": "https://localhost:8080/"
        },
        "id": "eYpZYOYIZ7Aj",
        "outputId": "23f3ada2-7043-464b-cd18-ff687fa5ef7a"
      },
      "execution_count": null,
      "outputs": [
        {
          "output_type": "execute_result",
          "data": {
            "text/plain": [
              "6.793657739462244e-05"
            ]
          },
          "metadata": {},
          "execution_count": 10
        }
      ]
    },
    {
      "cell_type": "markdown",
      "source": [
        "**สรุปผล:**   "
      ],
      "metadata": {
        "id": "ZdkECqGz5eeI"
      }
    },
    {
      "cell_type": "markdown",
      "source": [
        "- F_cal อยู่ในบริเวณวิกฤต\n",
        "- p_val < 0.01   \n",
        "\n",
        "ดังนั้นปฏิเสธ H0 ยอมรับ H1 𝛽1≠0  (สัดส่วนการครองตลาด(%)และกำไรจ่ายคืนลูกค้ามีความสัมพันธ์เชิงเส้นตรง)"
      ],
      "metadata": {
        "id": "IXymOsF-aUeL"
      }
    },
    {
      "cell_type": "markdown",
      "source": [
        "**กราฟแจกแจงความน่าจะเป็น:**  "
      ],
      "metadata": {
        "id": "NvPKTvT_wqCL"
      }
    },
    {
      "cell_type": "code",
      "source": [
        "x = np.linspace(0,35,1000)\n",
        "y = [stats.f.pdf(v,dfn=1, dfd=12) for v in x]\n",
        "F_critical_right = F_crit\n",
        "\n",
        "plt.plot(x,y, color='g')\n",
        "plt.fill_between(x[x>=F_critical_right],\n",
        "                 stats.f.pdf(x[x>=F_critical_right],  dfn=1, dfd=12),\n",
        "                 color='g'\n",
        "                 )\n",
        "plt.text(F_critical_right-1.7, 0, f\"+{F_critical_right:.3f}\", color='r')\n",
        "plt.axvline(F_cal, ls=':', color='r')"
      ],
      "metadata": {
        "colab": {
          "base_uri": "https://localhost:8080/",
          "height": 447
        },
        "outputId": "7572fbb5-e1ba-4219-aefa-9d4a6ff9e9e6",
        "id": "puIgZrJPyJ3K"
      },
      "execution_count": null,
      "outputs": [
        {
          "output_type": "execute_result",
          "data": {
            "text/plain": [
              "<matplotlib.lines.Line2D at 0x78c9e96c8b80>"
            ]
          },
          "metadata": {},
          "execution_count": 11
        },
        {
          "output_type": "display_data",
          "data": {
            "text/plain": [
              "<Figure size 640x480 with 1 Axes>"
            ],
            "image/png": "[encoded data removed]"
          },
          "metadata": {}
        }
      ]
    },
    {
      "cell_type": "markdown",
      "source": [
        "**ค่า $r^2$:**   "
      ],
      "metadata": {
        "id": "BDlUSP9qcko9"
      }
    },
    {
      "cell_type": "code",
      "source": [
        "r2 = lr.rsquared #หรือ r2 = 0.746 ตามตาราง\n",
        "r2"
      ],
      "metadata": {
        "colab": {
          "base_uri": "https://localhost:8080/"
        },
        "id": "EtXnwjMLCPjM",
        "outputId": "0f6cf51c-d470-41bf-823d-bd4c8235896c"
      },
      "execution_count": null,
      "outputs": [
        {
          "output_type": "execute_result",
          "data": {
            "text/plain": [
              "0.7463598405327665"
            ]
          },
          "metadata": {},
          "execution_count": 12
        }
      ]
    },
    {
      "cell_type": "code",
      "source": [],
      "metadata": {
        "id": "atz0VeZDCQ9w"
      },
      "execution_count": null,
      "outputs": []
    }
  ]
}