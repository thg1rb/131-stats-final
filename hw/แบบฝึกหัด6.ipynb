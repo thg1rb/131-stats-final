{
 "cells": [
  {
   "cell_type": "markdown",
   "metadata": {
    "id": "U3ArbMi8JHGD"
   },
   "source": [
    "# แบบฝึกหัด 6"
   ]
  },
  {
   "cell_type": "markdown",
   "metadata": {
    "id": "t9RQYuu-JUwP"
   },
   "source": [
    "---"
   ]
  },
  {
   "cell_type": "code",
   "execution_count": 1,
   "metadata": {
    "id": "YY-EeJDrQn80"
   },
   "outputs": [],
   "source": [
    "import numpy as np\n",
    "import pandas as pd\n",
    "from scipy import stats\n",
    "from statsmodels.stats.proportion import proportions_ztest"
   ]
  },
  {
   "cell_type": "markdown",
   "metadata": {
    "id": "QHjwP-tnOuU5"
   },
   "source": [
    "8.1 ร้านค้าออนไลน์ขายเมล็ดพืชหายากชนิดหนึ่ง อ้างว่าเมล็ดที่ขายมีเปอร์เซ็นต์การงอกสูงกว่า 90% จากการทดลองของลูกค้ารายหนึ่งได้สั่งซื้อเมล็ดมาทั้งหมด 100 เมล็ดและพบว่ามี 14 เมล็ดที่ไม่งอก จงทดสอบคำกล่าวอ้างของร้านค้าว่าเป็นจริงหรือไม่ที่ระดับนัยสำคัญ 0.05 หากถือว่าอัตราการงอกของเมล็ดพืชดังกล่าวมีการแจกแจงแบบปกติ"
   ]
  },
  {
   "cell_type": "code",
   "execution_count": 2,
   "metadata": {},
   "outputs": [
    {
     "data": {
      "text/plain": [
       "(-1.3333333333333346, 0.4800611941616275, 0.9087887802741323)"
      ]
     },
     "execution_count": 2,
     "metadata": {},
     "output_type": "execute_result"
    }
   ],
   "source": [
    "#แสดงสมมติฐาน พร้อมวิธีหาค่าcal ค่าp-value และการสรุปผล\n",
    "# สนใจการงอก\n",
    "# H0: P1 <= P0\n",
    "# H1: P1 >  P0 (*)\n",
    "\n",
    "n = 100\n",
    "x = n - 14\n",
    "P0 = 90 / 100\n",
    "alpha = 0.05\n",
    "\n",
    "z_cal, p_value = proportions_ztest(count=x,\n",
    "                                   nobs=n,\n",
    "                                   value=P0,\n",
    "                                   alternative=\"larger\",\n",
    "                                   prop_var=P0)\n",
    "z_crit = stats.norm.sf(alpha)\n",
    "\n",
    "z_cal, z_crit, p_value\n",
    "# ยอมรับสมมติฐานหลัก H0 (คำกล่าวอ้างเป็นเท็จ)"
   ]
  },
  {
   "cell_type": "markdown",
   "metadata": {
    "id": "Tl6eIfL9R7Qx"
   },
   "source": [
    "8.2 สืบเนื่องจากข้อ 8.1 พบว่ามีร้านค้าออนไลน์อีกเจ้าซึ่งขายเมล็ดพืชหายากชนิดเดียวกันนี้ อ้างว่าเมล็ดที่ขายมีเปอร์เซนต์การงอกสูงกว่า 95% จึงสั่งซื้อมา 50 เมล็ดพบว่ามี 4 เมล็ดที่ไม่งอก จงทดสอบว่าร้านค้านี้ขายเมล็ดซึ่งมีเปอร์เซ็นต์การงอกสูงกว่าร้านค้าแรกมากกว่าหรือเท่ากับ 5% หรือไม่ ที่ระดับนัยสำคัญ 0.05"
   ]
  },
  {
   "cell_type": "code",
   "execution_count": 3,
   "metadata": {},
   "outputs": [
    {
     "data": {
      "text/plain": [
       "(0.17766726362967628, -1.6448536269514729, 0.5705078519955205)"
      ]
     },
     "execution_count": 3,
     "metadata": {},
     "output_type": "execute_result"
    }
   ],
   "source": [
    "#แสดงสมมติฐาน พร้อมวิธีหาค่าcal ค่าp-value และการสรุปผล\n",
    "# สนใจการงอก\n",
    "# H0: P1 - P2 >= P0 (*)\n",
    "# H1: P1 - P2 <  P0 \n",
    "# P1 ต้องเป็นตัวที่มีเปอร์เซนต์สูง\n",
    "\n",
    "alpha = 0.05\n",
    "P0 = 5 / 100\n",
    "\n",
    "n1 = 50\n",
    "x1 = n1 - 4\n",
    "\n",
    "n2 = 100\n",
    "x2 = n2 - 14\n",
    "\n",
    "z_cal, p_value = proportions_ztest(count=[x1, x2],\n",
    "                                   nobs=[n1, n2],\n",
    "                                   value=P0,\n",
    "                                   alternative=\"smaller\",)\n",
    "z_crit = stats.norm.ppf(alpha)\n",
    "\n",
    "z_cal, z_crit, p_value"
   ]
  },
  {
   "cell_type": "markdown",
   "metadata": {
    "id": "JAxlkGQCXR2L"
   },
   "source": [
    "8.3 จากชุดข้อมูล \"titanic.csv\" จงทดสอบว่าส่วนเบี่ยงเบนมาตราฐานข้อมูลอายุผู้โดยสารมีค่าน้อยกว่า 10 ปีหรือไม่ที่ระดับความเชื่อมั่น 99% หากกำหนดให้ข้อมูลอายุผู้โดยสารมีการแจกแจงแบบปกติ"
   ]
  },
  {
   "cell_type": "code",
   "execution_count": 4,
   "metadata": {},
   "outputs": [
    {
     "data": {
      "text/html": [
       "<div>\n",
       "<style scoped>\n",
       "    .dataframe tbody tr th:only-of-type {\n",
       "        vertical-align: middle;\n",
       "    }\n",
       "\n",
       "    .dataframe tbody tr th {\n",
       "        vertical-align: top;\n",
       "    }\n",
       "\n",
       "    .dataframe thead th {\n",
       "        text-align: right;\n",
       "    }\n",
       "</style>\n",
       "<table border=\"1\" class=\"dataframe\">\n",
       "  <thead>\n",
       "    <tr style=\"text-align: right;\">\n",
       "      <th></th>\n",
       "      <th>PassengerId</th>\n",
       "      <th>Survived</th>\n",
       "      <th>Pclass</th>\n",
       "      <th>Name</th>\n",
       "      <th>Sex</th>\n",
       "      <th>Age</th>\n",
       "      <th>SibSp</th>\n",
       "      <th>Parch</th>\n",
       "      <th>Ticket</th>\n",
       "      <th>Fare</th>\n",
       "      <th>Cabin</th>\n",
       "      <th>Embarked</th>\n",
       "    </tr>\n",
       "  </thead>\n",
       "  <tbody>\n",
       "    <tr>\n",
       "      <th>0</th>\n",
       "      <td>1</td>\n",
       "      <td>0</td>\n",
       "      <td>3</td>\n",
       "      <td>Braund, Mr. Owen Harris</td>\n",
       "      <td>male</td>\n",
       "      <td>22.0</td>\n",
       "      <td>1</td>\n",
       "      <td>0</td>\n",
       "      <td>A/5 21171</td>\n",
       "      <td>7.2500</td>\n",
       "      <td>NaN</td>\n",
       "      <td>S</td>\n",
       "    </tr>\n",
       "    <tr>\n",
       "      <th>1</th>\n",
       "      <td>2</td>\n",
       "      <td>1</td>\n",
       "      <td>1</td>\n",
       "      <td>Cumings, Mrs. John Bradley (Florence Briggs Th...</td>\n",
       "      <td>female</td>\n",
       "      <td>38.0</td>\n",
       "      <td>1</td>\n",
       "      <td>0</td>\n",
       "      <td>PC 17599</td>\n",
       "      <td>71.2833</td>\n",
       "      <td>C85</td>\n",
       "      <td>C</td>\n",
       "    </tr>\n",
       "    <tr>\n",
       "      <th>2</th>\n",
       "      <td>3</td>\n",
       "      <td>1</td>\n",
       "      <td>3</td>\n",
       "      <td>Heikkinen, Miss. Laina</td>\n",
       "      <td>female</td>\n",
       "      <td>26.0</td>\n",
       "      <td>0</td>\n",
       "      <td>0</td>\n",
       "      <td>STON/O2. 3101282</td>\n",
       "      <td>7.9250</td>\n",
       "      <td>NaN</td>\n",
       "      <td>S</td>\n",
       "    </tr>\n",
       "    <tr>\n",
       "      <th>3</th>\n",
       "      <td>4</td>\n",
       "      <td>1</td>\n",
       "      <td>1</td>\n",
       "      <td>Futrelle, Mrs. Jacques Heath (Lily May Peel)</td>\n",
       "      <td>female</td>\n",
       "      <td>35.0</td>\n",
       "      <td>1</td>\n",
       "      <td>0</td>\n",
       "      <td>113803</td>\n",
       "      <td>53.1000</td>\n",
       "      <td>C123</td>\n",
       "      <td>S</td>\n",
       "    </tr>\n",
       "    <tr>\n",
       "      <th>4</th>\n",
       "      <td>5</td>\n",
       "      <td>0</td>\n",
       "      <td>3</td>\n",
       "      <td>Allen, Mr. William Henry</td>\n",
       "      <td>male</td>\n",
       "      <td>35.0</td>\n",
       "      <td>0</td>\n",
       "      <td>0</td>\n",
       "      <td>373450</td>\n",
       "      <td>8.0500</td>\n",
       "      <td>NaN</td>\n",
       "      <td>S</td>\n",
       "    </tr>\n",
       "  </tbody>\n",
       "</table>\n",
       "</div>"
      ],
      "text/plain": [
       "   PassengerId  Survived  Pclass  \\\n",
       "0            1         0       3   \n",
       "1            2         1       1   \n",
       "2            3         1       3   \n",
       "3            4         1       1   \n",
       "4            5         0       3   \n",
       "\n",
       "                                                Name     Sex   Age  SibSp  \\\n",
       "0                            Braund, Mr. Owen Harris    male  22.0      1   \n",
       "1  Cumings, Mrs. John Bradley (Florence Briggs Th...  female  38.0      1   \n",
       "2                             Heikkinen, Miss. Laina  female  26.0      0   \n",
       "3       Futrelle, Mrs. Jacques Heath (Lily May Peel)  female  35.0      1   \n",
       "4                           Allen, Mr. William Henry    male  35.0      0   \n",
       "\n",
       "   Parch            Ticket     Fare Cabin Embarked  \n",
       "0      0         A/5 21171   7.2500   NaN        S  \n",
       "1      0          PC 17599  71.2833   C85        C  \n",
       "2      0  STON/O2. 3101282   7.9250   NaN        S  \n",
       "3      0            113803  53.1000  C123        S  \n",
       "4      0            373450   8.0500   NaN        S  "
      ]
     },
     "execution_count": 4,
     "metadata": {},
     "output_type": "execute_result"
    }
   ],
   "source": [
    "df = pd.read_csv(\"https://raw.githubusercontent.com/ThammakornS/ProgStat/main/titanic.csv\")\n",
    "df.head()"
   ]
  },
  {
   "cell_type": "code",
   "execution_count": 5,
   "metadata": {
    "id": "eE0UT708g4d_"
   },
   "outputs": [
    {
     "data": {
      "text/plain": [
       "(1504.5663594411762, 628.1028368095084, 1.0)"
      ]
     },
     "execution_count": 5,
     "metadata": {},
     "output_type": "execute_result"
    }
   ],
   "source": [
    "#แสดงสมมติฐาน พร้อมวิธีหาค่าcal ค่าp-value และการสรุปผล\n",
    "# H0: sigma1_2 >= sigma0_2 \n",
    "# H1: sigma1_2 <  sigma0_2 (*)\n",
    "\n",
    "alpha = (100 - 99) / 100\n",
    "sigma0 = 10\n",
    "sigma0_2 = sigma0**2\n",
    "\n",
    "n = len(df.Age.dropna())\n",
    "s2 = np.var(df.Age, ddof=1)\n",
    "\n",
    "chi2_cal = ( (n-1) * s2 ) / (sigma0_2)\n",
    "chi2_crit = stats.chi2.ppf(alpha, df=n-1)\n",
    "p_value = stats.chi2.cdf(chi2_cal, df=n-1)\n",
    "\n",
    "chi2_cal, chi2_crit, p_value\n",
    "\n",
    "# ยอมรับสมมติฐานหลัก H0 (การทดสอบเป็นเท็จ)"
   ]
  },
  {
   "cell_type": "markdown",
   "metadata": {
    "id": "rZ8GvZovcRmI"
   },
   "source": [
    "8.4 จากข้อ 8.3 จงทดสอบว่ากลุ่มผู้โดยสารชั้น Pclass = 1 มีความแปรปรวนของอายุเท่ากับ กลุ่มผู้โดยสารชั้น Pclass = 2 หรือไม่ที่ระดับนัยสำคัญ 0.05"
   ]
  },
  {
   "cell_type": "code",
   "execution_count": 6,
   "metadata": {
    "id": "ebjm535ag6tE"
   },
   "outputs": [
    {
     "data": {
      "text/plain": [
       "(0.6794935571367466,\n",
       " 1.117810400886476,\n",
       " 1.4751747441445933,\n",
       " 0.45933712642977714)"
      ]
     },
     "execution_count": 6,
     "metadata": {},
     "output_type": "execute_result"
    }
   ],
   "source": [
    "#แสดงสมมติฐาน พร้อมวิธีหาค่าcal ค่าp-value และการสรุปผล\n",
    "# H0: sigma1_2 / sigma2_2 == 1\n",
    "# H1: sigma1_2 / sigma2_2 != 1\n",
    "\n",
    "age_p1 = df[df.Pclass == 1].Age.dropna()\n",
    "age_p2 = df[df.Pclass == 2].Age.dropna()\n",
    "\n",
    "n1 = len(age_p1)\n",
    "n2 = len(age_p2)\n",
    "\n",
    "s1_2 = np.var(age_p1, ddof=1)\n",
    "s2_2 = np.var(age_p2, ddof=1)\n",
    "\n",
    "dfn = n1-1\n",
    "dfd = n2-1\n",
    "\n",
    "f_cal = (s1_2 / s2_2)\n",
    "f_crit_left = stats.f.ppf(alpha/2, dfn=dfn, dfd=dfd)\n",
    "f_crit_right = stats.f.isf(alpha/2, dfn=dfn, dfd=dfd)\n",
    "\n",
    "p_value = 2*min( stats.f.cdf(f_cal, dfn=dfn, dfd=dfd), stats.f.sf(f_cal, dfn=dfn, dfd=dfd) )\n",
    "\n",
    "f_crit_left, f_cal, f_crit_right, p_value\n",
    "# ยอมรับสมมติฐานหลัก H0 (ความแปรปรวนของอายุของทั้ง 2 กลุ่มเท่ากัน)"
   ]
  }
 ],
 "metadata": {
  "colab": {
   "authorship_tag": "ABX9TyMS866MY+Ieox2N2+TMxjYb",
   "mount_file_id": "13_V3qsBRcrQoQ1jmKWGvytbMFB2dNZhd",
   "provenance": []
  },
  "kernelspec": {
   "display_name": "Python 3 (ipykernel)",
   "language": "python",
   "name": "python3"
  },
  "language_info": {
   "codemirror_mode": {
    "name": "ipython",
    "version": 3
   },
   "file_extension": ".py",
   "mimetype": "text/x-python",
   "name": "python",
   "nbconvert_exporter": "python",
   "pygments_lexer": "ipython3",
   "version": "3.11.7"
  }
 },
 "nbformat": 4,
 "nbformat_minor": 4
}
