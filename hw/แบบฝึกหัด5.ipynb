{
 "cells": [
  {
   "cell_type": "markdown",
   "metadata": {
    "id": "U3ArbMi8JHGD"
   },
   "source": [
    "# แบบฝึกหัด 5"
   ]
  },
  {
   "cell_type": "markdown",
   "metadata": {
    "id": "t9RQYuu-JUwP"
   },
   "source": [
    "---"
   ]
  },
  {
   "cell_type": "code",
   "execution_count": null,
   "metadata": {
    "id": "5LcuhePsgM1w"
   },
   "outputs": [],
   "source": [
    "import numpy as np\n",
    "from scipy import stats\n",
    "from statsmodels.stats.weightstats import ztest"
   ]
  },
  {
   "cell_type": "markdown",
   "metadata": {
    "id": "ag3TNOoapF2I"
   },
   "source": [
    "5.1 จากการเก็บข้อมูลของบูธร้านค้าร้านหนึ่งในงานเกษตรแฟร์โดยสุ่มตัวอย่างลูกค้ามาทั้งหมด 200 คน พบว่ามีอายุเฉลี่ย 42.8 ปี ส่วนเบี่ยงเบนมาตราฐาน 6.89 ปี ผู้ประกอบการร้านแห่งนี้จึงตั้งสมมุติฐานว่า ลูกค้าของทางร้านมีอายุเฉลี่ยสูงกว่า 40 ปี ที่ระดับนัยสำคัญ 0.01 สมมุติฐานนี้ถูกต้องหรือไม่ หากกำหนดให้การแจกแจงของอายุเป็นแบบปกติ  "
   ]
  },
  {
   "cell_type": "code",
   "execution_count": null,
   "metadata": {
    "id": "eGMlvK2UXrtE"
   },
   "outputs": [],
   "source": [
    "#แสดงวิธีทำ\n",
    "# H0: mu1 <= mu0\n",
    "# H1: mu1 >  mu0 (*)\n",
    "\n",
    "n = 200\n",
    "x_bar = 42.8\n",
    "s = 6.89\n",
    "alpha = 0.01\n",
    "mu0 = 40\n",
    "\n",
    "z_cal = ( (x_bar - mu0) / (s / np.sqrt(n) ) )\n",
    "z_crit = stats.norm.isf(alpha)\n",
    "\n",
    "p_value = stats.norm.sf(z_cal)\n",
    "\n",
    "z_cal, z_crit, p_value\n",
    "\n",
    "# ปฎิเสธสมมติฐานหลัก ยอมรับสมมติฐานรอง H1 (การทดสอบเป็นจริง)"
   ]
  },
  {
   "cell_type": "markdown",
   "metadata": {
    "id": "IzcoD0hL8AQB"
   },
   "source": [
    "###   "
   ]
  },
  {
   "cell_type": "markdown",
   "metadata": {
    "id": "QIrBZzg28EEi"
   },
   "source": [
    "5.2 สุ่มตัวอย่างผลิตภัณฑ์ซักล้างยี่ห้อหนึ่งมาจำนวน 8 ชิ้นเพื่อวัดปริมาณสารพิษ พบว่าได้ปริมาณดังนี้ (10<sup>6</sup>ppm) 15, 8, 10, 13, 6, 16, 11, 18 จงทดสอบว่าปริมาณสารพิษของผลิตภัณฑ์ซักล้างยี่ห้อนี้มากกว่าหรือเท่ากับ (≥) 18x10<sup>6</sup>ppm ที่ระดับนัยสำคัญ 0.05 หรือไม่ หากกำหนดให้ปริมาณสารพิษชนิดนี้มีการแจกแจงแบบปกติ      "
   ]
  },
  {
   "cell_type": "code",
   "execution_count": null,
   "metadata": {
    "id": "z7-tVncsuMB2"
   },
   "outputs": [],
   "source": [
    "#แสดงวิธีทำ\n",
    "# H0: mu1 >= mo0 (*)\n",
    "# H1: mu1 <  mu0\n",
    "\n",
    "n = 8\n",
    "sample = [15, 8, 10, 13, 6, 16, 11, 18]\n",
    "mu0 = 18\n",
    "alpha = 0.05\n",
    "\n",
    "t_cal, p_value = stats.ttest_1samp(a=sample,\n",
    "                                   popmean=mu0,\n",
    "                                   alternative=\"less\")\n",
    "t_crit = stats.t.ppf(alpha, df=n-1)\n",
    "\n",
    "t_cal, t_crit, p_value\n",
    "\n",
    "# ปฏิเสธสมมติฐานหลัก ยอมรับ H1 (การทดสอบเป็นเท็จ)"
   ]
  },
  {
   "cell_type": "markdown",
   "metadata": {
    "id": "NfuOc0DEX-mV"
   },
   "source": [
    "###   "
   ]
  },
  {
   "cell_type": "markdown",
   "metadata": {
    "id": "LRa6VC8dX-mc"
   },
   "source": [
    "5.3 ทำการ ping 158.108.216.5 จำนวน 10 ครั้ง ได้ระยะเวลาในหน่วย ms (milliseconds) ดังนี้ 28.2, 26.5, 30.7, 24.1, 25.3, 29.2, 21.6, 26.7, 23.4, 27.3 จงทดสอบว่าระยะเวลาที่ใช้ในการ ping โดยเฉลี่ยมีค่าเท่ากับ 26 ms หรือไม่ที่ระดับนัยสำคัญ 0.05 หากทราบมาว่าระยะเวลาที่ใช้ในการ ping มีการแจกแจงแบบปกติ"
   ]
  },
  {
   "cell_type": "code",
   "execution_count": null,
   "metadata": {
    "id": "4SyUkxgouNU4"
   },
   "outputs": [],
   "source": [
    "#แสดงวิธีทำ\n",
    "# H0: mu1 == mu0 (*)\n",
    "# H1: mu1 != mu0 \n",
    "\n",
    "n = 10\n",
    "sample = [28.2, 26.5, 30.7, 24.1, 25.3, 29.2, 21.6, 26.7, 23.4, 27.3]\n",
    "mu0 = 26\n",
    "alpha = 0.05\n",
    "\n",
    "t_cal, p_value = stats.ttest_1samp(a=sample,\n",
    "                                   popmean=26,\n",
    "                                   alternative=\"two-sided\")\n",
    "t_crit_left = stats.t.ppf(alpha/2, df=n-1)\n",
    "t_crit_right = stats.t.isf(alpha/2, df=n-1)\n",
    "\n",
    "t_crit_left, t_cal, t_crit_right, p_value\n",
    "\n",
    "# ยอมรับสมมติฐานหลัก H1 (การทดสอบเป็นจริง)"
   ]
  },
  {
   "cell_type": "markdown",
   "metadata": {
    "id": "2L30gP1ae_Du"
   },
   "source": [
    "###   "
   ]
  },
  {
   "cell_type": "markdown",
   "metadata": {
    "id": "jb1NBlWke_D2"
   },
   "source": [
    "5.4 ห้องปฏิบัติการ 2 แห่ง สุ่มตรวจสอบปริมาณนิโคตินในบุหรี่ยี่ห้อหนึ่งด้ผลการวิเคราะห์ปริมาณนิโคติน (มิลลิกรัม) ดังนี้  \n",
    "ห้องปฏิบัติการ1: 56, 37, 61, 56, 65, 41, 63, 50, 42   \n",
    "ห้องปฏิบัติการ2: 46, 25, 46, 64, 34, 56   \n",
    "จงทดสอบสมมติฐานว่าปริมาณนิโคตินที่วิเคราะห์ได้โดยห้องปฏิบัติการสองแห่งนี้ไม่แตกต่างกัน\n",
    "ที่ระดับนัยสำคัญ 0.10 หากกำหนดให้ปริมาณนิโคตินในบุหรี่ที่วิเคราะห์ได้โดยห้องปฏิบัติการทั้งสองมีการ\n",
    "แจกแจงแบบปกติที่มีค่าความแปรปรวนเท่ากัน  "
   ]
  },
  {
   "cell_type": "code",
   "execution_count": null,
   "metadata": {
    "id": "r4oVfpk9uTVG"
   },
   "outputs": [],
   "source": [
    "#แสดงวิธีทำ\n",
    "# H0: mu1 - mu2 == mu0 (*)\n",
    "# H1: mu1 - mu2 != mu0\n",
    "\n",
    "sample1 = [56, 37, 61, 56, 65, 41, 63, 50, 42]\n",
    "n1 = len(sample1)\n",
    "\n",
    "sample2 = [46, 25, 46, 64, 34, 56]\n",
    "n2 = len(sample2)\n",
    "\n",
    "alpha = 0.10\n",
    "\n",
    "t_cal, p_value = stats.ttest_ind(a=sample1,\n",
    "                                 b=sample2,\n",
    "                                 equal_var=True,\n",
    "                                 alternative=\"two-sided\")\n",
    "t_crit_left = stats.t.ppf(alpha/2, df=n1+n2-2)\n",
    "t_crit_right = stats.t.isf(alpha/2, df=n1+n2-2)\n",
    "\n",
    "t_crit_left, t_cal, t_crit_right, p_value\n",
    "\n",
    "# ยอมรับสมมติฐานหลัก H0 (ปริมาณนิโคตินของห้องปฏิบัติการสองแห่งนี้ ไม่แตกต่างกัน)"
   ]
  },
  {
   "cell_type": "markdown",
   "metadata": {
    "id": "HV7pSFLVjP8J"
   },
   "source": [
    "###   "
   ]
  },
  {
   "cell_type": "markdown",
   "metadata": {
    "id": "9IshON3wjP8J"
   },
   "source": [
    "5.5 เครื่องใช้พลาสติกชนิดหนึ่ง ผลิตโดยกระบวนการผลิตแตกต่างกัน 2 วิธี คือ A และ B ต้องการตรวจสอบความ\n",
    "เหนียวของพลาสติกที่ผลิตได้โดยทั้งสองกระบวนการนี้ว่าแตกต่างกันหรือไม่ จึงสุ่มตัวอย่าง\n",
    "ผลิตภัณฑ์จากกระบวนการผลิต A มา 30 ชิ้น ทดสอบและคำนวณค่าความเหนียวเฉลี่ยได้เป็น\n",
    "28.3 ส่วนเบี่ยงเบนมาตรฐาน 3.3 เมื่อสุ่มผลิตภัณฑ์จากกระบวนการผลิต B 40 ชิ้น คำนวณค่าความเหนียวเฉลี่ยได้เป็น 26.7 ส่วนเบี่ยงเบนมาตรฐานเป็น 4.9 หากการทดสอบโดยใช้ระดับนัยสำคัญ 0.05  "
   ]
  },
  {
   "cell_type": "code",
   "execution_count": null,
   "metadata": {
    "id": "HA_rpEPNuUdd"
   },
   "outputs": [],
   "source": [
    "#แสดงวิธีทำ\n",
    "# H0: mu1 - mu2 == mu0 \n",
    "# H1: mu1 - mu2 != mu0\n",
    "\n",
    "nA = 30\n",
    "x_barA = 28.3\n",
    "sA = 3.3\n",
    "sA_2 = sA**2\n",
    "\n",
    "nB = 40\n",
    "x_barB = 26.7 \n",
    "sB = 4.9\n",
    "sB_2 = sB**2\n",
    "\n",
    "alpha = 0.05\n",
    "\n",
    "z_cal = ( (x_barA - x_barB) - (0) ) / np.sqrt( (sA_2/nA) + (sB_2/nB) )\n",
    "\n",
    "z_crit_left = stats.norm.ppf(alpha/2)\n",
    "z_crit_right = stats.norm.isf(alpha/2)\n",
    "\n",
    "p_value = 2*stats.norm.sf(z_cal)\n",
    "\n",
    "z_crit_left, z_cal, z_crit_right, p_value\n",
    "\n",
    "# ยอมรับสมมติฐานหลัก H0 (ความเหนียวของพลาสติกของทั้ง 2 บริษัท ไม่แตกต่างกัน)"
   ]
  }
 ],
 "metadata": {
  "colab": {
   "authorship_tag": "ABX9TyPRAOT6LtaW5SjkKlgaIzv1",
   "provenance": []
  },
  "kernelspec": {
   "display_name": "Python 3 (ipykernel)",
   "language": "python",
   "name": "python3"
  },
  "language_info": {
   "codemirror_mode": {
    "name": "ipython",
    "version": 3
   },
   "file_extension": ".py",
   "mimetype": "text/x-python",
   "name": "python",
   "nbconvert_exporter": "python",
   "pygments_lexer": "ipython3",
   "version": "3.11.7"
  }
 },
 "nbformat": 4,
 "nbformat_minor": 4
}
