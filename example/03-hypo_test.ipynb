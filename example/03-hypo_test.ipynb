{
 "cells": [
  {
   "cell_type": "code",
   "execution_count": 1,
   "id": "c5bc670e-0635-4c5e-ad22-ceac1a28e40d",
   "metadata": {},
   "outputs": [],
   "source": [
    "import numpy as np\n",
    "import pandas as pd\n",
    "from scipy import stats\n",
    "from statsmodels.stats.weightstats import ztest\n",
    "from statsmodels.stats.proportion import proportions_ztest"
   ]
  },
  {
   "cell_type": "markdown",
   "id": "5bda801f-33ce-420c-9d80-5d75566c0a5f",
   "metadata": {
    "tags": []
   },
   "source": [
    "## การทดสอบสมมติฐาน ค่าเฉลี่ย ของประชากร 1 กลุ่ม"
   ]
  },
  {
   "cell_type": "markdown",
   "id": "7b869bf3-1237-4edf-9185-f748cf5c38c3",
   "metadata": {},
   "source": [
    "#### แบบทดสอบ 8.1"
   ]
  },
  {
   "cell_type": "code",
   "execution_count": 2,
   "id": "5032c72b-b52a-4658-9eaa-b9109de1839f",
   "metadata": {},
   "outputs": [
    {
     "name": "stdout",
     "output_type": "stream",
     "text": [
      "-1.2418471165676772 1.6448536269514729 0.8928535125403201\n"
     ]
    }
   ],
   "source": [
    "# H0: µ1 <= 5.85\n",
    "# H1: µ1  > 5.85 (*)\n",
    "\n",
    "n = 30\n",
    "sample = [4.17, 5.72, 6.23, 5.65, 6.59, 6.47, 4.67, 6.25, 3.85, 7.02, 5.24, \n",
    "          4.69, 5.75, 5.05, 5.33, 5.45, 6.32, 4.7 , 5.63, 6.22, 6.73, 4.81, \n",
    "          4.29, 4.68, 6.13, 5.44, 6.06, 7.54, 7.28, 5.18]\n",
    "alpha = 0.05\n",
    "\n",
    "z_cal, p_value = ztest(x1=sample,\n",
    "                       value=5.85,\n",
    "                       alternative=\"larger\")\n",
    "z_crit = stats.norm.isf(alpha)\n",
    "\n",
    "print(z_cal, z_crit, p_value)\n",
    "\n",
    "# ยอมรับสมมติฐานหลัก H0 (คำกล่าวอ้างของบริษัทเป็นเท็จ)"
   ]
  },
  {
   "cell_type": "markdown",
   "id": "c244d29b-3f6b-4961-a9c6-b51f54cd9a82",
   "metadata": {},
   "source": [
    "#### แบบทดสอบ 8.2"
   ]
  },
  {
   "cell_type": "code",
   "execution_count": 3,
   "id": "7e702221-642a-4fda-a6be-9ecdf90cbee9",
   "metadata": {},
   "outputs": [
    {
     "name": "stdout",
     "output_type": "stream",
     "text": [
      "-2.262157162740992 0.260132990857236 2.262157162740992 0.8006146644674419\n"
     ]
    }
   ],
   "source": [
    "# H0: µ1 == 160 (*)\n",
    "# H1: µ1 != 160\n",
    "\n",
    "n = 10\n",
    "sample = [164, 161, 158, 170, 161, 152, 158, 169, 152, 160]\n",
    "alpha = 0.05\n",
    "\n",
    "t_cal, p_value = stats.ttest_1samp(a=sample,\n",
    "                                   popmean=160,\n",
    "                                   alternative=\"two-sided\")\n",
    "t_crit_left = stats.t.ppf(alpha/2, df=n-1)\n",
    "t_crit_right = stats.t.isf(alpha/2, df=n-1)\n",
    "\n",
    "print(t_crit_left, t_cal, t_crit_right, p_value)\n",
    "\n",
    "# ยอมรับสมมติฐานหลัก H0 (คําโฆษณาของโรงงานนี้เป็นจริง)"
   ]
  },
  {
   "cell_type": "markdown",
   "id": "1750c5ef-7b14-48c3-8fb9-33096f75ef6e",
   "metadata": {},
   "source": [
    "#### แบบทดสอบ 8.3"
   ]
  },
  {
   "cell_type": "code",
   "execution_count": 4,
   "id": "87b614d6-147c-4b79-ba35-8d0696a41812",
   "metadata": {},
   "outputs": [
    {
     "name": "stdout",
     "output_type": "stream",
     "text": [
      "-2.200985160082949 -5.281782935072749 2.200985160082949 0.0002595718418202789\n"
     ]
    }
   ],
   "source": [
    "# H0: µ1 == 1 (*)\n",
    "# H1: µ1 != 1\n",
    "\n",
    "n = 12\n",
    "sample = [0.68270656, 0.98570868, 0.4025518 , 0.42397662, \n",
    "          0.92248197,0.59625324, 0.61194484, 0.98900446, \n",
    "          0.30617307, 0.36091738,0.21453245, 0.64698407]\n",
    "alpha = 0.05\n",
    "\n",
    "t_cal, p_value = stats.ttest_1samp(a=sample,\n",
    "                                   popmean=1,\n",
    "                                   alternative=\"two-sided\")\n",
    "t_crit_left = stats.t.ppf(alpha/2, df=n-1)\n",
    "t_crit_right = stats.t.isf(alpha/2, df=n-1)\n",
    "\n",
    "print(t_crit_left, t_cal, t_crit_right, p_value)\n",
    "\n",
    "# ปฏิเสธสมมติฐานหลัก H0 (คำกล่าวอ้างของบริษัทเป็นเท็จ)"
   ]
  },
  {
   "cell_type": "markdown",
   "id": "b9d83c36-2598-4360-920f-aee22c7b7ebd",
   "metadata": {
    "jp-MarkdownHeadingCollapsed": true,
    "tags": []
   },
   "source": [
    "## การทดสอบสมมติฐาน ค่าเฉลี่ย ของประชากร 2 กลุ่ม ที่เป็นอิสระต่อกัน"
   ]
  },
  {
   "cell_type": "markdown",
   "id": "b1c674d7-eac9-4569-baee-e7c5d9360f5f",
   "metadata": {},
   "source": [
    "#### แบบทดสอบ 8.4"
   ]
  },
  {
   "cell_type": "code",
   "execution_count": 5,
   "id": "f6c7716d-2802-47c8-8153-cba89ec49d94",
   "metadata": {},
   "outputs": [
    {
     "name": "stdout",
     "output_type": "stream",
     "text": [
      "-2.10092204024096 -4.113250934483508 2.10092204024096 0.0006526941228295857\n"
     ]
    }
   ],
   "source": [
    "# H0: µ1 == µ2\n",
    "# H1: µ1 != µ2\n",
    "# ไม่ทราบความแปรปรวนและเท่ากัน\n",
    "\n",
    "n = 10\n",
    "sampleA = [5.47, 3.91, 5.81, 4.11, 6.86, 4.52, 5.24, 4.96, 5.64, 6.73]\n",
    "sampleB = [6.04, 7.93, 7.53, 7.69, 6.90 , 6.68, 6.00, 7.63, 5.86, 8.26]\n",
    "alpha = 0.05\n",
    "\n",
    "t_cal, p_value = stats.ttest_ind(a=sampleA,\n",
    "                                 b=sampleB,\n",
    "                                 equal_var=True,\n",
    "                                 alternative=\"two-sided\")\n",
    "t_crit_left = stats.t.ppf(alpha/2, df=n+n-2)\n",
    "t_crit_right = stats.t.isf(alpha/2, df=n+n-2)\n",
    "\n",
    "print(t_crit_left, t_cal, t_crit_right, p_value)\n",
    "\n",
    "# ปฏิเสธสมมติฐานหลัก H0 (แตกต่างกัน)"
   ]
  },
  {
   "cell_type": "markdown",
   "id": "75fc9b42-6a38-469e-b7f5-a4b0f3b505f6",
   "metadata": {},
   "source": [
    "#### แบบทดสอบ 8.5"
   ]
  },
  {
   "cell_type": "code",
   "execution_count": 6,
   "id": "f31fdf42-8d3a-4948-ae64-bf09b4e8f617",
   "metadata": {},
   "outputs": [
    {
     "name": "stdout",
     "output_type": "stream",
     "text": [
      "-2.745625891934577 -1.9599639845400545 0.003019779524328408\n"
     ]
    }
   ],
   "source": [
    "# H0: µ1 >= µ2\n",
    "# H1: µ1 <  µ2 (*)\n",
    "# ทราบความแปรปรวน\n",
    "\n",
    "sigma1_2 = 15**2\n",
    "sigma2_2 = 10**2\n",
    "n = 50\n",
    "x_bar1 = 55\n",
    "x_bar2 = 62\n",
    "alpha = 0.05\n",
    "\n",
    "z_cal = ( (x_bar1-x_bar2)-(0) ) / np.sqrt( (sigma1_2/n) + (sigma2_2/n) )\n",
    "z_crit_left = stats.norm.ppf(alpha/2)\n",
    "\n",
    "p_value = stats.norm.cdf(z_cal)\n",
    "\n",
    "print(z_cal, z_crit_left, p_value)\n",
    "\n",
    "# ปฏิเสธสมมติฐานหลัก H0 (คำกล่าวอ้างเป็นจริง)"
   ]
  },
  {
   "cell_type": "markdown",
   "id": "c1756745-c656-4fd6-a801-37f30bf773db",
   "metadata": {},
   "source": [
    "#### แบบทดสอบ 8.6"
   ]
  },
  {
   "cell_type": "code",
   "execution_count": 7,
   "id": "563595ae-34a9-4bed-afe7-a671ea7b68cd",
   "metadata": {},
   "outputs": [
    {
     "name": "stdout",
     "output_type": "stream",
     "text": [
      "-4.272400714503011 3.4754503043912526 4.272400714503011 0.021042340296756768\n"
     ]
    }
   ],
   "source": [
    "# H0: µ1 == µ2\n",
    "# H1: µ1 != µ2\n",
    "# ไม่ทราบความแปรปรวนและไม่เท่ากัน\n",
    "\n",
    "alpha = 0.01\n",
    "sample1 = [17.53, 20.60, 17.62, 28.93, 27.10]\n",
    "sample2 = [15.59, 14.76, 13.32, 12.45, 12.79]\n",
    "n = len(sample1)\n",
    "\n",
    "s1_2 = np.var(sample1, ddof=1) \n",
    "s2_2 = np.var(sample2, ddof=1)\n",
    "\n",
    "df = ( (s1_2/n) + (s2_2/n) )**2 / ( ( (s1_2/n)**2 / (n-1) ) + ( (s2_2/n)**2 / (n-1) ) )\n",
    "\n",
    "t_cal, p_value = stats.ttest_ind(a=sample1,\n",
    "                                 b=sample2,\n",
    "                                 equal_var=False,\n",
    "                                 alternative=\"two-sided\")\n",
    "t_crit_left = stats.t.ppf(alpha/2, df=df)\n",
    "t_crit_right = stats.t.isf(alpha/2, df=df)\n",
    "\n",
    "print(t_crit_left, t_cal, t_crit_right, p_value)\n",
    "\n",
    "# ยอมรับสมมติฐานหลัก H0 (สารตกค้างในเด็กที่ป่วยและไม่ป่วยมีค่าเท่ากัน)"
   ]
  },
  {
   "cell_type": "markdown",
   "id": "98fb9611-7746-4914-827b-bea5ab288444",
   "metadata": {
    "jp-MarkdownHeadingCollapsed": true,
    "tags": []
   },
   "source": [
    "## การทดสอบ ค่าเฉลี่ย ของประชากร 2 กลุ่ม ที่มีลักษณะเป็นคู่ หรือไม่เป็นอิสระต่อกัน"
   ]
  },
  {
   "cell_type": "markdown",
   "id": "94f89729-af54-4f92-8f80-4fd19ea95b50",
   "metadata": {},
   "source": [
    "#### แบบทดสอบ 8.15"
   ]
  },
  {
   "cell_type": "code",
   "execution_count": 8,
   "id": "509c3ed1-65ff-42d1-8a0d-6e9327bde918",
   "metadata": {},
   "outputs": [
    {
     "name": "stdout",
     "output_type": "stream",
     "text": [
      "-3.054539588336871 -4.69041575982343 3.054539588336871 0.0033593914959056015\n"
     ]
    }
   ],
   "source": [
    "# H0: µ1 == µ2\n",
    "# H1: µ1 != µ2\n",
    "\n",
    "n = 7\n",
    "before = [135, 150, 132, 140, 120, 142, 148]\n",
    "after = [139, 155, 135, 140, 125, 145, 150]\n",
    "alpha = 0.01\n",
    "\n",
    "t_cal, p_value = stats.ttest_rel(a=before,\n",
    "                                 b=after,\n",
    "                                 alternative=\"two-sided\")\n",
    "t_crit_left = stats.t.ppf(alpha/2, df=n+n-2)\n",
    "t_crit_right = stats.t.isf(alpha/2, df=n+n-2)\n",
    "\n",
    "print(t_crit_left, t_cal, t_crit_right, p_value)\n",
    "\n",
    "# ปฏิเสธสมมติฐานหลัก H0 (ก่อนและหลังฉีดมีค่าแตกต่างกัน)"
   ]
  },
  {
   "cell_type": "markdown",
   "id": "4a74a80e-bde5-4540-9c65-52e811fa477d",
   "metadata": {
    "jp-MarkdownHeadingCollapsed": true,
    "tags": []
   },
   "source": [
    "## การทดสอบสมติฐาน ค่าสัดส่วน ของประชากร 1 กลุ่ม"
   ]
  },
  {
   "cell_type": "markdown",
   "id": "73338839-0fc6-4017-9c58-08fbde89dbd3",
   "metadata": {},
   "source": [
    "#### แบบทดสอบ 8.7"
   ]
  },
  {
   "cell_type": "code",
   "execution_count": 9,
   "id": "1476937f-68ea-438e-97f7-3976c74c016d",
   "metadata": {},
   "outputs": [
    {
     "name": "stdout",
     "output_type": "stream",
     "text": [
      "1.9999999999999996 1.6448536269514729 0.022750131948179216\n"
     ]
    }
   ],
   "source": [
    "# H0: P1 <= 50/100\n",
    "# H1: P1 >  50/100 (*)\n",
    "# x ผู้นิยมพรรคการเมืองดังกล่าว\n",
    "\n",
    "n = 100\n",
    "x = 60\n",
    "p_hat = x / n\n",
    "alpha = 0.05\n",
    "\n",
    "z_cal, p_value = proportions_ztest(count=60,\n",
    "                                   nobs=100,\n",
    "                                   value=50/100,\n",
    "                                   alternative=\"larger\",\n",
    "                                   prop_var=50/100)\n",
    "z_crit = stats.norm.isf(alpha)\n",
    "\n",
    "print(z_cal, z_crit, p_value)\n",
    "\n",
    "# ปฏิเสธสมมติฐานหลัก H0 (คำกล่าวอ้างเป็นจริง)"
   ]
  },
  {
   "cell_type": "markdown",
   "id": "0a944f85-6956-4504-8371-4ebe9bef5120",
   "metadata": {
    "tags": []
   },
   "source": [
    "#### แบบทดสอบ 8.8"
   ]
  },
  {
   "cell_type": "code",
   "execution_count": 10,
   "id": "854c5715-36d3-49f7-a890-9df44c55775f",
   "metadata": {},
   "outputs": [
    {
     "name": "stdout",
     "output_type": "stream",
     "text": [
      "0.7499999999999997 2.3263478740408408 0.22662735237686826\n"
     ]
    }
   ],
   "source": [
    "# H0: P1 <= 1/5\n",
    "# H1: P1 >  1/5 (*)\n",
    "# x รถที่วิ่งด้วยความเร็วเกินกำหนด\n",
    "\n",
    "n = 36\n",
    "x = 9\n",
    "alpha = 0.01\n",
    "\n",
    "z_cal, p_value = proportions_ztest(count=9,\n",
    "                                   nobs=36,\n",
    "                                   value=1/5,\n",
    "                                   alternative=\"larger\",\n",
    "                                   prop_var=1/5)\n",
    "z_crit = stats.norm.isf(alpha)\n",
    "\n",
    "print(z_cal, z_crit, p_value)\n",
    "\n",
    "# ยอมรับสมมติฐานหลัก H0 (จํานวนรถที่ใช้ความเร็วเกินกําหนดนั้นมีน้อยกว่าหรือเท่ากับผลการวิจัย)"
   ]
  },
  {
   "cell_type": "markdown",
   "id": "8bf593b9-c14d-4277-a684-a21daac68e3a",
   "metadata": {
    "jp-MarkdownHeadingCollapsed": true,
    "tags": []
   },
   "source": [
    "## การทดสอบสมติฐาน ค่าสัดส่วน ของประชากร 2 กลุ่ม"
   ]
  },
  {
   "cell_type": "markdown",
   "id": "437a15e4-e213-4364-99ee-d1b4e0386c44",
   "metadata": {},
   "source": [
    "#### แบบทดสอบ 8.9"
   ]
  },
  {
   "cell_type": "code",
   "execution_count": 11,
   "id": "fc4c93a5-68ea-494c-ad4f-cd281e274ac8",
   "metadata": {},
   "outputs": [
    {
     "name": "stdout",
     "output_type": "stream",
     "text": [
      "0.8183170883849711 1.2815515655446004 0.20658807549365632\n"
     ]
    }
   ],
   "source": [
    "# H0: P1 - P2 <= 5/100\n",
    "# H1: P1 - P2 >  5/100 (*)\n",
    "# A -> หญิง, B -> ชาย (เปอร์เซนต์หญิงมากกว่าชาย)\n",
    "\n",
    "nA = 100\n",
    "xA = 60\n",
    "\n",
    "nB = 200\n",
    "xB = 100\n",
    "\n",
    "alpha = 0.1\n",
    "\n",
    "t_cal, p_value = proportions_ztest(count=[xA, xB],\n",
    "                                   nobs=[nA, nB],\n",
    "                                   value=5/100,\n",
    "                                   alternative=\"larger\")\n",
    "t_crit = stats.norm.isf(alpha)\n",
    "\n",
    "print(t_cal, t_crit, p_value)\n",
    "\n",
    "# ยอมรับสมมติฐานหลัก H0 (คำกล่าวอ้างเป็นเท็จ)"
   ]
  },
  {
   "cell_type": "markdown",
   "id": "f135b215-87b0-412a-9e14-1f5c209a438b",
   "metadata": {},
   "source": [
    "#### แบบทดสอบ 8.10"
   ]
  },
  {
   "cell_type": "code",
   "execution_count": null,
   "id": "003fe8d4-87bb-49b9-bb84-27f0c5940140",
   "metadata": {},
   "outputs": [],
   "source": []
  },
  {
   "cell_type": "markdown",
   "id": "20dd34d8-39ef-469c-8502-5383087bafda",
   "metadata": {},
   "source": [
    "## การทดสอบ ค่าความแปรปรวน ของประชากร 1 กลุ่ม"
   ]
  },
  {
   "cell_type": "markdown",
   "id": "d34ad2c9-574c-4b98-a21e-2628d54602d7",
   "metadata": {},
   "source": [
    "#### แบบทดสอบ 8.11"
   ]
  },
  {
   "cell_type": "code",
   "execution_count": 12,
   "id": "92576b08-c3e9-43cb-ac65-715e536612ed",
   "metadata": {},
   "outputs": [
    {
     "name": "stdout",
     "output_type": "stream",
     "text": [
      "21.61777777777778 36.19086912927005 0.30368961859311333\n"
     ]
    }
   ],
   "source": [
    "# H0: σ² <= 30²\n",
    "# H1: σ² >  30² (*)\n",
    "\n",
    "n = 20\n",
    "sigma0_2 = 30**2\n",
    "s2 = 32**2\n",
    "alpha = 0.01\n",
    "\n",
    "chi2_cal = ( (n-1)*s2 ) / sigma0_2\n",
    "chi2_crit = stats.chi2.isf(alpha, df=n-1)\n",
    "p_value = stats.chi2.sf(chi2_cal, df=n-1)\n",
    "\n",
    "print(chi2_cal, chi2_crit, p_value)\n",
    "\n",
    "# ยอมรับสมมติฐานหลัก H0 (คำกล่าวอ้างเป็นเท็จ)"
   ]
  },
  {
   "cell_type": "markdown",
   "id": "5d1b2136-6c01-4423-a72e-9346bbfdc68b",
   "metadata": {},
   "source": [
    "#### แบบทดสอบ 8.12"
   ]
  },
  {
   "cell_type": "code",
   "execution_count": 13,
   "id": "11484fd6-4672-46db-9617-0af294275ded",
   "metadata": {},
   "outputs": [
    {
     "name": "stdout",
     "output_type": "stream",
     "text": [
      "11.591305208820733 30.24 32.670573340917315 0.17454058719517154\n"
     ]
    }
   ],
   "source": [
    "# H0: σ² == 1\n",
    "# H1: σ² != 1\n",
    "\n",
    "n = 22\n",
    "x_bar = 4.6\n",
    "s2 = 1.44\n",
    "sigma0_2 = 1\n",
    "alpha = 0.10\n",
    "\n",
    "chi2_cal = ( (n-1)*s2 ) / sigma0_2\n",
    "chi2_crit_left = stats.chi2.ppf(alpha/2, df=n-1)\n",
    "chi2_crit_right = stats.chi2.isf(alpha/2, df=n-1)\n",
    "p_value = 2*min( stats.chi2.cdf(chi2_cal, df=n-1), stats.chi2.sf(chi2_cal, df=n-1) )\n",
    "\n",
    "print(chi2_crit_left, chi2_cal, chi2_crit_right, p_value)\n",
    "\n",
    "# ยอมรับสมมติฐานหลัก H0 (ความแปรปรวนของกรดยูริกมีค่าไม่แตกต่างจาก 1)"
   ]
  },
  {
   "cell_type": "markdown",
   "id": "6c2e300d-76a6-49fc-a501-7b63dfe47142",
   "metadata": {},
   "source": [
    "## การทดสอบ ค่าความแปรปรวน ของประชากร 2 กลุ่ม"
   ]
  },
  {
   "cell_type": "markdown",
   "id": "180bc477-37d9-42fe-a5aa-6cab20ae70a1",
   "metadata": {},
   "source": [
    "#### แบบทดสอบ 8.13"
   ]
  },
  {
   "cell_type": "code",
   "execution_count": 14,
   "id": "6633cbd5-2969-4a8b-afaa-d1ace4840d61",
   "metadata": {},
   "outputs": [],
   "source": [
    "# H0: σ1² / σ2² == 1\n",
    "# H1: σ1² / σ2² != 1\n",
    "\n"
   ]
  },
  {
   "cell_type": "markdown",
   "id": "48c9ddd3-30cc-491d-bd17-0a2a348d3a69",
   "metadata": {},
   "source": [
    "#### แบบทดสอบ 8.14"
   ]
  },
  {
   "cell_type": "code",
   "execution_count": 15,
   "id": "1d390008-b8e2-47ee-9559-f53725e22763",
   "metadata": {},
   "outputs": [
    {
     "name": "stdout",
     "output_type": "stream",
     "text": [
      "0.11745604618473054 5.714285714285715 6.884908418831704 0.01884965467498815\n"
     ]
    }
   ],
   "source": [
    "# H0: σ1² / σ2² == 1\n",
    "# H1: σ1² / σ2² != 1\n",
    "\n",
    "n1 = 8\n",
    "sample1 = [36, 34, 32, 35, 50, 46, 45, 38]\n",
    "s1_2 = np.var(sample1, ddof=1)\n",
    "\n",
    "n2 = 10\n",
    "sample2 = [35, 39, 37, 38, 35, 42, 43, 36, 39, 40]\n",
    "s2_2 = np.var(sample2, ddof=1)\n",
    "\n",
    "alpha = 0.01\n",
    "\n",
    "f_cal = s1_2 / s2_2\n",
    "f_crit_left = stats.f.ppf(alpha/2, dfn=n1-1, dfd=n2-1)\n",
    "f_crit_right = stats.f.isf(alpha/2, dfn=n1-1, dfd=n2-1)\n",
    "p_value = 2*min( stats.f.cdf(f_cal, dfn=n1-1, dfd=n2-1), stats.f.sf(f_cal, dfn=n1-1, dfd=n2-1) )\n",
    "\n",
    "print(f_crit_left, f_cal, f_crit_right, p_value)\n",
    "\n",
    "# ยอมรับสมมติฐานหลัก H0 (ความแปรปรวนของผลผลิตถั่วเหลืองทั้งสองพันธุ์นี้ไม่แตกต่างกัน)"
   ]
  },
  {
   "cell_type": "code",
   "execution_count": 16,
   "id": "ca4e2d40-a924-47e8-a215-1f3e91b23983",
   "metadata": {},
   "outputs": [
    {
     "name": "stdout",
     "output_type": "stream",
     "text": [
      "0.3680081071162841 1.405390080885217 2.7875693256804888 0.5804278116850289\n"
     ]
    }
   ],
   "source": [
    "# H0: σ1² / σ2² == 1\n",
    "# H1: σ1² / σ2² != 1\n",
    "# 1 -> วิธีการแบบดั้งเดิม, 2 -> วิธีการแบบใหม่\n",
    "\n",
    "n1 = 13\n",
    "n2 = 12\n",
    "\n",
    "s1_2 = 50.17**2\n",
    "s2_2 = 42.32**2\n",
    "\n",
    "alpha = 0.10\n",
    "\n",
    "f_cal = s1_2 / s2_2\n",
    "f_crit_left = stats.f.ppf(alpha/2, dfn=n1-1, dfd=n2-1)\n",
    "f_crit_right = stats.f.isf(alpha/2, dfn=n1-1, dfd=n2-1)\n",
    "p_value = 2*min( stats.f.cdf(f_cal, dfn=n1-1, dfd=n2-1), stats.f.sf(f_cal, dfn=n1-1, dfd=n2-1) )\n",
    "\n",
    "print(f_crit_left, f_cal, f_crit_right, p_value)\n",
    "\n",
    "# ยอมรับสมมติฐานหลัก H0 (ความแปรปรวนของปริมาณวิตามิน A ที่สกัดด้วยวิธีการทั้งสองไม่แตกต่างกัน)"
   ]
  }
 ],
 "metadata": {
  "kernelspec": {
   "display_name": "Python 3 (ipykernel)",
   "language": "python",
   "name": "python3"
  },
  "language_info": {
   "codemirror_mode": {
    "name": "ipython",
    "version": 3
   },
   "file_extension": ".py",
   "mimetype": "text/x-python",
   "name": "python",
   "nbconvert_exporter": "python",
   "pygments_lexer": "ipython3",
   "version": "3.10.9"
  }
 },
 "nbformat": 4,
 "nbformat_minor": 5
}
