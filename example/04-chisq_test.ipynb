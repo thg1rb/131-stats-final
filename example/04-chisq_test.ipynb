{
 "cells": [
  {
   "cell_type": "code",
   "execution_count": 1,
   "id": "312a0362-b85e-4387-a237-9e3ab90b4c24",
   "metadata": {},
   "outputs": [],
   "source": [
    "import numpy as np\n",
    "import pandas as pd\n",
    "from scipy import stats"
   ]
  },
  {
   "cell_type": "markdown",
   "id": "a77c9545-7022-4c9b-8454-466720dead14",
   "metadata": {
    "jp-MarkdownHeadingCollapsed": true,
    "tags": []
   },
   "source": [
    "## การทดสอบอัตราส่วน"
   ]
  },
  {
   "cell_type": "markdown",
   "id": "0cc57bf9-40ec-4000-aeda-6ce993e9762f",
   "metadata": {},
   "source": [
    "#### แบบทดสอบ 9.1"
   ]
  },
  {
   "cell_type": "code",
   "execution_count": 2,
   "id": "9524429e-84a9-42e5-b801-da949a02b640",
   "metadata": {},
   "outputs": [
    {
     "name": "stdout",
     "output_type": "stream",
     "text": [
      "3.0 6.2513886311703235 0.3916251762710877\n"
     ]
    }
   ],
   "source": [
    "# H0: อัตราส่วนของคนที่มีกรุ๊ปเลือด A, B, AB และ O เท่ากับ 2:2:1:3\n",
    "# H1: อัตราส่วนของคนที่มีกรุ๊ปเลือด A, B, AB และ O ไม่เท่ากับ 2:2:1:3\n",
    "\n",
    "n = 100\n",
    "k = 4\n",
    "\n",
    "O = np.array([20, 25, 10, 45])\n",
    "p = np.array([2/8, 2/8, 1/8, 3/8])\n",
    "E = n*p\n",
    "\n",
    "alpha = 0.1\n",
    "\n",
    "chi2_cal, p_value = stats.chisquare(f_obs=O, \n",
    "                                    f_exp=E)\n",
    "chi2_crit = stats.chi2.isf(alpha, df=k-1)\n",
    "\n",
    "print(chi2_cal, chi2_crit, p_value)\n",
    "\n",
    "# ยอมรับสมมติฐานหลัก H0 (เท่ากับ)"
   ]
  },
  {
   "cell_type": "markdown",
   "id": "ad1a4d87-ea30-408e-be9d-05f8725588c7",
   "metadata": {},
   "source": [
    "#### แบบทดสอบ 9.2"
   ]
  },
  {
   "cell_type": "code",
   "execution_count": 3,
   "id": "6e538bc3-cb0e-401f-8bd2-72f3c49b609f",
   "metadata": {},
   "outputs": [
    {
     "name": "stdout",
     "output_type": "stream",
     "text": [
      "1.92 3.8414588206941285 0.16585666034290605\n"
     ]
    }
   ],
   "source": [
    "# H0: อัตราส่วนระหว่างถั่วเมล็ดเรียบต่อถั่วเมล็ดขรุขระจะมีค่าไม่แตกต่างจากอัตราส่วน 3:1 ตามกฎพันธุศาสตร์ของเมนเดล\n",
    "# H1: อัตราส่วนระหว่างถั่วเมล็ดเรียบต่อถั่วเมล็ดขรุขระจะมีค่าแตกต่างจากอัตราส่วน 3:1 ตามกฎพันธุศาสตร์ของเมนเดล\n",
    "\n",
    "n = 100\n",
    "k = 2\n",
    "\n",
    "O = np.array([69, 31])\n",
    "p = np.array([3/4, 1/4])\n",
    "E = n*p\n",
    "\n",
    "alpha = 0.05\n",
    "\n",
    "chi2_cal, p_value = stats.chisquare(f_obs=O,\n",
    "                                    f_exp=E)\n",
    "chi2_crit = stats.chi2.isf(alpha, df=k-1)\n",
    "\n",
    "print(chi2_cal, chi2_crit, p_value)\n",
    "\n",
    "# ยอมรับสมมติฐานหลัก H0 (ไม่แตกต่าง, เท่ากับ)"
   ]
  },
  {
   "cell_type": "markdown",
   "id": "aa34ebc0-8d91-4217-ad5b-f42f2f3becb2",
   "metadata": {},
   "source": [
    "#### แบบทดสอบ 9.3"
   ]
  },
  {
   "cell_type": "code",
   "execution_count": 4,
   "id": "c910c453-c1b9-4666-9e82-f5cb183d757a",
   "metadata": {},
   "outputs": [
    {
     "name": "stdout",
     "output_type": "stream",
     "text": [
      "3.8666666666666667 11.344866730144368 0.2762263279405305\n"
     ]
    }
   ],
   "source": [
    "# H0: อัตราส่วนลูกค้าที่นิยมใช้ theme light:dark:blue:dark-blue เท่ากับ 1:2:2:3\n",
    "# H1: อัตราส่วนลูกค้าที่นิยมใช้ theme light:dark:blue:dark-blue ไม่เท่ากับ 1:2:2:3\n",
    "\n",
    "n = 100\n",
    "k = 4\n",
    "\n",
    "O = np.array([16, 17, 27, 40])\n",
    "p = np.array([1/8, 2/8, 2/8, 3/8])\n",
    "E = n*p\n",
    "\n",
    "alpha = 0.01\n",
    "\n",
    "chi2_cal, p_value = stats.chisquare(f_obs=O,\n",
    "                                    f_exp=E)\n",
    "chi2_crit = stats.chi2.isf(alpha, df=k-1)\n",
    "\n",
    "print(chi2_cal, chi2_crit, p_value)\n",
    "\n",
    "# ยอมรับมสมมติฐานหลัก H0 (เท่ากับ)"
   ]
  },
  {
   "cell_type": "markdown",
   "id": "4dbef043-e995-4f02-9835-ccb8a885130a",
   "metadata": {},
   "source": [
    "## การทดสอบว่าเป็นการแจกแจงแบบปกติหรือไม่"
   ]
  },
  {
   "cell_type": "markdown",
   "id": "73a5c285-8692-47ea-b6eb-80efbcb3c6d1",
   "metadata": {
    "jp-MarkdownHeadingCollapsed": true,
    "tags": []
   },
   "source": [
    "#### แบบทดสอบ 9.4"
   ]
  },
  {
   "cell_type": "code",
   "execution_count": null,
   "id": "815b78b7-a911-4f69-84b6-7af192f75237",
   "metadata": {},
   "outputs": [],
   "source": []
  },
  {
   "cell_type": "code",
   "execution_count": null,
   "id": "7fdf2432-1be1-4bc3-8ba2-0da83f592a73",
   "metadata": {},
   "outputs": [],
   "source": []
  },
  {
   "cell_type": "code",
   "execution_count": null,
   "id": "704e6b27-6e75-403e-a242-3727e65164b9",
   "metadata": {},
   "outputs": [],
   "source": []
  },
  {
   "cell_type": "markdown",
   "id": "784d32fd-9618-4c61-8dea-1e50989a3b78",
   "metadata": {
    "jp-MarkdownHeadingCollapsed": true,
    "tags": []
   },
   "source": [
    "## การทดสอบความเป็นอิสระ"
   ]
  },
  {
   "cell_type": "markdown",
   "id": "633cde1b-5711-4c8c-8c84-5a911d183a3f",
   "metadata": {},
   "source": [
    "#### แบบทดสอบ 9.5"
   ]
  },
  {
   "cell_type": "code",
   "execution_count": 5,
   "id": "88a8ada6-8f6d-46a6-8ece-c7eebad221da",
   "metadata": {},
   "outputs": [
    {
     "name": "stdout",
     "output_type": "stream",
     "text": [
      "3.698126886532683 7.814727903251178 0.29596012095597946\n"
     ]
    }
   ],
   "source": [
    "# H0: เพศและความชอบของสูตรวาฟเฟิ ลเค้ก ไม่มีความสัมพันธ์กัน (อิสระต่อกัน)\n",
    "# H1: เพศและความชอบของสูตรวาฟเฟิ ลเค้ก มีความสัมพันธ์กัน (ไม่อิสระต่อกัน)\n",
    "\n",
    "n = 100\n",
    "\n",
    "O = np.array([[15, 13, 5, 12],\n",
    "              [20, 10, 13, 12]])\n",
    "alpha = 0.05\n",
    "\n",
    "chi2_cal, p_value, dof, E = stats.chi2_contingency(O, correction=False)\n",
    "chi2_crit = stats.chi2.isf(alpha, df=(O.shape[0]-1)*(O.shape[1]-1))\n",
    "\n",
    "print(chi2_cal, chi2_crit, p_value)\n",
    "\n",
    "# ยอมรับสมมติฐานหลัก H0 (ไม่มีความสัมพันธ์กัน)"
   ]
  },
  {
   "cell_type": "markdown",
   "id": "cbb3e9cb-4cea-4d16-84a5-b88c02d7a728",
   "metadata": {
    "tags": []
   },
   "source": [
    "#### แบบทดสอบ 9.6"
   ]
  },
  {
   "cell_type": "code",
   "execution_count": 6,
   "id": "1e0adc16-c3c7-409a-89e6-f697092cc329",
   "metadata": {},
   "outputs": [
    {
     "name": "stdout",
     "output_type": "stream",
     "text": [
      "79.16666666666666 7.814727903251178 4.6320524991183165e-17\n"
     ]
    }
   ],
   "source": [
    "# H0: สาขาที่นิสิตเรียนและ OS ที่ใช้เป็นหลักในการเรียนการสอน ไม่มีความสัมพันธ์กัน\n",
    "# H1: สาขาที่นิสิตเรียนและ OS ที่ใช้เป็นหลักในการเรียนการสอน มีความสัมพันธ์กัน\n",
    "\n",
    "n = 200\n",
    "O = np.array([[45, 40, 10, 5],\n",
    "              [5, 20, 40, 35]])\n",
    "alpha = 0.05\n",
    "\n",
    "chi2_cal, p_value, dof, E = stats.chi2_contingency(O, correction=False)\n",
    "chi2_crit = stats.chi2.isf(alpha, df=(O.shape[0]-1)*(O.shape[1]-1))\n",
    "\n",
    "print(chi2_cal, chi2_crit, p_value)\n",
    "\n",
    "# ปฏิเสธสมมติฐานหลัก H0 (มีความสัมพันธ์กัน)"
   ]
  },
  {
   "cell_type": "markdown",
   "id": "c5169a4c-a90e-46e4-b7c3-e7062be7cd19",
   "metadata": {},
   "source": [
    "#### แบบทดสอบ 9.7"
   ]
  },
  {
   "cell_type": "code",
   "execution_count": 7,
   "id": "771bd8ce-2eb1-41b5-a016-b7ec2160ba81",
   "metadata": {},
   "outputs": [
    {
     "name": "stdout",
     "output_type": "stream",
     "text": [
      "147.2218166279889 9.487729036781154 8.016615211900999e-31\n"
     ]
    }
   ],
   "source": [
    "# H0: การเกิดอุบัติเหตุกับช่วงการทํางาน ไม่มีความสัมพันธ์กัน\n",
    "# H1: การเกิดอุบัติเหตุกับช่วงการทํางาน มีความสัมพันธ์กัน\n",
    "\n",
    "alpha = 1 - (95/100)\n",
    "O = np.array([[51, 183, 146],\n",
    "              [173, 104, 57],\n",
    "              [203, 154, 79]])\n",
    "chi2_cal, p_value, dof, E = stats.chi2_contingency(O, correction=False)\n",
    "chi2_crit = stats.chi2.isf(alpha, df=(O.shape[0]-1)*(O.shape[1]-1))\n",
    "\n",
    "print(chi2_cal, chi2_crit, p_value)\n",
    "\n",
    "# ปฏิเสธสมมติฐานหลัก H0 (มีความสัมพันธ์กัน)"
   ]
  }
 ],
 "metadata": {
  "kernelspec": {
   "display_name": "Python 3 (ipykernel)",
   "language": "python",
   "name": "python3"
  },
  "language_info": {
   "codemirror_mode": {
    "name": "ipython",
    "version": 3
   },
   "file_extension": ".py",
   "mimetype": "text/x-python",
   "name": "python",
   "nbconvert_exporter": "python",
   "pygments_lexer": "ipython3",
   "version": "3.10.9"
  }
 },
 "nbformat": 4,
 "nbformat_minor": 5
}
