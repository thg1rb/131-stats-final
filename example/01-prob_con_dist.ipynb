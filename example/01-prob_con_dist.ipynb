{
 "cells": [
  {
   "cell_type": "code",
   "execution_count": 1,
   "id": "0ab50fd6-6aec-4fd1-906b-4e679935dc3f",
   "metadata": {},
   "outputs": [],
   "source": [
    "import numpy as np\n",
    "import pandas as pd\n",
    "from scipy import stats"
   ]
  },
  {
   "cell_type": "markdown",
   "id": "76d79151-3b98-4850-8b5e-cefd6c7fa684",
   "metadata": {
    "jp-MarkdownHeadingCollapsed": true,
    "tags": []
   },
   "source": [
    "## การแจกแจง Z"
   ]
  },
  {
   "cell_type": "markdown",
   "id": "fdfddca7-927c-4744-8edc-80b05af059c4",
   "metadata": {
    "jp-MarkdownHeadingCollapsed": true,
    "tags": []
   },
   "source": [
    "#### แบบทดสอบ 6.1"
   ]
  },
  {
   "cell_type": "code",
   "execution_count": 2,
   "id": "f7ec5a9c-c5ac-4afb-a893-edee2afd9b46",
   "metadata": {},
   "outputs": [
    {
     "data": {
      "text/plain": [
       "0.47441194047836144"
      ]
     },
     "execution_count": 2,
     "metadata": {},
     "output_type": "execute_result"
    }
   ],
   "source": [
    "# 0 < Z < 1.95\n",
    "stats.norm.cdf(1.95) - stats.norm.cdf(0)"
   ]
  },
  {
   "cell_type": "markdown",
   "id": "efcfc111-ba39-4da3-89ef-cc803f007447",
   "metadata": {
    "jp-MarkdownHeadingCollapsed": true,
    "tags": []
   },
   "source": [
    "#### แบบทดสอบ 6.2"
   ]
  },
  {
   "cell_type": "code",
   "execution_count": 3,
   "id": "2b3c9b0f-2899-4844-a2c0-ba5f652326c9",
   "metadata": {},
   "outputs": [
    {
     "data": {
      "text/plain": [
       "0.9937903346742238"
      ]
     },
     "execution_count": 3,
     "metadata": {},
     "output_type": "execute_result"
    }
   ],
   "source": [
    "stats.norm.cdf(2.5)"
   ]
  },
  {
   "cell_type": "code",
   "execution_count": 4,
   "id": "9fdf18d6-8996-44fd-999e-31132e800c84",
   "metadata": {},
   "outputs": [
    {
     "data": {
      "text/plain": [
       "0.10564977366685535"
      ]
     },
     "execution_count": 4,
     "metadata": {},
     "output_type": "execute_result"
    }
   ],
   "source": [
    "stats.norm.sf(1.25)"
   ]
  },
  {
   "cell_type": "code",
   "execution_count": 5,
   "id": "a00524f9-2375-4766-8686-507fcff4bac2",
   "metadata": {},
   "outputs": [
    {
     "data": {
      "text/plain": [
       "0.4015141183333797"
      ]
     },
     "execution_count": 5,
     "metadata": {},
     "output_type": "execute_result"
    }
   ],
   "source": [
    "stats.norm.cdf(2.07) - stats.norm.cdf(0.2)"
   ]
  },
  {
   "cell_type": "code",
   "execution_count": 6,
   "id": "70697f6f-ed76-418c-b3e0-4d19b822d01e",
   "metadata": {},
   "outputs": [
    {
     "data": {
      "text/plain": [
       "0.00964186994535833"
      ]
     },
     "execution_count": 6,
     "metadata": {},
     "output_type": "execute_result"
    }
   ],
   "source": [
    "stats.norm.cdf(-2.34)"
   ]
  },
  {
   "cell_type": "code",
   "execution_count": 7,
   "id": "195ed31f-fdb4-42fa-b0b5-0c1407befdee",
   "metadata": {},
   "outputs": [
    {
     "data": {
      "text/plain": [
       "0.7485711049046899"
      ]
     },
     "execution_count": 7,
     "metadata": {},
     "output_type": "execute_result"
    }
   ],
   "source": [
    "stats.norm.sf(-.67)"
   ]
  },
  {
   "cell_type": "code",
   "execution_count": 8,
   "id": "0159c621-acc2-4428-bb00-513317736ab9",
   "metadata": {},
   "outputs": [
    {
     "data": {
      "text/plain": [
       "0.8812647420394695"
      ]
     },
     "execution_count": 8,
     "metadata": {},
     "output_type": "execute_result"
    }
   ],
   "source": [
    "stats.norm.cdf(2.35) - stats.norm.cdf(-1.23)"
   ]
  },
  {
   "cell_type": "markdown",
   "id": "9d98cddb-e8df-4c6c-b5f3-9fda5445e27f",
   "metadata": {
    "jp-MarkdownHeadingCollapsed": true,
    "tags": []
   },
   "source": [
    "#### แบบทดสอบ 6.3"
   ]
  },
  {
   "cell_type": "code",
   "execution_count": 9,
   "id": "33bc8f60-0895-442f-8451-8370a76675e0",
   "metadata": {},
   "outputs": [
    {
     "data": {
      "text/plain": [
       "0.6826894921370859"
      ]
     },
     "execution_count": 9,
     "metadata": {},
     "output_type": "execute_result"
    }
   ],
   "source": [
    "# 85 <= X <= 100\n",
    "\n",
    "mu = 100\n",
    "sigma = 15\n",
    "stats.norm.cdf( (115-mu) / sigma ) - stats.norm.cdf( (85-mu) / sigma )"
   ]
  },
  {
   "cell_type": "code",
   "execution_count": 10,
   "id": "60eb171b-91f7-41be-af3a-efa3abd63b3e",
   "metadata": {},
   "outputs": [
    {
     "data": {
      "text/plain": [
       "4.736129193961791"
      ]
     },
     "execution_count": 10,
     "metadata": {},
     "output_type": "execute_result"
    }
   ],
   "source": [
    "# 125 <= X <= 150\n",
    "\n",
    "mu = 100\n",
    "sigma = 15\n",
    "( stats.norm.cdf( (150-mu) / sigma ) - stats.norm.cdf( (125-mu) / sigma ) ) * 100"
   ]
  },
  {
   "cell_type": "markdown",
   "id": "672a6cd6-4128-47fd-99ad-b68271da539b",
   "metadata": {},
   "source": [
    "#### แบบทดสอบ 6.4"
   ]
  },
  {
   "cell_type": "code",
   "execution_count": 11,
   "id": "6b908554-f365-42d6-85cb-0558a7414de7",
   "metadata": {},
   "outputs": [
    {
     "data": {
      "text/plain": [
       "380.3001794416802"
      ]
     },
     "execution_count": 11,
     "metadata": {},
     "output_type": "execute_result"
    }
   ],
   "source": [
    "# X < 5\n",
    "\n",
    "mu = 4.62\n",
    "sigma = 0.23\n",
    "stats.norm.cdf( (5-mu) / sigma ) * 400"
   ]
  },
  {
   "cell_type": "markdown",
   "id": "f919f393-b5b7-4a04-a99e-af534cd6610c",
   "metadata": {},
   "source": [
    "#### แบบทดสอบ 6.5\n"
   ]
  },
  {
   "cell_type": "code",
   "execution_count": 12,
   "id": "6feff28a-0cd9-49a3-b7eb-d6f19bca5df4",
   "metadata": {},
   "outputs": [
    {
     "data": {
      "text/plain": [
       "0.30853753872598755"
      ]
     },
     "execution_count": 12,
     "metadata": {},
     "output_type": "execute_result"
    }
   ],
   "source": [
    "# X > 5.1\n",
    "\n",
    "mu = 5\n",
    "sigma = 0.2\n",
    "stats.norm.sf( (5.1-mu) / sigma )"
   ]
  },
  {
   "cell_type": "markdown",
   "id": "aaa60625-aaf9-41b5-80ec-354c4a87761b",
   "metadata": {
    "jp-MarkdownHeadingCollapsed": true,
    "tags": []
   },
   "source": [
    "## การแจกแจงแบบ t"
   ]
  },
  {
   "cell_type": "markdown",
   "id": "d1abe970-82a7-4942-9aea-111825a81415",
   "metadata": {},
   "source": [
    "#### แบบทดสอบ 7.8"
   ]
  },
  {
   "cell_type": "code",
   "execution_count": 13,
   "id": "b736f09c-c34f-414a-addc-9e59a8da97ff",
   "metadata": {},
   "outputs": [
    {
     "data": {
      "text/plain": [
       "0.8975365981325916"
      ]
     },
     "execution_count": 13,
     "metadata": {},
     "output_type": "execute_result"
    }
   ],
   "source": [
    "stats.t.cdf(1.356, df=10)"
   ]
  },
  {
   "cell_type": "code",
   "execution_count": 14,
   "id": "985c3393-2e9d-4230-8858-4b5b999875df",
   "metadata": {},
   "outputs": [
    {
     "data": {
      "text/plain": [
       "0.10246340186740842"
      ]
     },
     "execution_count": 14,
     "metadata": {},
     "output_type": "execute_result"
    }
   ],
   "source": [
    "stats.t.cdf(-1.356, df=10)"
   ]
  },
  {
   "cell_type": "code",
   "execution_count": 15,
   "id": "ba417508-9800-44dc-a98f-e3a40bd9353f",
   "metadata": {},
   "outputs": [
    {
     "data": {
      "text/plain": [
       "0.36201408216094333"
      ]
     },
     "execution_count": 15,
     "metadata": {},
     "output_type": "execute_result"
    }
   ],
   "source": [
    "stats.t.cdf(2.07, df=3) - stats.t.cdf(0.2, df=3)"
   ]
  },
  {
   "cell_type": "code",
   "execution_count": 16,
   "id": "4b6ca02e-67e3-4ddf-ad87-51f951d7b816",
   "metadata": {},
   "outputs": [
    {
     "data": {
      "text/plain": [
       "0.050610858035589144"
      ]
     },
     "execution_count": 16,
     "metadata": {},
     "output_type": "execute_result"
    }
   ],
   "source": [
    "stats.t.cdf(-2.34, df=3)"
   ]
  },
  {
   "cell_type": "code",
   "execution_count": 17,
   "id": "407fa201-8a2a-46b8-83a4-8754050510af",
   "metadata": {},
   "outputs": [
    {
     "data": {
      "text/plain": [
       "0.7422279324182091"
      ]
     },
     "execution_count": 17,
     "metadata": {},
     "output_type": "execute_result"
    }
   ],
   "source": [
    "stats.t.sf(-0.67, df=12)"
   ]
  },
  {
   "cell_type": "code",
   "execution_count": 18,
   "id": "a5ae4ece-aded-46e0-87ee-bafe950821c3",
   "metadata": {},
   "outputs": [
    {
     "data": {
      "text/plain": [
       "0.8605105794742532"
      ]
     },
     "execution_count": 18,
     "metadata": {},
     "output_type": "execute_result"
    }
   ],
   "source": [
    "stats.t.cdf(2.35, df=12) - stats.t.cdf(-1.23, df=12)"
   ]
  },
  {
   "cell_type": "markdown",
   "id": "0d4499bc-4f54-4744-852d-a526e98cff6c",
   "metadata": {},
   "source": [
    "#### แบบทดสอบ 7.9"
   ]
  },
  {
   "cell_type": "code",
   "execution_count": 19,
   "id": "58e2426e-cdbb-41aa-8e56-57f3cdc432ab",
   "metadata": {},
   "outputs": [
    {
     "data": {
      "text/plain": [
       "1.3721836411102863"
      ]
     },
     "execution_count": 19,
     "metadata": {},
     "output_type": "execute_result"
    }
   ],
   "source": [
    "stats.t.ppf(0.90, df=10)"
   ]
  },
  {
   "cell_type": "code",
   "execution_count": 20,
   "id": "447c163e-ba87-4622-84e0-967f48237e55",
   "metadata": {},
   "outputs": [
    {
     "data": {
      "text/plain": [
       "2.3533634348018273"
      ]
     },
     "execution_count": 20,
     "metadata": {},
     "output_type": "execute_result"
    }
   ],
   "source": [
    "stats.t.isf(0.05, df=3)"
   ]
  },
  {
   "cell_type": "code",
   "execution_count": 21,
   "id": "65ccbd80-9209-4787-98b7-ea71b9606ebb",
   "metadata": {},
   "outputs": [
    {
     "data": {
      "text/plain": [
       "2.178812829663418"
      ]
     },
     "execution_count": 21,
     "metadata": {},
     "output_type": "execute_result"
    }
   ],
   "source": [
    "stats.t.isf(0.05/2, df=12)"
   ]
  },
  {
   "cell_type": "markdown",
   "id": "fedf40e8-72b7-4b15-997e-cde30da68086",
   "metadata": {},
   "source": [
    "#### แบบทดสอบ 7.10"
   ]
  },
  {
   "cell_type": "code",
   "execution_count": 22,
   "id": "0708a65d-71cb-47a6-93c8-31234acd18e9",
   "metadata": {},
   "outputs": [],
   "source": [
    "n = 25\n",
    "mu = 10000\n",
    "s = 2000"
   ]
  },
  {
   "cell_type": "code",
   "execution_count": 23,
   "id": "eab677b5-bd6a-41a8-bb54-dedfa7dcad93",
   "metadata": {},
   "outputs": [
    {
     "data": {
      "text/plain": [
       "0.31081436115699335"
      ]
     },
     "execution_count": 23,
     "metadata": {},
     "output_type": "execute_result"
    }
   ],
   "source": [
    "# x_bar > 15000\n",
    "t = (15000 - mu) / s / np.sqrt(n)\n",
    "stats.t.sf(t, df=n-1)"
   ]
  },
  {
   "cell_type": "code",
   "execution_count": 24,
   "id": "a02d1bac-6ed6-4cf3-bc76-471497260048",
   "metadata": {},
   "outputs": [
    {
     "data": {
      "text/plain": [
       "0.5"
      ]
     },
     "execution_count": 24,
     "metadata": {},
     "output_type": "execute_result"
    }
   ],
   "source": [
    "# x_bar > 10000\n",
    "t = (10000 - mu) / s / np.sqrt(n)\n",
    "stats.t.sf(t, df=n-1)"
   ]
  },
  {
   "cell_type": "code",
   "execution_count": 25,
   "id": "97831354-e19a-486a-bde4-274e938b1768",
   "metadata": {},
   "outputs": [
    {
     "data": {
      "text/plain": [
       "0.9803458248834213"
      ]
     },
     "execution_count": 25,
     "metadata": {},
     "output_type": "execute_result"
    }
   ],
   "source": [
    "# 11000 <= x_bar <= 12000\n",
    "tA = (11000 - mu) / (s / np.sqrt(n))\n",
    "tB = (9000 - mu) / (s / np.sqrt(n))\n",
    "\n",
    "stats.t.cdf(tA, df=n-1) - stats.t.cdf(tB, df=n-1)"
   ]
  },
  {
   "cell_type": "markdown",
   "id": "3d72df9e-319c-434e-b274-b7ef87c600c7",
   "metadata": {},
   "source": [
    "#### แบบทดสอบ 7.11"
   ]
  },
  {
   "cell_type": "code",
   "execution_count": 26,
   "id": "cfe0d976-ecf2-4f7c-be61-b677b197d0df",
   "metadata": {},
   "outputs": [
    {
     "data": {
      "text/plain": [
       "0.014995686755130537"
      ]
     },
     "execution_count": 26,
     "metadata": {},
     "output_type": "execute_result"
    }
   ],
   "source": [
    "# µ > 10550\n",
    "# T < t\n",
    "\n",
    "n = 25\n",
    "x_bar = 10000\n",
    "s = 1192\n",
    "mu = 10550\n",
    "\n",
    "t = ( x_bar - mu ) / ( s / np.sqrt(n) )\n",
    "stats.t.cdf(t, df=n-1)"
   ]
  },
  {
   "cell_type": "markdown",
   "id": "5b42a21c-b84d-4007-9ecc-ee0d49321f7a",
   "metadata": {
    "jp-MarkdownHeadingCollapsed": true,
    "tags": []
   },
   "source": [
    "## การแจกแจงแบบ Chi2"
   ]
  },
  {
   "cell_type": "markdown",
   "id": "798de580-aa1d-4f25-ba29-a60375efa1c8",
   "metadata": {},
   "source": [
    "#### แบบทดสอบ 7.12"
   ]
  },
  {
   "cell_type": "code",
   "execution_count": 27,
   "id": "8ac570f2-d074-4135-ad3f-78f0f03a3674",
   "metadata": {},
   "outputs": [
    {
     "data": {
      "text/plain": [
       "0.6353789405029321"
      ]
     },
     "execution_count": 27,
     "metadata": {},
     "output_type": "execute_result"
    }
   ],
   "source": [
    "stats.chi2.cdf(15.2, df=14)"
   ]
  },
  {
   "cell_type": "code",
   "execution_count": 28,
   "id": "95b65428-75ab-4134-af84-b8968afbabc9",
   "metadata": {},
   "outputs": [
    {
     "data": {
      "text/plain": [
       "0.44971105584869875"
      ]
     },
     "execution_count": 28,
     "metadata": {},
     "output_type": "execute_result"
    }
   ],
   "source": [
    "stats.chi2.sf(14, df=14)"
   ]
  },
  {
   "cell_type": "markdown",
   "id": "3f899198-eecc-4a63-b7c5-fa249f54585a",
   "metadata": {},
   "source": [
    "#### แบบทดสอบ 7.13"
   ]
  },
  {
   "cell_type": "code",
   "execution_count": 29,
   "id": "4da7b1b7-fa44-43c6-8a87-92b270d44a54",
   "metadata": {},
   "outputs": [
    {
     "data": {
      "text/plain": [
       "9.34181776559197"
      ]
     },
     "execution_count": 29,
     "metadata": {},
     "output_type": "execute_result"
    }
   ],
   "source": [
    "stats.chi2.ppf(0.5, df=10)"
   ]
  },
  {
   "cell_type": "code",
   "execution_count": 30,
   "id": "f1ff8d50-d114-4410-bf77-74a5dc9e934b",
   "metadata": {},
   "outputs": [
    {
     "data": {
      "text/plain": [
       "24.99579013972863"
      ]
     },
     "execution_count": 30,
     "metadata": {},
     "output_type": "execute_result"
    }
   ],
   "source": [
    "stats.chi2.isf(0.05, df=15)"
   ]
  },
  {
   "cell_type": "markdown",
   "id": "3617f5dc-5925-450f-8253-c3b920d18fd9",
   "metadata": {
    "jp-MarkdownHeadingCollapsed": true,
    "tags": []
   },
   "source": [
    "## การแจกแจงแบบ F"
   ]
  },
  {
   "cell_type": "markdown",
   "id": "c7ab09a5-f7d5-49bf-a0d3-73107e281a96",
   "metadata": {
    "jp-MarkdownHeadingCollapsed": true,
    "tags": []
   },
   "source": [
    "#### แบบทดสอบ 7.14"
   ]
  },
  {
   "cell_type": "code",
   "execution_count": null,
   "id": "24802b18-a145-4530-abc7-c0ed4f3819cf",
   "metadata": {},
   "outputs": [],
   "source": []
  },
  {
   "cell_type": "markdown",
   "id": "fde18ccf-f7ef-4080-abc8-c78625fd7ebc",
   "metadata": {
    "jp-MarkdownHeadingCollapsed": true,
    "tags": []
   },
   "source": [
    "#### แบบทดสอบ 7.15"
   ]
  },
  {
   "cell_type": "code",
   "execution_count": null,
   "id": "3f0932e4-88b1-4542-8b13-5de217f90c31",
   "metadata": {},
   "outputs": [],
   "source": []
  }
 ],
 "metadata": {
  "kernelspec": {
   "display_name": "Python 3 (ipykernel)",
   "language": "python",
   "name": "python3"
  },
  "language_info": {
   "codemirror_mode": {
    "name": "ipython",
    "version": 3
   },
   "file_extension": ".py",
   "mimetype": "text/x-python",
   "name": "python",
   "nbconvert_exporter": "python",
   "pygments_lexer": "ipython3",
   "version": "3.10.9"
  }
 },
 "nbformat": 4,
 "nbformat_minor": 5
}
