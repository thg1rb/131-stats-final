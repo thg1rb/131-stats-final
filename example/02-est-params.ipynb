{
 "cells": [
  {
   "cell_type": "code",
   "execution_count": 1,
   "id": "6aaddbd9-0d7c-40f2-bf5e-980716f5cc1f",
   "metadata": {},
   "outputs": [],
   "source": [
    "import numpy as np\n",
    "import pandas as pd\n",
    "from scipy import stats"
   ]
  },
  {
   "cell_type": "markdown",
   "id": "2d3e5ade-2442-44d9-b40d-7e987afb8ca7",
   "metadata": {
    "jp-MarkdownHeadingCollapsed": true,
    "tags": []
   },
   "source": [
    "## การประมาณ ค่าเฉลี่ย(µ) แบบจุด"
   ]
  },
  {
   "cell_type": "markdown",
   "id": "c6ab48c0-903c-4130-9f22-68afd2539f98",
   "metadata": {},
   "source": [
    "#### แบบทดสอบ 8.1"
   ]
  },
  {
   "cell_type": "code",
   "execution_count": 2,
   "id": "56776058-acc9-4268-a880-a184ae9c3abd",
   "metadata": {},
   "outputs": [
    {
     "data": {
      "text/plain": [
       "166.7"
      ]
     },
     "execution_count": 2,
     "metadata": {},
     "output_type": "execute_result"
    }
   ],
   "source": [
    "np.mean([165, 172, 157, 138, 180, 175, 159, 149, 190, 182])"
   ]
  },
  {
   "cell_type": "markdown",
   "id": "5f4e6b42-9963-420d-bde2-3a39a3527099",
   "metadata": {
    "jp-MarkdownHeadingCollapsed": true,
    "tags": []
   },
   "source": [
    "## การประมาณ ค่าเฉลี่ย(µ) แบบช่วง"
   ]
  },
  {
   "cell_type": "markdown",
   "id": "e045c601-352e-482c-82f5-e1e167387f65",
   "metadata": {},
   "source": [
    "#### แบบทดสอบ 8.2"
   ]
  },
  {
   "cell_type": "code",
   "execution_count": 3,
   "id": "c1ae1445-1423-4921-84f2-5b8f935ad180",
   "metadata": {},
   "outputs": [
    {
     "name": "stdout",
     "output_type": "stream",
     "text": [
      "1.3925586109974042 <= µ <= 1.6074413890025958\n"
     ]
    }
   ],
   "source": [
    "n = 150\n",
    "x_bar = 1.5\n",
    "s = 0.8\n",
    "alpha = 1 - (90/100)\n",
    "\n",
    "left = x_bar + stats.norm.ppf(alpha/2) * (s / np.sqrt(n))\n",
    "right = x_bar + stats.norm.isf(alpha/2) * (s / np.sqrt(n)) \n",
    "\n",
    "print(f\"{left} <= µ <= {right}\")"
   ]
  },
  {
   "cell_type": "markdown",
   "id": "38232c45-afd6-4d9f-b43f-e0511f095b0e",
   "metadata": {},
   "source": [
    "#### แบบทดสอบ 8.3"
   ]
  },
  {
   "cell_type": "code",
   "execution_count": 7,
   "id": "6e15a452-bbd2-480f-91e2-aac32c41348a",
   "metadata": {},
   "outputs": [
    {
     "name": "stdout",
     "output_type": "stream",
     "text": [
      "168.64774721913423 <= µ <= 291.3522527808658\n"
     ]
    }
   ],
   "source": [
    "n = 10\n",
    "sample = [200, 150, 120, 300, 250, 170, 220, 180, 310, 400]\n",
    "alpha = 1 - (95/100)\n",
    "\n",
    "x_bar = np.mean(sample)\n",
    "s = np.std(sample, ddof=1)\n",
    "\n",
    "left = x_bar + stats.t.ppf(alpha/2, df=n-1) * ( s / np.sqrt(n) )\n",
    "right = x_bar + stats.t.isf(alpha/2, df=n-1) * ( s / np.sqrt(n) )\n",
    "\n",
    "print(f\"{left} <= µ <= {right}\")"
   ]
  },
  {
   "cell_type": "markdown",
   "id": "d6e190cd-7446-43b4-bb8e-b0442b36dd42",
   "metadata": {
    "jp-MarkdownHeadingCollapsed": true,
    "tags": []
   },
   "source": [
    "## การประมาณ ค่าสัดส่วน (𝜬) แบบจุด"
   ]
  },
  {
   "cell_type": "markdown",
   "id": "49449df1-1644-43a5-8b0d-3a01cefe0e5c",
   "metadata": {},
   "source": [
    "#### แบบทดสอบ 8.4"
   ]
  },
  {
   "cell_type": "code",
   "execution_count": 8,
   "id": "137d53e5-abe4-4d4a-a434-428ba8f6a1b5",
   "metadata": {},
   "outputs": [
    {
     "data": {
      "text/plain": [
       "0.5333333333333333"
      ]
     },
     "execution_count": 8,
     "metadata": {},
     "output_type": "execute_result"
    }
   ],
   "source": [
    "# x นิสิตที่ทำงานภายใน 3 เดือนหลังสำเร็จการศึกษา\n",
    "\n",
    "n = 150\n",
    "x = 80\n",
    "x / n"
   ]
  },
  {
   "cell_type": "markdown",
   "id": "160f73e2-6f4c-4195-a993-80e5ea5f0e42",
   "metadata": {
    "jp-MarkdownHeadingCollapsed": true,
    "tags": []
   },
   "source": [
    "## การประมาณ ค่าสัดส่วน (𝜬) แบบช่วง"
   ]
  },
  {
   "cell_type": "markdown",
   "id": "c19a8842-eab6-4ec1-a5e0-e8b4dbee66af",
   "metadata": {},
   "source": [
    "#### แบบทดสอบ 8.5"
   ]
  },
  {
   "cell_type": "code",
   "execution_count": 10,
   "id": "8861253f-7614-4e3b-a5e9-02bb1ee69f32",
   "metadata": {},
   "outputs": [
    {
     "data": {
      "text/plain": [
       "0.52"
      ]
     },
     "execution_count": 10,
     "metadata": {},
     "output_type": "execute_result"
    }
   ],
   "source": [
    "# x ผู้ที่พอใจซอฟต์แวร์ที่ใช้อยู่่\n",
    "\n",
    "n = 125\n",
    "x = 65\n",
    "\n",
    "p_hat = x / n\n",
    "p_hat"
   ]
  },
  {
   "cell_type": "code",
   "execution_count": 11,
   "id": "1add5f01-c1a3-4010-a2ec-4179e90b3ac1",
   "metadata": {},
   "outputs": [
    {
     "name": "stdout",
     "output_type": "stream",
     "text": [
      "0.44649878117243413 <= P <= 0.5935012188275659\n"
     ]
    }
   ],
   "source": [
    "alpha = 1 - (90/100)\n",
    "q_hat = 1 - p_hat\n",
    "\n",
    "left = p_hat + stats.norm.ppf(alpha/2) * np.sqrt( (p_hat*q_hat) / n )\n",
    "right = p_hat + stats.norm.isf(alpha/2) * np.sqrt( (p_hat*q_hat) / n )\n",
    "\n",
    "print(f\"{left} <= P <= {right}\")"
   ]
  },
  {
   "cell_type": "markdown",
   "id": "5971a412-a173-4a8c-900b-df4e9553d893",
   "metadata": {},
   "source": [
    "#### แบบทดสอบ 8.6"
   ]
  },
  {
   "cell_type": "code",
   "execution_count": 13,
   "id": "9fe2e72a-c354-497b-9cf3-60cdfb941a21",
   "metadata": {},
   "outputs": [
    {
     "name": "stdout",
     "output_type": "stream",
     "text": [
      "0.018722639118515533 <= P <= 0.021277360881484467\n"
     ]
    }
   ],
   "source": [
    "# x สินค้าที่ชำรุด\n",
    "\n",
    "n = 32500\n",
    "x = 650\n",
    "alpha = 1 - (90/100)\n",
    "\n",
    "p_hat = x / n\n",
    "q_hat = 1 - p_hat\n",
    "\n",
    "left = p_hat + stats.norm.ppf(alpha/2) * np.sqrt( (p_hat*q_hat) / n )\n",
    "right = p_hat + stats.norm.isf(alpha/2) * np.sqrt( (p_hat*q_hat) / n )\n",
    "\n",
    "print(f\"{left} <= P <= {right}\")"
   ]
  },
  {
   "cell_type": "markdown",
   "id": "fb4f359e-5f25-4d1a-b9c8-73299f7f3f13",
   "metadata": {
    "jp-MarkdownHeadingCollapsed": true,
    "tags": []
   },
   "source": [
    "## การประมาณ ค่าความแปรปรวน σ² แบบจุด"
   ]
  },
  {
   "cell_type": "markdown",
   "id": "535c3094-6fd5-4906-ac7b-a2ad6096cbd0",
   "metadata": {},
   "source": [
    "#### แบบทดสอบ 8.7"
   ]
  },
  {
   "cell_type": "code",
   "execution_count": 14,
   "id": "361d2e45-3f14-4325-86a9-022ef5461f4b",
   "metadata": {},
   "outputs": [
    {
     "data": {
      "text/plain": [
       "238.66781609195402"
      ]
     },
     "execution_count": 14,
     "metadata": {},
     "output_type": "execute_result"
    }
   ],
   "source": [
    "sample = [40, 64, 49, 41, 57, 49, 61, 36, 72, 42, 47, 80, 57, 62, 26, 40, 53, 63, 42, 44, 50, 70, 92, 55, 60, 42, 63, 54, 24, 78]\n",
    "np.var(sample, ddof=1)"
   ]
  },
  {
   "cell_type": "markdown",
   "id": "f0235e7f-a2a9-4e50-970f-d1a854e60e7d",
   "metadata": {
    "tags": []
   },
   "source": [
    "## การประมาณ ค่าความแปรปรวน σ² แบบช่วง"
   ]
  },
  {
   "cell_type": "markdown",
   "id": "766faf24-fe3d-473b-9335-962e6c54255a",
   "metadata": {},
   "source": [
    "#### แบบทดสอบ 8.8"
   ]
  },
  {
   "cell_type": "code",
   "execution_count": 19,
   "id": "8aa4a339-27c7-4565-be42-dc837ee442eb",
   "metadata": {},
   "outputs": [
    {
     "name": "stdout",
     "output_type": "stream",
     "text": [
      "151.3784043149202 <= σ² <= 431.31649176004237\n"
     ]
    }
   ],
   "source": [
    "n = 30\n",
    "sample = [40, 64, 49, 41, 57, 49, 61, 36, 72, 42, 47, 80, 57, 62, 26, 40, 53, 63, 42, 44, 50, 70, 92, 55, 60, 42, 63, 54, 24, 78]\n",
    "alpha = 1 - (95/100)\n",
    "\n",
    "s2 = np.var(sample, ddof=1)\n",
    "\n",
    "left = ( (n-1) * s2 ) / stats.chi2.isf(alpha/2, df=n-1)\n",
    "right = ( (n-1) * s2 ) / stats.chi2.ppf(alpha/2, df=n-1)\n",
    "\n",
    "print(f\"{left} <= σ² <= {right}\")"
   ]
  },
  {
   "cell_type": "markdown",
   "id": "9ce5781d-bb8d-4da6-a364-c9fbb74a1bc2",
   "metadata": {},
   "source": [
    "#### แบบทดสอบ 8.9\n"
   ]
  },
  {
   "cell_type": "code",
   "execution_count": 21,
   "id": "8bd57301-2c2b-4297-ba65-72f8d62dbf10",
   "metadata": {},
   "outputs": [
    {
     "name": "stdout",
     "output_type": "stream",
     "text": [
      "2.5179912292772046 <= σ² <= 23.85983510500997\n"
     ]
    }
   ],
   "source": [
    "n = 8\n",
    "s2 = 2.4**2\n",
    "alpha = 1 - (95/100)\n",
    "\n",
    "left = ( (n-1)*s2 ) / stats.chi2.isf(alpha/2, df=n-1)\n",
    "right = ( (n-1)*s2 ) / stats.chi2.ppf(alpha/2, df=n-1)\n",
    "\n",
    "print(f\"{left} <= σ² <= {right}\")"
   ]
  }
 ],
 "metadata": {
  "kernelspec": {
   "display_name": "Python 3 (ipykernel)",
   "language": "python",
   "name": "python3"
  },
  "language_info": {
   "codemirror_mode": {
    "name": "ipython",
    "version": 3
   },
   "file_extension": ".py",
   "mimetype": "text/x-python",
   "name": "python",
   "nbconvert_exporter": "python",
   "pygments_lexer": "ipython3",
   "version": "3.10.9"
  }
 },
 "nbformat": 4,
 "nbformat_minor": 5
}
