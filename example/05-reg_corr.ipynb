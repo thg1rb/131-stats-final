{
 "cells": [
  {
   "cell_type": "code",
   "execution_count": 1,
   "id": "df4ab505-0f17-4691-9ee5-ecc9a6408efa",
   "metadata": {},
   "outputs": [],
   "source": [
    "import numpy as np\n",
    "import pandas as pd\n",
    "from scipy import stats\n",
    "import statsmodels.api as sm"
   ]
  },
  {
   "cell_type": "markdown",
   "id": "ad4898e3-aee3-4d1a-9aec-636c317f7cb5",
   "metadata": {},
   "source": [
    "## สัมประสิทธิ์สหสัมพันธ์ (Correlation Coefficient)"
   ]
  },
  {
   "cell_type": "markdown",
   "id": "a5556a68-286f-4412-b84a-bb0de12a57c0",
   "metadata": {},
   "source": [
    "#### แบบทดสอบ 10.2"
   ]
  },
  {
   "cell_type": "code",
   "execution_count": 2,
   "id": "a33a4aa7-4070-4da0-ae67-70e49a8cbdb2",
   "metadata": {},
   "outputs": [
    {
     "data": {
      "text/html": [
       "<div>\n",
       "<style scoped>\n",
       "    .dataframe tbody tr th:only-of-type {\n",
       "        vertical-align: middle;\n",
       "    }\n",
       "\n",
       "    .dataframe tbody tr th {\n",
       "        vertical-align: top;\n",
       "    }\n",
       "\n",
       "    .dataframe thead th {\n",
       "        text-align: right;\n",
       "    }\n",
       "</style>\n",
       "<table border=\"1\" class=\"dataframe\">\n",
       "  <thead>\n",
       "    <tr style=\"text-align: right;\">\n",
       "      <th></th>\n",
       "      <th>ad_cost</th>\n",
       "      <th>sale</th>\n",
       "    </tr>\n",
       "  </thead>\n",
       "  <tbody>\n",
       "    <tr>\n",
       "      <th>0</th>\n",
       "      <td>3.7</td>\n",
       "      <td>42.5</td>\n",
       "    </tr>\n",
       "    <tr>\n",
       "      <th>1</th>\n",
       "      <td>2.0</td>\n",
       "      <td>35.0</td>\n",
       "    </tr>\n",
       "    <tr>\n",
       "      <th>2</th>\n",
       "      <td>3.0</td>\n",
       "      <td>39.5</td>\n",
       "    </tr>\n",
       "    <tr>\n",
       "      <th>3</th>\n",
       "      <td>2.0</td>\n",
       "      <td>36.5</td>\n",
       "    </tr>\n",
       "    <tr>\n",
       "      <th>4</th>\n",
       "      <td>3.5</td>\n",
       "      <td>47.5</td>\n",
       "    </tr>\n",
       "    <tr>\n",
       "      <th>5</th>\n",
       "      <td>4.8</td>\n",
       "      <td>44.0</td>\n",
       "    </tr>\n",
       "    <tr>\n",
       "      <th>6</th>\n",
       "      <td>4.5</td>\n",
       "      <td>49.0</td>\n",
       "    </tr>\n",
       "    <tr>\n",
       "      <th>7</th>\n",
       "      <td>4.5</td>\n",
       "      <td>48.0</td>\n",
       "    </tr>\n",
       "    <tr>\n",
       "      <th>8</th>\n",
       "      <td>3.8</td>\n",
       "      <td>42.0</td>\n",
       "    </tr>\n",
       "    <tr>\n",
       "      <th>9</th>\n",
       "      <td>5.0</td>\n",
       "      <td>56.0</td>\n",
       "    </tr>\n",
       "    <tr>\n",
       "      <th>10</th>\n",
       "      <td>4.0</td>\n",
       "      <td>52.5</td>\n",
       "    </tr>\n",
       "    <tr>\n",
       "      <th>11</th>\n",
       "      <td>5.0</td>\n",
       "      <td>51.0</td>\n",
       "    </tr>\n",
       "  </tbody>\n",
       "</table>\n",
       "</div>"
      ],
      "text/plain": [
       "    ad_cost  sale\n",
       "0       3.7  42.5\n",
       "1       2.0  35.0\n",
       "2       3.0  39.5\n",
       "3       2.0  36.5\n",
       "4       3.5  47.5\n",
       "5       4.8  44.0\n",
       "6       4.5  49.0\n",
       "7       4.5  48.0\n",
       "8       3.8  42.0\n",
       "9       5.0  56.0\n",
       "10      4.0  52.5\n",
       "11      5.0  51.0"
      ]
     },
     "execution_count": 2,
     "metadata": {},
     "output_type": "execute_result"
    }
   ],
   "source": [
    "df_sales = pd.read_csv(\"https://raw.githubusercontent.com/ThammakornS/ProgStat/main/dataset/sale.csv\")\n",
    "df_sales"
   ]
  },
  {
   "cell_type": "code",
   "execution_count": 3,
   "id": "a8784e96-6bae-43c7-b409-4408a9005215",
   "metadata": {},
   "outputs": [
    {
     "name": "stdout",
     "output_type": "stream",
     "text": [
      "0.8410425833995455 0.0006081181882655834\n"
     ]
    }
   ],
   "source": [
    "r, p_value = stats.pearsonr(df_sales.ad_cost, df_sales.sale)\n",
    "print(r, p_value)"
   ]
  },
  {
   "cell_type": "markdown",
   "id": "8bdc60d1-b308-48dd-a34c-2b965c09988f",
   "metadata": {},
   "source": [
    "## การทดสอบสมมติฐานเกี่ยวกับสัมประสิทธิ์สหสัมพันธ์"
   ]
  },
  {
   "cell_type": "markdown",
   "id": "24ab4590-da71-44ff-900d-59ebec0303c8",
   "metadata": {},
   "source": [
    "#### แบบทดสอบ 10.3"
   ]
  },
  {
   "cell_type": "code",
   "execution_count": 4,
   "id": "f60f6ca5-8b90-4c34-8543-d8bd3c960816",
   "metadata": {},
   "outputs": [
    {
     "name": "stdout",
     "output_type": "stream",
     "text": [
      "-2.2281388519649385 4.9163825723122985 2.2281388519649385 0.0006081181882655834\n"
     ]
    }
   ],
   "source": [
    "# H0: ad_cost กับ sale ไม่มีความสัมพันธ์เชิงเส้นกัน\n",
    "# H1: ad_cost กับ sale มีความสัมพันธ์เชิงเส้นกัน\n",
    "\n",
    "alpha = 0.05\n",
    "\n",
    "Sr = np.sqrt( (1-r**2) / (df_sales.shape[0]-2) )\n",
    "\n",
    "t_cal = r / Sr\n",
    "t_crit_left = stats.t.ppf(alpha/2, df=df_sales.shape[0]-2)\n",
    "t_crit_right = stats.t.isf(alpha/2, df=df_sales.shape[0]-2)\n",
    "\n",
    "print(t_crit_left, t_cal, t_crit_right, p_value)\n",
    "\n",
    "# ปฏิเสธสมมติฐานหลัก H0 (ad_cost กับ sale มีความสัมพันธ์เชิงเส้นกัน)"
   ]
  },
  {
   "cell_type": "markdown",
   "id": "94e4c190-0650-4332-a0c0-cbbe7d5f636e",
   "metadata": {},
   "source": [
    "#### แบบทดสอบ 10.4"
   ]
  },
  {
   "cell_type": "code",
   "execution_count": 5,
   "id": "ce3a9754-ca7f-495c-859e-b17e259e569e",
   "metadata": {},
   "outputs": [
    {
     "data": {
      "text/html": [
       "<div>\n",
       "<style scoped>\n",
       "    .dataframe tbody tr th:only-of-type {\n",
       "        vertical-align: middle;\n",
       "    }\n",
       "\n",
       "    .dataframe tbody tr th {\n",
       "        vertical-align: top;\n",
       "    }\n",
       "\n",
       "    .dataframe thead th {\n",
       "        text-align: right;\n",
       "    }\n",
       "</style>\n",
       "<table border=\"1\" class=\"dataframe\">\n",
       "  <thead>\n",
       "    <tr style=\"text-align: right;\">\n",
       "      <th></th>\n",
       "      <th>mk_share</th>\n",
       "      <th>payback_customer</th>\n",
       "    </tr>\n",
       "  </thead>\n",
       "  <tbody>\n",
       "    <tr>\n",
       "      <th>0</th>\n",
       "      <td>15</td>\n",
       "      <td>24</td>\n",
       "    </tr>\n",
       "    <tr>\n",
       "      <th>1</th>\n",
       "      <td>14</td>\n",
       "      <td>20</td>\n",
       "    </tr>\n",
       "    <tr>\n",
       "      <th>2</th>\n",
       "      <td>18</td>\n",
       "      <td>25</td>\n",
       "    </tr>\n",
       "    <tr>\n",
       "      <th>3</th>\n",
       "      <td>20</td>\n",
       "      <td>28</td>\n",
       "    </tr>\n",
       "    <tr>\n",
       "      <th>4</th>\n",
       "      <td>10</td>\n",
       "      <td>15</td>\n",
       "    </tr>\n",
       "    <tr>\n",
       "      <th>5</th>\n",
       "      <td>11</td>\n",
       "      <td>15</td>\n",
       "    </tr>\n",
       "    <tr>\n",
       "      <th>6</th>\n",
       "      <td>13</td>\n",
       "      <td>16</td>\n",
       "    </tr>\n",
       "    <tr>\n",
       "      <th>7</th>\n",
       "      <td>16</td>\n",
       "      <td>17</td>\n",
       "    </tr>\n",
       "    <tr>\n",
       "      <th>8</th>\n",
       "      <td>10</td>\n",
       "      <td>12</td>\n",
       "    </tr>\n",
       "    <tr>\n",
       "      <th>9</th>\n",
       "      <td>12</td>\n",
       "      <td>13</td>\n",
       "    </tr>\n",
       "    <tr>\n",
       "      <th>10</th>\n",
       "      <td>15</td>\n",
       "      <td>15</td>\n",
       "    </tr>\n",
       "    <tr>\n",
       "      <th>11</th>\n",
       "      <td>17</td>\n",
       "      <td>16</td>\n",
       "    </tr>\n",
       "    <tr>\n",
       "      <th>12</th>\n",
       "      <td>22</td>\n",
       "      <td>30</td>\n",
       "    </tr>\n",
       "    <tr>\n",
       "      <th>13</th>\n",
       "      <td>19</td>\n",
       "      <td>25</td>\n",
       "    </tr>\n",
       "  </tbody>\n",
       "</table>\n",
       "</div>"
      ],
      "text/plain": [
       "    mk_share  payback_customer\n",
       "0         15                24\n",
       "1         14                20\n",
       "2         18                25\n",
       "3         20                28\n",
       "4         10                15\n",
       "5         11                15\n",
       "6         13                16\n",
       "7         16                17\n",
       "8         10                12\n",
       "9         12                13\n",
       "10        15                15\n",
       "11        17                16\n",
       "12        22                30\n",
       "13        19                25"
      ]
     },
     "execution_count": 5,
     "metadata": {},
     "output_type": "execute_result"
    }
   ],
   "source": [
    "df_cosmetics = pd.read_csv(\"https://raw.githubusercontent.com/ThammakornS/ProgStat/main/dataset/cosmetic.csv\")\n",
    "df_cosmetics"
   ]
  },
  {
   "cell_type": "code",
   "execution_count": 6,
   "id": "053fcd1c-b3a5-4701-8b17-b6bc02510d72",
   "metadata": {},
   "outputs": [
    {
     "name": "stdout",
     "output_type": "stream",
     "text": [
      "0.86392120041863 6.793657739462234e-05\n"
     ]
    }
   ],
   "source": [
    "# สัมประสิทธิ์สหสัมพันธ์ระหวา่งสัดส่วนการครองตลาดและกําไรจ่ายคืนลูกค้า\n",
    "\n",
    "r, p_value = stats.pearsonr(df_cosmetics.mk_share, df_cosmetics.payback_customer)\n",
    "print(r, p_value)"
   ]
  },
  {
   "cell_type": "code",
   "execution_count": 7,
   "id": "4fa71cf7-4507-458b-b164-0fb6d655e9c4",
   "metadata": {},
   "outputs": [
    {
     "name": "stdout",
     "output_type": "stream",
     "text": [
      "-2.178812829663418 5.942316039704832 2.178812829663418 6.793657739462234e-05\n"
     ]
    }
   ],
   "source": [
    "# H0: สัดส่วนการครองตลาดและกำไรจ่ายคืนลูกค้า ไม่มีความสัมพันธ์เชิงเส้นกัน\n",
    "# H1: สัดส่วนการครองตลาดและกำไรจ่ายคืนลูกค้า มีความสัมพันธ์เชิงเส้นกัน\n",
    "\n",
    "alpha = 0.05\n",
    "n = df_cosmetics.shape[0]\n",
    "\n",
    "Sr = np.sqrt( (1-r**2) / (n-2) )\n",
    "\n",
    "t_cal = r / Sr\n",
    "t_crit_left = stats.t.ppf(alpha/2, df=n-2)\n",
    "t_crit_right = stats.t.isf(alpha/2, df=n-2)\n",
    "\n",
    "print(t_crit_left, t_cal, t_crit_right, p_value)\n",
    "\n",
    "# ปฏิเสธสมมติฐานหลัก H0 (mk_share กับ payback_customer มีความสัมพันธ์เชิงเส้นกัน)"
   ]
  },
  {
   "cell_type": "markdown",
   "id": "709a9ea5-a331-456e-a49f-5f86ccf5795b",
   "metadata": {},
   "source": [
    "#### แบบทดสอบ 10.6"
   ]
  },
  {
   "cell_type": "code",
   "execution_count": null,
   "id": "18c44775-44ad-41d3-895d-d8e8512ce0c1",
   "metadata": {},
   "outputs": [],
   "source": []
  },
  {
   "cell_type": "code",
   "execution_count": 8,
   "id": "22225155-76c6-4807-af05-d30c5ea12cea",
   "metadata": {},
   "outputs": [
    {
     "name": "stdout",
     "output_type": "stream",
     "text": [
      "                            OLS Regression Results                            \n",
      "==============================================================================\n",
      "Dep. Variable:                   sale   R-squared:                       0.707\n",
      "Model:                            OLS   Adj. R-squared:                  0.678\n",
      "Method:                 Least Squares   F-statistic:                     24.17\n",
      "Date:                Fri, 22 Mar 2024   Prob (F-statistic):           0.000608\n",
      "Time:                        18:48:48   Log-Likelihood:                -31.561\n",
      "No. Observations:                  12   AIC:                             67.12\n",
      "Df Residuals:                      10   BIC:                             68.09\n",
      "Df Model:                           1                                         \n",
      "Covariance Type:            nonrobust                                         \n",
      "==============================================================================\n",
      "                 coef    std err          t      P>|t|      [0.025      0.975]\n",
      "------------------------------------------------------------------------------\n",
      "const         25.4655      4.170      6.107      0.000      16.174      34.757\n",
      "ad_cost        5.1946      1.057      4.916      0.001       2.840       7.549\n",
      "==============================================================================\n",
      "Omnibus:                        0.237   Durbin-Watson:                   2.071\n",
      "Prob(Omnibus):                  0.888   Jarque-Bera (JB):                0.144\n",
      "Skew:                           0.191   Prob(JB):                        0.930\n",
      "Kurtosis:                       2.622   Cond. No.                         16.4\n",
      "==============================================================================\n",
      "\n",
      "Notes:\n",
      "[1] Standard Errors assume that the covariance matrix of the errors is correctly specified.\n"
     ]
    },
    {
     "name": "stderr",
     "output_type": "stream",
     "text": [
      "/Users/bowornrat/anaconda3/lib/python3.10/site-packages/scipy/stats/_stats_py.py:1736: UserWarning: kurtosistest only valid for n>=20 ... continuing anyway, n=12\n",
      "  warnings.warn(\"kurtosistest only valid for n>=20 ... continuing \"\n"
     ]
    }
   ],
   "source": [
    "alpha = 0.05\n",
    "\n",
    "x = df_sales.ad_cost\n",
    "y = df_sales.sale\n",
    "x_wconst = sm.add_constant(x)\n",
    "lr = sm.OLS(y, x_wconst).fit()\n",
    "print(lr.summary())"
   ]
  },
  {
   "cell_type": "code",
   "execution_count": 9,
   "id": "681142e1-7c73-4c50-a8f2-d4a32ce006a1",
   "metadata": {},
   "outputs": [
    {
     "name": "stdout",
     "output_type": "stream",
     "text": [
      "24.170817597336125 4.9646027437307145 0.0006081181882655805\n"
     ]
    }
   ],
   "source": [
    "# H0: ไม่มีความสัมพันธ์เชิงเส้นตรงกัน\n",
    "# H1: มีความสัมพันธ์เชิงเส้นตรงกัน\n",
    "\n",
    "f_cal = lr.fvalue\n",
    "f_crit = stats.f.isf(alpha, dfn=1, dfd=10)\n",
    "p_value = lr.f_pvalue\n",
    "\n",
    "print(f_cal, f_crit, p_value)\n",
    "\n",
    "# ปฏิเสธสมมติฐานหลัก H0 (มีความสัมพันธ์เชิงเส้นตรงกัน)"
   ]
  },
  {
   "cell_type": "code",
   "execution_count": 10,
   "id": "caf8e580-5eb6-4ecc-b381-f96cc5acab6e",
   "metadata": {},
   "outputs": [
    {
     "name": "stdout",
     "output_type": "stream",
     "text": [
      "0.7073526270913817\n"
     ]
    }
   ],
   "source": [
    "# สัมประสิทธิ์การตัดสินใจ\n",
    "r2 = lr.rsquared\n",
    "print(r2)"
   ]
  }
 ],
 "metadata": {
  "kernelspec": {
   "display_name": "Python 3 (ipykernel)",
   "language": "python",
   "name": "python3"
  },
  "language_info": {
   "codemirror_mode": {
    "name": "ipython",
    "version": 3
   },
   "file_extension": ".py",
   "mimetype": "text/x-python",
   "name": "python",
   "nbconvert_exporter": "python",
   "pygments_lexer": "ipython3",
   "version": "3.10.9"
  }
 },
 "nbformat": 4,
 "nbformat_minor": 5
}
