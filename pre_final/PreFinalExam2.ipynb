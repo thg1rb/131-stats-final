{
 "cells": [
  {
   "cell_type": "code",
   "execution_count": 1,
   "id": "e7270c72-b8fc-4fcb-a13f-27982b61fb64",
   "metadata": {},
   "outputs": [],
   "source": [
    "import numpy as np\n",
    "import pandas as pd\n",
    "from scipy import stats\n",
    "from statsmodels.stats.weightstats import ztest\n",
    "from numpy import format_float_scientific as fsci"
   ]
  },
  {
   "cell_type": "markdown",
   "id": "5db3e061-d22a-4e80-8db1-a265f92ba49d",
   "metadata": {},
   "source": [
    "#### 2. "
   ]
  },
  {
   "cell_type": "code",
   "execution_count": 2,
   "id": "c4def124-80a4-46ff-a757-426e4003333b",
   "metadata": {},
   "outputs": [
    {
     "name": "stdout",
     "output_type": "stream",
     "text": [
      "4.397413067473458e+01 <= mu <= 8.982586932526543e+01\n"
     ]
    }
   ],
   "source": [
    "# n < 30 และไม่ทราบความแปรปรวน\n",
    "\n",
    "n = 10\n",
    "sample = [67, 62, 109, 55, 97, 33, 69, 57, 72, 48]\n",
    "alpha = 1 - (99/100)\n",
    "\n",
    "x_bar = np.mean(sample)\n",
    "s = np.std(sample, ddof=1)\n",
    "\n",
    "left = x_bar + stats.t.ppf(alpha/2, df=n-1) * (s / np.sqrt(n))\n",
    "right = x_bar + stats.t.isf(alpha/2, df=n-1) * (s / np.sqrt(n))\n",
    "\n",
    "print(f\"{fsci(left)} <= mu <= {fsci(right)}\")"
   ]
  },
  {
   "cell_type": "markdown",
   "id": "5296170f-a2ed-4561-9eb3-5db1d0759329",
   "metadata": {},
   "source": [
    "#### 3."
   ]
  },
  {
   "cell_type": "code",
   "execution_count": 3,
   "id": "4f364485-4533-46a6-a63c-f0d1f238493c",
   "metadata": {},
   "outputs": [
    {
     "name": "stdout",
     "output_type": "stream",
     "text": [
      "-1.7360615080185433e+00 1.395976510020072e+00 1.7360615080185433e+00 1.8005830202126757e-01\n"
     ]
    }
   ],
   "source": [
    "# mu1: ค่าเฉลี่ยระยะเวลาสำรองไฟสูงสุดของ ups ยี่ห้อ A\n",
    "# mu2: ค่าเฉลี่ยระยะเวลาสำรองไฟสูงสุดของ ups ยี่ห้อ A\n",
    "\n",
    "# H0: mu1 - m2 == 0 (ไม่แตกต่างกัน)\n",
    "# H1: mu1 - m2 != 0 (แตกต่างกัน)\n",
    "# n < 30 และความแปรปรวนไม่เท่ากัน\n",
    "\n",
    "n1 = n2 = 10\n",
    "sampleA = [53, 62, 45, 47, 54, 56, 66, 71, 48, 57]\n",
    "sampleB = [32, 49, 54, 57, 67, 42, 44, 54, 57, 46]\n",
    "alpha = 0.1\n",
    "\n",
    "s1_2 = np.var(sampleA, ddof=1)\n",
    "s2_2 = np.var(sampleB, ddof=1)\n",
    "\n",
    "df = ( (s1_2/n1) + (s2_2/n2) )**2 / ( ( (s1_2/n1)**2 / (n1-1) ) + ( (s2_2/n2)**2 / (n2-1) ) )\n",
    "\n",
    "\n",
    "t_cal, p_value = stats.ttest_ind(a=sampleA,\n",
    "                                 b=sampleB,\n",
    "                                 equal_var=False,\n",
    "                                 alternative=\"two-sided\")\n",
    "t_crit_left = stats.t.ppf(alpha/2, df=df)\n",
    "t_crit_right = stats.t.isf(alpha/2, df=df)\n",
    "\n",
    "print(fsci(t_crit_left), fsci(t_cal), fsci(t_crit_right), fsci(p_value))\n",
    "\n",
    "# ยอมรับสมมติฐานหลัก (ไม่แตกต่างกัน)"
   ]
  }
 ],
 "metadata": {
  "kernelspec": {
   "display_name": "Python 3 (ipykernel)",
   "language": "python",
   "name": "python3"
  },
  "language_info": {
   "codemirror_mode": {
    "name": "ipython",
    "version": 3
   },
   "file_extension": ".py",
   "mimetype": "text/x-python",
   "name": "python",
   "nbconvert_exporter": "python",
   "pygments_lexer": "ipython3",
   "version": "3.11.7"
  }
 },
 "nbformat": 4,
 "nbformat_minor": 5
}
