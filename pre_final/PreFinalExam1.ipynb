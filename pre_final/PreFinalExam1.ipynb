{
 "cells": [
  {
   "cell_type": "code",
   "execution_count": 1,
   "id": "892af381-1804-47c1-994e-b2a8bf424b6a",
   "metadata": {},
   "outputs": [],
   "source": [
    "import numpy as np\n",
    "import pandas as pd\n",
    "from scipy import stats\n",
    "from statsmodels.stats.weightstats import ztest\n",
    "from numpy import format_float_scientific as fsci"
   ]
  },
  {
   "cell_type": "markdown",
   "id": "064f63c6-55d8-45af-9d99-62a90d0aecfd",
   "metadata": {},
   "source": [
    "#### 2."
   ]
  },
  {
   "cell_type": "code",
   "execution_count": 2,
   "id": "cc7bd0e1-a16e-4a53-8018-26d31d87c616",
   "metadata": {},
   "outputs": [
    {
     "name": "stdout",
     "output_type": "stream",
     "text": [
      "4.82976652901773e+01 <= mu <= 8.23023347098227e+01\n"
     ]
    }
   ],
   "source": [
    "# n < 30 และไม่ทราบความแปรปรวน\n",
    "\n",
    "n = 10\n",
    "sample = [70, 55, 110, 45, 92, 35, 75, 56, 75, 40]\n",
    "alpha = 1 - (95/100)\n",
    "\n",
    "x_bar = np.mean(sample)\n",
    "s = np.std(sample, ddof=1)\n",
    "\n",
    "left = x_bar + stats.t.ppf(alpha/2, df=n-1) * (s / np.sqrt(n))\n",
    "right = x_bar + stats.t.isf(alpha/2, df=n-1) * (s / np.sqrt(n))\n",
    "\n",
    "print(f\"{fsci(left)} <= mu <= {fsci(right)}\")"
   ]
  },
  {
   "cell_type": "markdown",
   "id": "0ae2b10d-10b5-4357-9e18-549a4a0ac842",
   "metadata": {},
   "source": [
    "#### 3."
   ]
  },
  {
   "cell_type": "code",
   "execution_count": 3,
   "id": "19fd063d-649b-4142-bb17-02b6f49f0629",
   "metadata": {},
   "outputs": [
    {
     "name": "stdout",
     "output_type": "stream",
     "text": [
      "-2.10092204024096e+00 -7.416808046007421e-01 2.10092204024096e+00 4.678484088500957e-01\n"
     ]
    }
   ],
   "source": [
    "# mu1: ค่าเฉลี่ยระยะเวลาสำรองไฟสูงสุดของ ups ยี่ห้อ A\n",
    "# mu2: ค่าเฉลี่ยระยะเวลาสำรองไฟสูงสุดของ ups ยี่ห้อ A\n",
    "\n",
    "# H0: mu1 - m2 == 0 (ไม่แตกต่างกัน)\n",
    "# H1: mu1 - m2 != 0 (แตกต่างกัน)\n",
    "# n < 30 และความแปรปรวนเท่ากัน\n",
    "\n",
    "n = 10\n",
    "sampleA = [46, 52, 47, 44, 49, 43, 45, 55, 45, 47]\n",
    "sampleB = [45, 48, 48, 47, 57, 47, 46, 45, 55, 48]\n",
    "alpha = 0.05\n",
    "\n",
    "t_cal, p_value = stats.ttest_ind(a=sampleA,\n",
    "                                 b=sampleB,\n",
    "                                 equal_var=True,\n",
    "                                 alternative=\"two-sided\")\n",
    "t_crit_left = stats.t.ppf(alpha/2, df=n+n-2)\n",
    "t_crit_right = stats.t.isf(alpha/2, df=n+n-2)\n",
    "\n",
    "print(fsci(t_crit_left), fsci(t_cal), fsci(t_crit_right), fsci(p_value))\n",
    "\n",
    "# ยอมรับสมมติฐานหลัก H0 (ไม่แตกต่างกัน)"
   ]
  }
 ],
 "metadata": {
  "kernelspec": {
   "display_name": "Python 3 (ipykernel)",
   "language": "python",
   "name": "python3"
  },
  "language_info": {
   "codemirror_mode": {
    "name": "ipython",
    "version": 3
   },
   "file_extension": ".py",
   "mimetype": "text/x-python",
   "name": "python",
   "nbconvert_exporter": "python",
   "pygments_lexer": "ipython3",
   "version": "3.11.7"
  }
 },
 "nbformat": 4,
 "nbformat_minor": 5
}
