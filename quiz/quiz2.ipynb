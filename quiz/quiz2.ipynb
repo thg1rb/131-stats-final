{
 "cells": [
  {
   "cell_type": "code",
   "execution_count": 1,
   "id": "e4feda97-ad80-473f-8d2c-645b41f6b0fc",
   "metadata": {},
   "outputs": [],
   "source": [
    "import numpy as np\n",
    "import pandas as pd\n",
    "from scipy import stats\n",
    "import statsmodels.api as sm"
   ]
  },
  {
   "cell_type": "markdown",
   "id": "a5106438-ad6d-4d2a-9e17-08ea952169d5",
   "metadata": {},
   "source": [
    "#### 1 จากตัวอย่างที่ 10.4 (ชุดข้อมูล 'cosmetic.csv') สัดส่วนการครองตลาด (%) และกำไรจ่ายคืนลูกค้า (%)มีความสัมพันธ์ในทิศทางเดียวกัน และมีแนวโน้มเป็นเส้นตรงินใจ"
   ]
  },
  {
   "cell_type": "markdown",
   "id": "7f8e0b63-21e9-4f3c-b562-578edc3c72fc",
   "metadata": {},
   "source": [
    "ให้นิสิตทำการ:\n",
    "\n",
    "- สร้างสมการถดถอยหาค่า b0 และ b1 (y คือสัดส่วนการครองตลาด, x คือกำไรจ่ายคืนลูกค้า)\n",
    "- หากมีค่าสัดส่วนการตลาดเท่ากับ 70% จงคำนวณกำไรจ่ายคืนลูกค้าจากสมการที่ได้\n",
    "- ทดสอบว่าสัดส่วนการครองตลาดและกำไรจ่ายคืนลูกค้ามีความสัมพันธ์เชิงเส้นตรงที่ระดับนัยสำคัญ 0.01 พร้อมทั้งแสดงค่าสัมประสิทธิ์การตัดสินใจ"
   ]
  },
  {
   "cell_type": "code",
   "execution_count": 2,
   "id": "a21b30a3-d34c-490c-8b1e-0916bcb0171c",
   "metadata": {},
   "outputs": [
    {
     "data": {
      "text/html": [
       "<div>\n",
       "<style scoped>\n",
       "    .dataframe tbody tr th:only-of-type {\n",
       "        vertical-align: middle;\n",
       "    }\n",
       "\n",
       "    .dataframe tbody tr th {\n",
       "        vertical-align: top;\n",
       "    }\n",
       "\n",
       "    .dataframe thead th {\n",
       "        text-align: right;\n",
       "    }\n",
       "</style>\n",
       "<table border=\"1\" class=\"dataframe\">\n",
       "  <thead>\n",
       "    <tr style=\"text-align: right;\">\n",
       "      <th></th>\n",
       "      <th>mk_share</th>\n",
       "      <th>payback_customer</th>\n",
       "    </tr>\n",
       "  </thead>\n",
       "  <tbody>\n",
       "    <tr>\n",
       "      <th>0</th>\n",
       "      <td>15</td>\n",
       "      <td>24</td>\n",
       "    </tr>\n",
       "    <tr>\n",
       "      <th>1</th>\n",
       "      <td>14</td>\n",
       "      <td>20</td>\n",
       "    </tr>\n",
       "    <tr>\n",
       "      <th>2</th>\n",
       "      <td>18</td>\n",
       "      <td>25</td>\n",
       "    </tr>\n",
       "    <tr>\n",
       "      <th>3</th>\n",
       "      <td>20</td>\n",
       "      <td>28</td>\n",
       "    </tr>\n",
       "    <tr>\n",
       "      <th>4</th>\n",
       "      <td>10</td>\n",
       "      <td>15</td>\n",
       "    </tr>\n",
       "  </tbody>\n",
       "</table>\n",
       "</div>"
      ],
      "text/plain": [
       "   mk_share  payback_customer\n",
       "0        15                24\n",
       "1        14                20\n",
       "2        18                25\n",
       "3        20                28\n",
       "4        10                15"
      ]
     },
     "execution_count": 2,
     "metadata": {},
     "output_type": "execute_result"
    }
   ],
   "source": [
    "df = pd.read_csv(\"https://kasets.art/QdsyoF\")\n",
    "df.head()"
   ]
  },
  {
   "cell_type": "markdown",
   "id": "67f45655-b26b-47da-b510-ae923b4fbf5c",
   "metadata": {},
   "source": [
    "#### 1.1)"
   ]
  },
  {
   "cell_type": "code",
   "execution_count": 6,
   "id": "89232ec7-56f7-442f-8308-f5ad50650ee4",
   "metadata": {},
   "outputs": [
    {
     "name": "stdout",
     "output_type": "stream",
     "text": [
      "                            OLS Regression Results                            \n",
      "==============================================================================\n",
      "Dep. Variable:               mk_share   R-squared:                       0.746\n",
      "Model:                            OLS   Adj. R-squared:                  0.725\n",
      "Method:                 Least Squares   F-statistic:                     35.31\n",
      "Date:                Fri, 22 Mar 2024   Prob (F-statistic):           6.79e-05\n",
      "Time:                        22:06:46   Log-Likelihood:                -28.283\n",
      "No. Observations:                  14   AIC:                             60.57\n",
      "Df Residuals:                      12   BIC:                             61.84\n",
      "Df Model:                           1                                         \n",
      "Covariance Type:            nonrobust                                         \n",
      "====================================================================================\n",
      "                       coef    std err          t      P>|t|      [0.025      0.975]\n",
      "------------------------------------------------------------------------------------\n",
      "const                4.4957      1.868      2.407      0.033       0.427       8.565\n",
      "payback_customer     0.5500      0.093      5.942      0.000       0.348       0.752\n",
      "==============================================================================\n",
      "Omnibus:                        0.325   Durbin-Watson:                   0.989\n",
      "Prob(Omnibus):                  0.850   Jarque-Bera (JB):                0.433\n",
      "Skew:                           0.275   Prob(JB):                        0.805\n",
      "Kurtosis:                       2.336   Cond. No.                         71.7\n",
      "==============================================================================\n",
      "\n",
      "Notes:\n",
      "[1] Standard Errors assume that the covariance matrix of the errors is correctly specified.\n"
     ]
    },
    {
     "name": "stderr",
     "output_type": "stream",
     "text": [
      "C:\\Users\\Bowornrat\\anaconda3\\envs\\ProgStat_Py3_11\\Lib\\site-packages\\scipy\\stats\\_stats_py.py:1806: UserWarning: kurtosistest only valid for n>=20 ... continuing anyway, n=14\n",
      "  warnings.warn(\"kurtosistest only valid for n>=20 ... continuing \"\n"
     ]
    }
   ],
   "source": [
    "# b0 และ b1\n",
    "\n",
    "y = df.mk_share\n",
    "x = df.payback_customer\n",
    "\n",
    "x_wconst = sm.add_constant(x)\n",
    "lr = sm.OLS(y, x_wconst).fit()\n",
    "\n",
    "b0 = lr.params[\"const\"]\n",
    "b1 = lr.params[\"payback_customer\"]\n",
    "\n",
    "print(lr.summary())"
   ]
  },
  {
   "cell_type": "markdown",
   "id": "db7706af-47fa-455f-8c9b-cdd6e5570831",
   "metadata": {},
   "source": [
    "#### 1.2)"
   ]
  },
  {
   "cell_type": "code",
   "execution_count": 12,
   "id": "3c4f0ceb-7666-4938-b278-2cab211d7c7a",
   "metadata": {},
   "outputs": [
    {
     "name": "stdout",
     "output_type": "stream",
     "text": [
      "119.09025787965606\n"
     ]
    }
   ],
   "source": [
    "# y_hat = b0 + b1*x\n",
    "\n",
    "x = (70 - b0) / b1\n",
    "print(x)"
   ]
  },
  {
   "cell_type": "markdown",
   "id": "3bb5f830-df2c-439c-98aa-e2e69be7a40f",
   "metadata": {},
   "source": [
    "#### 1.3)"
   ]
  },
  {
   "cell_type": "code",
   "execution_count": 16,
   "id": "b3160f92-b201-42dc-a5e1-18571c2c2d0f",
   "metadata": {},
   "outputs": [
    {
     "name": "stdout",
     "output_type": "stream",
     "text": [
      "35.31111991573331 9.330212103168536 6.793657739462245e-05\n"
     ]
    }
   ],
   "source": [
    "# H0: b1 == 0 สัดส่วนการครองตลาดและกำไรจ่ายคืนลูกค้า ไม่มีความสัมพันธ์เชิงเส้นตรงกัน\n",
    "# H1: b1 != 0 สัดส่วนการครองตลาดและกำไรจ่ายคืนลูกค้า มีความสัมพันธ์เชิงเส้นตรงกัน\n",
    "\n",
    "alpha = 0.01\n",
    "n = df.shape[0]\n",
    "\n",
    "f_cal = lr.fvalue\n",
    "f_crit = stats.f.isf(alpha, dfn=1, dfd=12)\n",
    "p_value = lr.f_pvalue\n",
    "\n",
    "print(f_cal, f_crit, p_value)\n",
    "\n",
    "# ปฏิเสธสมมติฐานหลัก H0 (มีความสัมพันธ์เชิงเส้นตรงกัน)"
   ]
  },
  {
   "cell_type": "code",
   "execution_count": 17,
   "id": "d4f3da7d-d921-4d24-9f4f-c8a5366cfdfa",
   "metadata": {},
   "outputs": [
    {
     "name": "stdout",
     "output_type": "stream",
     "text": [
      "0.7463598405327665\n"
     ]
    }
   ],
   "source": [
    "# สัมประสิทธิ์การตัดสินใจ\n",
    "r2 = lr.rsquared\n",
    "print(r2)"
   ]
  }
 ],
 "metadata": {
  "kernelspec": {
   "display_name": "Python 3 (ipykernel)",
   "language": "python",
   "name": "python3"
  },
  "language_info": {
   "codemirror_mode": {
    "name": "ipython",
    "version": 3
   },
   "file_extension": ".py",
   "mimetype": "text/x-python",
   "name": "python",
   "nbconvert_exporter": "python",
   "pygments_lexer": "ipython3",
   "version": "3.11.7"
  }
 },
 "nbformat": 4,
 "nbformat_minor": 5
}
