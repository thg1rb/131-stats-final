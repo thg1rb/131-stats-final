{
 "cells": [
  {
   "cell_type": "code",
   "execution_count": 1,
   "id": "320bd36f-a74f-48cc-8b9f-079c23759337",
   "metadata": {},
   "outputs": [],
   "source": [
    "import numpy as np\n",
    "import pandas as pd\n",
    "from scipy import stats\n",
    "import statsmodels.api as sm"
   ]
  },
  {
   "cell_type": "markdown",
   "id": "c1f0a1ad-bd53-4f0c-8b5f-1060daf95b89",
   "metadata": {},
   "source": [
    "#### 1) จงทดสอบที่ระดับนัยสำคัญ 0.05 ว่า ข้อมูลจำนวนกระบอกสูบ (cyl) เป็นอิสระจากข้อมูลระบบเครื่องยนต์ (vs) หรือไม่"
   ]
  },
  {
   "cell_type": "code",
   "execution_count": 2,
   "id": "dd76c40a-3c41-4ff0-b115-1a1e6a844989",
   "metadata": {},
   "outputs": [
    {
     "data": {
      "text/html": [
       "<div>\n",
       "<style scoped>\n",
       "    .dataframe tbody tr th:only-of-type {\n",
       "        vertical-align: middle;\n",
       "    }\n",
       "\n",
       "    .dataframe tbody tr th {\n",
       "        vertical-align: top;\n",
       "    }\n",
       "\n",
       "    .dataframe thead th {\n",
       "        text-align: right;\n",
       "    }\n",
       "</style>\n",
       "<table border=\"1\" class=\"dataframe\">\n",
       "  <thead>\n",
       "    <tr style=\"text-align: right;\">\n",
       "      <th></th>\n",
       "      <th>model</th>\n",
       "      <th>mpg</th>\n",
       "      <th>cyl</th>\n",
       "      <th>disp</th>\n",
       "      <th>hp</th>\n",
       "      <th>drat</th>\n",
       "      <th>wt</th>\n",
       "      <th>qsec</th>\n",
       "      <th>vs</th>\n",
       "      <th>am</th>\n",
       "      <th>gear</th>\n",
       "      <th>carb</th>\n",
       "    </tr>\n",
       "  </thead>\n",
       "  <tbody>\n",
       "    <tr>\n",
       "      <th>0</th>\n",
       "      <td>Mazda RX4</td>\n",
       "      <td>21.0</td>\n",
       "      <td>6</td>\n",
       "      <td>160.0</td>\n",
       "      <td>110</td>\n",
       "      <td>3.90</td>\n",
       "      <td>2.620</td>\n",
       "      <td>16.46</td>\n",
       "      <td>0</td>\n",
       "      <td>1</td>\n",
       "      <td>4</td>\n",
       "      <td>4</td>\n",
       "    </tr>\n",
       "    <tr>\n",
       "      <th>1</th>\n",
       "      <td>Mazda RX4 Wag</td>\n",
       "      <td>21.0</td>\n",
       "      <td>6</td>\n",
       "      <td>160.0</td>\n",
       "      <td>110</td>\n",
       "      <td>3.90</td>\n",
       "      <td>2.875</td>\n",
       "      <td>17.02</td>\n",
       "      <td>0</td>\n",
       "      <td>1</td>\n",
       "      <td>4</td>\n",
       "      <td>4</td>\n",
       "    </tr>\n",
       "    <tr>\n",
       "      <th>2</th>\n",
       "      <td>Datsun 710</td>\n",
       "      <td>22.8</td>\n",
       "      <td>4</td>\n",
       "      <td>108.0</td>\n",
       "      <td>93</td>\n",
       "      <td>3.85</td>\n",
       "      <td>2.320</td>\n",
       "      <td>18.61</td>\n",
       "      <td>1</td>\n",
       "      <td>1</td>\n",
       "      <td>4</td>\n",
       "      <td>1</td>\n",
       "    </tr>\n",
       "    <tr>\n",
       "      <th>3</th>\n",
       "      <td>Hornet 4 Drive</td>\n",
       "      <td>21.4</td>\n",
       "      <td>6</td>\n",
       "      <td>258.0</td>\n",
       "      <td>110</td>\n",
       "      <td>3.08</td>\n",
       "      <td>3.215</td>\n",
       "      <td>19.44</td>\n",
       "      <td>1</td>\n",
       "      <td>0</td>\n",
       "      <td>3</td>\n",
       "      <td>1</td>\n",
       "    </tr>\n",
       "    <tr>\n",
       "      <th>4</th>\n",
       "      <td>Hornet Sportabout</td>\n",
       "      <td>18.7</td>\n",
       "      <td>8</td>\n",
       "      <td>360.0</td>\n",
       "      <td>175</td>\n",
       "      <td>3.15</td>\n",
       "      <td>3.440</td>\n",
       "      <td>17.02</td>\n",
       "      <td>0</td>\n",
       "      <td>0</td>\n",
       "      <td>3</td>\n",
       "      <td>2</td>\n",
       "    </tr>\n",
       "  </tbody>\n",
       "</table>\n",
       "</div>"
      ],
      "text/plain": [
       "               model   mpg  cyl   disp   hp  drat     wt   qsec  vs  am  gear  \\\n",
       "0          Mazda RX4  21.0    6  160.0  110  3.90  2.620  16.46   0   1     4   \n",
       "1      Mazda RX4 Wag  21.0    6  160.0  110  3.90  2.875  17.02   0   1     4   \n",
       "2         Datsun 710  22.8    4  108.0   93  3.85  2.320  18.61   1   1     4   \n",
       "3     Hornet 4 Drive  21.4    6  258.0  110  3.08  3.215  19.44   1   0     3   \n",
       "4  Hornet Sportabout  18.7    8  360.0  175  3.15  3.440  17.02   0   0     3   \n",
       "\n",
       "   carb  \n",
       "0     4  \n",
       "1     4  \n",
       "2     1  \n",
       "3     1  \n",
       "4     2  "
      ]
     },
     "execution_count": 2,
     "metadata": {},
     "output_type": "execute_result"
    }
   ],
   "source": [
    "df = pd.read_csv(\"http://tinyurl.com/ProgStatMtcars\")\n",
    "df.head()"
   ]
  },
  {
   "cell_type": "code",
   "execution_count": 3,
   "id": "6f883a12-5389-47f5-808c-3b05e17f70a6",
   "metadata": {},
   "outputs": [
    {
     "name": "stdout",
     "output_type": "stream",
     "text": [
      "21.339929911358485 5.991464547107983 2.3232347637946903e-05\n"
     ]
    }
   ],
   "source": [
    "# H0: กระบอกสูบและระบบเครื่องยนต์ ไม่มีความสัมพันธ์กัน\n",
    "# H1: กระบอกสูบและระบบเครื่องยนต์ มีความสัมพันธ์กัน\n",
    "\n",
    "alpha = 0.05\n",
    "df_cyl_vs = pd.crosstab(df.cyl, df.vs)\n",
    "\n",
    "O = np.array(df_cyl_vs)\n",
    "\n",
    "chi2_cal, p_value, dof, E = stats.chi2_contingency(O, correction=False)\n",
    "chi2_crit = stats.chi2.isf(alpha, df=(df_cyl_vs.shape[0]-1)*(df_cyl_vs.shape[1]-1))\n",
    "\n",
    "print(chi2_cal, chi2_crit, p_value)\n",
    "\n",
    "# ปฏิเสธสมมติฐานหลัก H0 (กระบอกสูบและระบบเครื่องยนต์ มีความสัมพันธ์กัน)"
   ]
  },
  {
   "cell_type": "markdown",
   "id": "9b2235d1-2474-413b-a553-293d3e738d8f",
   "metadata": {},
   "source": [
    "#### 2) จากชุดข้อมูล mtcars.csv จงทดสอบว่าอัตราส่วนของรถที่มีจำนวนกระบอกสูบ 4, 6, และ 8 คือ 2:1:2 หรือไม่ที่ระดับนัยสำคัญ 0.1"
   ]
  },
  {
   "cell_type": "code",
   "execution_count": 4,
   "id": "e8001d14-2252-4c5a-9190-22c60edf2056",
   "metadata": {},
   "outputs": [
    {
     "name": "stdout",
     "output_type": "stream",
     "text": [
      "0.42187499999999994 4.605170185988092 0.8098246793420794\n"
     ]
    }
   ],
   "source": [
    "# H0: อัตราส่วนของรถที่มีจำนวนกระบอกสูบ 4, 6, และ 8 เท่ากับ 2:1:2\n",
    "# H1: อัตราส่วนของรถที่มีจำนวนกระบอกสูบ 4, 6, และ 8 ไม่เท่ากับ 2:1:2\n",
    "\n",
    "alpha = 0.1\n",
    "n = df.cyl.value_counts().sum()\n",
    "k = 3\n",
    "\n",
    "O = np.array([11, 7, 14])\n",
    "p = np.array([2/5, 1/5, 2/5])\n",
    "E = n*p\n",
    "\n",
    "chi2_cal, p_value = stats.chisquare(f_obs=O, f_exp=E)\n",
    "chi2_crit = stats.chi2.isf(alpha, df=k-1)\n",
    "\n",
    "print(chi2_cal, chi2_crit, p_value)\n",
    "\n",
    "# ยอมรับสมมติฐานหลัก H0 (เท่ากับ)"
   ]
  },
  {
   "cell_type": "markdown",
   "id": "9339cddf-a3f2-4efa-9c8d-ab87f35a62f5",
   "metadata": {},
   "source": [
    "#### 3 จากชุดข้อมูล mtcars.csv จงหาค่าสัมประสิทธิ์สหสัมพันธ์ระหว่างแรงม้า (hp) และ ระยะทางที่รถวิ่งได้ในหน่วยไมล์โดยใช้น้ำมัน 1 แกลลอน (mpg) และทดสอบว่า hp และ mpg มีความสัมพันธ์เชิงเส้นหรือไม่ ที่ระดับนัยสำคัญ 0.05"
   ]
  },
  {
   "cell_type": "code",
   "execution_count": 5,
   "id": "fe05f1ad-f918-4cfb-a18d-77bc1509e7be",
   "metadata": {},
   "outputs": [
    {
     "name": "stdout",
     "output_type": "stream",
     "text": [
      "-0.7761683718265864 1.7878352541210675e-07\n"
     ]
    }
   ],
   "source": [
    "# สัมประสิทธิ์สหสัมพันธ์\n",
    "r, p_value = stats.pearsonr(df.hp, df.mpg)\n",
    "print(r, p_value)"
   ]
  },
  {
   "cell_type": "code",
   "execution_count": 6,
   "id": "d8b69392-4829-4b82-a8a5-fe24003755d2",
   "metadata": {},
   "outputs": [
    {
     "name": "stdout",
     "output_type": "stream",
     "text": [
      "-2.042272456301238 -6.74238854270679 2.042272456301238 1.7878352541210675e-07\n"
     ]
    }
   ],
   "source": [
    "# H0: ρ == 0 hp และ mpg ไม่มีความสัมพันธ์เชิงเส้นกัน\n",
    "# H1: ρ != 0 hp และ mpg มีความสัมพันธ์เชิงเส้นกัน\n",
    "\n",
    "n = df.shape[0]\n",
    "alpha = 0.05\n",
    "\n",
    "Sr = np.sqrt( (1-r**2) / (n-2) )\n",
    "\n",
    "t_cal = r / Sr\n",
    "t_crit_left = stats.t.ppf(alpha/2, df=n-2)\n",
    "t_crit_right = stats.t.isf(alpha/2, df=n-2)\n",
    "\n",
    "print(t_crit_left, t_cal, t_crit_right, p_value)\n",
    "\n",
    "# ปฏิเสธสมมบติฐานหลัก H0 (hp และ mpg มีความสัมพันธ์เชิงเส้นกัน)"
   ]
  }
 ],
 "metadata": {
  "kernelspec": {
   "display_name": "Python 3 (ipykernel)",
   "language": "python",
   "name": "python3"
  },
  "language_info": {
   "codemirror_mode": {
    "name": "ipython",
    "version": 3
   },
   "file_extension": ".py",
   "mimetype": "text/x-python",
   "name": "python",
   "nbconvert_exporter": "python",
   "pygments_lexer": "ipython3",
   "version": "3.11.7"
  }
 },
 "nbformat": 4,
 "nbformat_minor": 5
}
